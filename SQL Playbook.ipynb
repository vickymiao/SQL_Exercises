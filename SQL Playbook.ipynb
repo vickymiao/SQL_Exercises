{
 "cells": [
  {
   "cell_type": "code",
   "execution_count": 5,
   "metadata": {},
   "outputs": [],
   "source": [
    "load_ext sql"
   ]
  },
  {
   "cell_type": "code",
   "execution_count": 7,
   "metadata": {},
   "outputs": [
    {
     "data": {
      "text/plain": [
       "'Connected: @None'"
      ]
     },
     "execution_count": 7,
     "metadata": {},
     "output_type": "execute_result"
    }
   ],
   "source": [
    "%sql sqlite://"
   ]
  },
  {
   "cell_type": "code",
   "execution_count": 8,
   "metadata": {},
   "outputs": [
    {
     "name": "stdout",
     "output_type": "stream",
     "text": [
      " * sqlite://\n",
      "Done.\n",
      "Done.\n",
      "Done.\n",
      "Done.\n",
      "Done.\n",
      "Done.\n"
     ]
    },
    {
     "data": {
      "text/plain": [
       "[]"
      ]
     },
     "execution_count": 8,
     "metadata": {},
     "output_type": "execute_result"
    }
   ],
   "source": [
    "%%sql\n",
    "create table QSPL\n",
    "(\tSPLNO\tint\tprimary key,\n",
    " \tSPLNAME\tvarchar(40) not null\n",
    ");\n",
    "\n",
    "create table QITEM\n",
    "(\tITEMNAME\tvarchar(40)\tprimary key,\n",
    "\tITEMTYPE\tchar(1)\t\tnot null,\n",
    " \tITEMCOLOR\tvarchar(20)\n",
    ");\n",
    "\n",
    "create table QDEPT\n",
    "(\tDEPTNAME\tvarchar(15)\tprimary key,\n",
    " \tDEPTFLOOR\tinteger\t\tnot null,\n",
    " \tDEPTPHONE\tinteger\t\tnot null,\n",
    " \tEMPNO\t\tinteger\t\tnot null\n",
    ");\n",
    "\n",
    "create table QEMP\n",
    "(\tEMPNO\t\tinteger\t\tprimary key,\n",
    " \tEMPFNAME\tvarchar(20)\tnot null,\n",
    " \tEMPSALARY\tinteger\t\tnot null,\n",
    " \tDEPTNAME\tvarchar(15)\tnot null,\n",
    " \tBOSSNO\t\tinteger,\n",
    "constraint EmpFK1 Foreign Key(BOSSNO) references QEMP(EMPNO),\n",
    "constraint EmpFK2 Foreign Key(DEPTNAME) references QDEPT(DEPTNAME)\n",
    ");\n",
    "\n",
    "create table QSALE\n",
    "(\tSALENO\t\tinteger\t\tprimary key,\n",
    " \tSALEQTY\t\tinteger\t\tnot null,\t\t\t\t\t\t\t\t\t\t\t\t\t\t\t\t\t\t\t\t\t\t\t\t\t\t\t\t\t\t\t\t\t\t\t\t\t\t\t\t\t\t\t\t\t\t\t\t\t\t\t\t\t\t\t\t\t\t\t\t\t\t\t\t\t\t\t\t\t\t\t\t\t\t\t\t\t\t\t\t\t\t\t\t\t\t\t\t\t\t\t\t\t\t\t\t\t\n",
    " \tITEMNAME\tvarchar(40)\tnot null,\n",
    "\tDEPTNAME\tvarchar(15)\tnot null,\n",
    "constraint SALEFK1 Foreign Key(ITEMNAME) references QITEM(ITEMNAME),\n",
    "constraint SALEFK2 Foreign Key(DEPTNAME) references QDEPT(DEPTNAME)\n",
    ");\n",
    " \n",
    "create table QDEL\n",
    "(\tDELNO\t\tinteger\t\tprimary key,\n",
    " \tDELQTY\t\tinteger\t\tnot null,\n",
    " \tITEMNAME\tvarchar(40)\tnot null,\n",
    " \tDEPTNAME\tvarchar(15)\tnot null,\n",
    " \tSPLNO\t\tinteger\t\tnot null,\n",
    "constraint DELFK1 Foreign Key(ITEMNAME) references QITEM(ITEMNAME),\n",
    "constraint DELFK2 Foreign Key(DEPTNAME) references QDEPT(DEPTNAME),\n",
    "constraint DELFK3 Foreign Key(SPLNO) references QSPL(SPLNO)\n",
    ");\n"
   ]
  },
  {
   "cell_type": "code",
   "execution_count": 9,
   "metadata": {},
   "outputs": [
    {
     "name": "stdout",
     "output_type": "stream",
     "text": [
      " * sqlite://\n",
      "1 rows affected.\n",
      "1 rows affected.\n",
      "1 rows affected.\n",
      "1 rows affected.\n",
      "1 rows affected.\n",
      "1 rows affected.\n",
      "1 rows affected.\n",
      "1 rows affected.\n",
      "1 rows affected.\n",
      "1 rows affected.\n",
      "1 rows affected.\n",
      "1 rows affected.\n",
      "1 rows affected.\n",
      "1 rows affected.\n",
      "1 rows affected.\n",
      "1 rows affected.\n",
      "1 rows affected.\n",
      "1 rows affected.\n",
      "1 rows affected.\n",
      "1 rows affected.\n",
      "1 rows affected.\n",
      "1 rows affected.\n",
      "1 rows affected.\n",
      "1 rows affected.\n",
      "1 rows affected.\n",
      "1 rows affected.\n",
      "1 rows affected.\n",
      "1 rows affected.\n",
      "1 rows affected.\n",
      "1 rows affected.\n",
      "1 rows affected.\n",
      "1 rows affected.\n",
      "1 rows affected.\n",
      "1 rows affected.\n",
      "1 rows affected.\n",
      "1 rows affected.\n",
      "1 rows affected.\n",
      "1 rows affected.\n",
      "1 rows affected.\n",
      "1 rows affected.\n",
      "1 rows affected.\n",
      "1 rows affected.\n",
      "1 rows affected.\n",
      "1 rows affected.\n",
      "1 rows affected.\n",
      "1 rows affected.\n",
      "1 rows affected.\n",
      "1 rows affected.\n",
      "1 rows affected.\n",
      "1 rows affected.\n",
      "1 rows affected.\n"
     ]
    },
    {
     "data": {
      "text/plain": [
       "[]"
      ]
     },
     "execution_count": 9,
     "metadata": {},
     "output_type": "execute_result"
    }
   ],
   "source": [
    "%%sql\n",
    "insert into QDEL values (51,50,'Pocket knife-Nile','Navigation',105);\n",
    "insert into QDEL values (52,10,'Pocket knife-Nile','Books',105);\n",
    "insert into QDEL values (53,10,'Pocket knife-Nile','Clothes',105);\n",
    "insert into QDEL values (54,10,'Pocket knife-Nile','Equipment',105);\n",
    "insert into QDEL values (55,10,'Pocket knife-Nile','Furniture',105);\n",
    "insert into QDEL values (56,10,'Pocket knife-Nile','Recreation',105);\n",
    "insert into QDEL values (57,50,'Compass','Navigation',101);\n",
    "insert into QDEL values (58,10,'Geo positioning system','Navigation',101);\n",
    "insert into QDEL values (59,10,'Map measure','Navigation',101);\n",
    "insert into QDEL values (60,25,'Map case','Navigation',101);\n",
    "insert into QDEL values (61,2,'Sextant','Navigation',101);\n",
    "insert into QDEL values (62,1,'Sextant','Equipment',105);\n",
    "insert into QDEL values (63,20,'Compass','Equipment',103);\n",
    "insert into QDEL values (64,1,'Geo positioning system','Books',103);\n",
    "insert into QDEL values (65,15,'Map measure','Navigation',103);\n",
    "insert into QDEL values (66,1,'Sextant','Books',103);\n",
    "insert into QDEL values (67,5,'Sextant','Recreation',102);\n",
    "insert into QDEL values (68,3,'Sextant','Navigation',104);\n",
    "insert into QDEL values (69,5,'Boots-snakeproof','Clothes',105);\n",
    "insert into QDEL values (70,15,'Pith helmet','Clothes',105);\n",
    "insert into QDEL values (71,1,'Pith helmet','Clothes',101);\n",
    "insert into QDEL values (72,1,'Pith helmet','Clothes',102);\n",
    "insert into QDEL values (73,1,'Pith helmet','Clothes',103);\n",
    "insert into QDEL values (74,1,'Pith helmet','Clothes',104);\n",
    "insert into QDEL values (75,5,'Pith helmet','Navigation',105);\n",
    "insert into QDEL values (76,5,'Pith helmet','Books',105);\n",
    "insert into QDEL values (77,5,'Pith helmet','Equipment',105);\n",
    "insert into QDEL values (78,5,'Pith helmet','Furniture',105);\n",
    "insert into QDEL values (79,5,'Pith helmet','Recreation',105);\n",
    "insert into QDEL values (80,10,'Pocket knife-Nile','Navigation',102);\n",
    "insert into QDEL values (81,1,'Compass','Navigation',102);\n",
    "insert into QDEL values (82,1,'Geo positioning system','Navigation',102);\n",
    "insert into QDEL values (83,10,'Map measure','Navigation',102);\n",
    "insert into QDEL values (84,5,'Map case','Navigation',102);\n",
    "insert into QDEL values (85,5,'Compass','Books',102);\n",
    "insert into QDEL values (86,5,'Pocket knife-Avon','Recreation',102);\n",
    "insert into QDEL values (87,5,'Tent-2 person','Recreation',102);\n",
    "insert into QDEL values (88,2,'Tent-2 person','Recreation',102);\n",
    "insert into QDEL values (89,5,'Exploring in 10 Easy Lessons','Navigation',102);\n",
    "insert into QDEL values (90,5,'How to Win Foreign Friends','Navigation',102);\n",
    "insert into QDEL values (91,10,'Exploring in 10 Easy Lessons','Books',102);\n",
    "insert into QDEL values (92,10,'How to Win Foreign Friends','Books',102);\n",
    "insert into QDEL values (93,2,'Exploring in 10 Easy Lessons','Recreation',102);\n",
    "insert into QDEL values (94,2,'How to Win Foreign Friends','Recreation',102);\n",
    "insert into QDEL values (95,5,'Compass','Equipment',105);\n",
    "insert into QDEL values (96,2,'Boots-snakeproof','Equipment',105);\n",
    "insert into QDEL values (97,20,'Pith helmet','Equipment',106);\n",
    "insert into QDEL values (98,20,'Pocket knife-Nile','Equipment',106);\n",
    "insert into QDEL values (99,1,'Sextant','Equipment',106);\n",
    "insert into QDEL values (100,3,'Hat-polar explorer','Clothes',105);\n",
    "insert into QDEL values (101,3,'Stetson','Clothes',105);\n"
   ]
  },
  {
   "cell_type": "code",
   "execution_count": 10,
   "metadata": {},
   "outputs": [
    {
     "name": "stdout",
     "output_type": "stream",
     "text": [
      " * sqlite://\n",
      "1 rows affected.\n",
      "1 rows affected.\n",
      "1 rows affected.\n",
      "1 rows affected.\n",
      "1 rows affected.\n",
      "1 rows affected.\n",
      "1 rows affected.\n",
      "1 rows affected.\n",
      "1 rows affected.\n",
      "1 rows affected.\n",
      "1 rows affected.\n"
     ]
    },
    {
     "data": {
      "text/plain": [
       "[]"
      ]
     },
     "execution_count": 10,
     "metadata": {},
     "output_type": "execute_result"
    }
   ],
   "source": [
    "%%sql\n",
    "insert into QDEPT values('Management',5,34,1);\n",
    "insert into QDEPT values('Books',1,81,4);\n",
    "insert into QDEPT values('Clothes',2,24,4);\n",
    "insert into QDEPT values('Equipment',3,57,3);\n",
    "insert into QDEPT values('Furniture',4,14,3);\n",
    "insert into QDEPT values('Navigation',1,41,3);\n",
    "insert into QDEPT values('Recreation',2,29,4);\n",
    "insert into QDEPT values('Accounting',5,35,5);\n",
    "insert into QDEPT values('Purchasing',5,36,7);\n",
    "insert into QDEPT values('Personnel',5,37,9);\n",
    "insert into QDEPT values('Marketing',5,38,2);"
   ]
  },
  {
   "cell_type": "code",
   "execution_count": 11,
   "metadata": {},
   "outputs": [
    {
     "name": "stdout",
     "output_type": "stream",
     "text": [
      " * sqlite://\n",
      "1 rows affected.\n",
      "1 rows affected.\n",
      "1 rows affected.\n",
      "1 rows affected.\n",
      "1 rows affected.\n",
      "1 rows affected.\n",
      "1 rows affected.\n",
      "1 rows affected.\n",
      "1 rows affected.\n",
      "1 rows affected.\n",
      "1 rows affected.\n",
      "1 rows affected.\n",
      "1 rows affected.\n",
      "1 rows affected.\n",
      "1 rows affected.\n",
      "1 rows affected.\n",
      "1 rows affected.\n"
     ]
    },
    {
     "data": {
      "text/plain": [
       "[]"
      ]
     },
     "execution_count": 11,
     "metadata": {},
     "output_type": "execute_result"
    }
   ],
   "source": [
    "%%sql\n",
    "insert into QEMP values(1,'Alice',75000,'Management', NULL);\n",
    "insert into QEMP values(2,'Ned',45000,'Marketing',1);\n",
    "insert into QEMP values(3,'Andrew',25000,'Marketing',2);\n",
    "insert into QEMP values(4,'Clare',22000,'Marketing',2);\n",
    "insert into QEMP values(5,'Todd',38000,'Accounting',1);\n",
    "insert into QEMP values(6,'Nancy',22000,'Accounting',5);\n",
    "insert into QEMP values(7,'Brier',43000,'Purchasing',1);\n",
    "insert into QEMP values(8,'Sarah',56000,'Purchasing',7);\n",
    "insert into QEMP values(9,'Sophie',35000,'Personnel',1);\n",
    "insert into QEMP values(10,'Sanjay',15000,'Navigation',3);\n",
    "insert into QEMP values(11,'Rita',15000,'Books',4);\n",
    "insert into QEMP values(12,'Gigi',16000,'Clothes',4);\n",
    "insert into QEMP values(13,'Maggie',16000,'Clothes',4);\n",
    "insert into QEMP values(14,'Paul',11000,'Equipment',3);\n",
    "insert into QEMP values(15,'James',15000,'Equipment',3);\n",
    "insert into QEMP values(16,'Pat',15000,'Furniture',3);\n",
    "insert into QEMP values(17,'Mark',15000,'Recreation',3);"
   ]
  },
  {
   "cell_type": "code",
   "execution_count": 12,
   "metadata": {},
   "outputs": [
    {
     "name": "stdout",
     "output_type": "stream",
     "text": [
      " * sqlite://\n",
      "1 rows affected.\n",
      "1 rows affected.\n",
      "1 rows affected.\n",
      "1 rows affected.\n",
      "1 rows affected.\n",
      "1 rows affected.\n",
      "1 rows affected.\n",
      "1 rows affected.\n",
      "1 rows affected.\n",
      "1 rows affected.\n",
      "1 rows affected.\n",
      "1 rows affected.\n",
      "1 rows affected.\n",
      "1 rows affected.\n",
      "1 rows affected.\n",
      "1 rows affected.\n",
      "1 rows affected.\n",
      "1 rows affected.\n",
      "1 rows affected.\n",
      "1 rows affected.\n"
     ]
    },
    {
     "data": {
      "text/plain": [
       "[]"
      ]
     },
     "execution_count": 12,
     "metadata": {},
     "output_type": "execute_result"
    }
   ],
   "source": [
    "%%sql\n",
    "insert into QITEM values('Boots-snakeproof' , 'C', 'Green');\n",
    "insert into QITEM values('Camel saddle', 'R', 'Brown');\n",
    "insert into QITEM values('Compass', 'N', NULL);\n",
    "insert into QITEM values('Elephant polo stick', 'R', 'Bamboo');\n",
    "insert into QITEM values('Exploring in 10 Easy Lessons', 'B', NULL);\n",
    "insert into QITEM values('Geo positioning system', 'N', NULL);\n",
    "insert into QITEM values('Hammock', 'F', 'Khaki');\n",
    "insert into QITEM values('Hat-polar explorer', 'C', 'White');\n",
    "insert into QITEM values('How to Win Foreign Friends', 'B', NULL);\n",
    "insert into QITEM values('Map case', 'E', 'Brown');\n",
    "insert into QITEM values('Map measure', 'N',  NULL);\n",
    "insert into QITEM values('Pith helmet', 'C', 'Khaki');\n",
    "insert into QITEM values('Pocket knife-Avon',  'E', 'Brown');\n",
    "insert into QITEM values('Pocket knife-Nile',  'E',  'Brown');\n",
    "insert into QITEM values('Safari chair',  'F', 'Khaki');\n",
    "insert into QITEM values('Safari cooking kit', 'F', NULL);\n",
    "insert into QITEM values('Sextant', 'N', NULL);\n",
    "insert into QITEM values('Stetson',  'C', 'Black');\n",
    "insert into QITEM values('Tent-2 person', 'F', 'Khaki');\n",
    "insert into QITEM values('Tent-8 person', 'F', 'Khaki');"
   ]
  },
  {
   "cell_type": "code",
   "execution_count": 13,
   "metadata": {},
   "outputs": [
    {
     "name": "stdout",
     "output_type": "stream",
     "text": [
      " * sqlite://\n",
      "1 rows affected.\n",
      "1 rows affected.\n",
      "1 rows affected.\n",
      "1 rows affected.\n",
      "1 rows affected.\n",
      "1 rows affected.\n"
     ]
    },
    {
     "data": {
      "text/plain": [
       "[]"
      ]
     },
     "execution_count": 13,
     "metadata": {},
     "output_type": "execute_result"
    }
   ],
   "source": [
    "%%sql\n",
    "insert into QSPL values(101, 'Global Books & Maps');\n",
    "insert into QSPL values(102,  'Nepalese Corp.');\n",
    "insert into QSPL values(103 , 'All Sports Manufacturing');\n",
    "insert into QSPL values(104, 'Sweatshops Unlimited');\n",
    "insert into QSPL values(105, 'All Points, Inc.');\n",
    "insert into QSPL values(106, 'Sao Paulo Manufacturing');"
   ]
  },
  {
   "cell_type": "code",
   "execution_count": 14,
   "metadata": {},
   "outputs": [
    {
     "name": "stdout",
     "output_type": "stream",
     "text": [
      " * sqlite://\n",
      "1 rows affected.\n",
      "1 rows affected.\n",
      "1 rows affected.\n",
      "1 rows affected.\n",
      "1 rows affected.\n",
      "1 rows affected.\n",
      "1 rows affected.\n",
      "1 rows affected.\n",
      "1 rows affected.\n",
      "1 rows affected.\n",
      "1 rows affected.\n",
      "1 rows affected.\n",
      "1 rows affected.\n",
      "1 rows affected.\n",
      "1 rows affected.\n",
      "1 rows affected.\n",
      "1 rows affected.\n",
      "1 rows affected.\n",
      "1 rows affected.\n",
      "1 rows affected.\n",
      "1 rows affected.\n",
      "1 rows affected.\n",
      "1 rows affected.\n",
      "1 rows affected.\n",
      "1 rows affected.\n",
      "1 rows affected.\n"
     ]
    },
    {
     "data": {
      "text/plain": [
       "[]"
      ]
     },
     "execution_count": 14,
     "metadata": {},
     "output_type": "execute_result"
    }
   ],
   "source": [
    "%%sql\n",
    "insert into QSALE values (1001,2,'Boots-snakeproof', 'Clothes');\n",
    "insert into QSALE values (1002,1,'Pith helmet','Clothes');\n",
    "insert into QSALE values (1003,1,'Sextant','Navigation');\n",
    "insert into QSALE values (1004,3,'Hat-polar explorer','Clothes');\n",
    "insert into QSALE values (1005,5,'Pith helmet','Equipment');\n",
    "insert into QSALE values (1006,1,'Pocket knife-Nile','Clothes');\n",
    "insert into QSALE values (1007,1,'Pocket knife-Nile','Recreation');\n",
    "insert into QSALE values (1008,1,'Compass','Navigation');\n",
    "insert into QSALE values (1009,1,'Geo positioning system','Navigation');\n",
    "insert into QSALE values (1010,5,'Map measure','Navigation');\n",
    "insert into QSALE values (1011,1,'Geo positioning system','Books');\n",
    "insert into QSALE values (1012,1,'Sextant','Books');\n",
    "insert into QSALE values (1013,3,'Pocket knife-Nile','Books');\n",
    "insert into QSALE values (1014,1,'Pocket knife-Nile','Navigation');\n",
    "insert into QSALE values (1015,1,'Pocket knife-Nile','Equipment');\n",
    "insert into QSALE values (1016,1,'Sextant','Clothes');\n",
    "insert into QSALE values (1017,1,'Sextant','Equipment');\n",
    "insert into QSALE values (1018,1,'Sextant','Recreation');\n",
    "insert into QSALE values (1019,1,'Sextant','Furniture');\n",
    "insert into QSALE values (1020,1,'Pocket knife-Nile','Furniture');\n",
    "insert into QSALE values (1021,1,'Exploring in 10 Easy Lessons','Books');\n",
    "insert into QSALE values (1022,1,'How to Win Foreign Friends','Books');\n",
    "insert into QSALE values (1023,1,'Compass','Books');\n",
    "insert into QSALE values (1024,1,'Pith helmet','Books');\n",
    "insert into QSALE values (1025,1,'Elephant polo stick','Recreation');\n",
    "insert into QSALE values (1026,1,'Camel saddle','Recreation');\n",
    "\n"
   ]
  },
  {
   "cell_type": "markdown",
   "metadata": {},
   "source": [
    "1. Find the names of employees in the MKT department"
   ]
  },
  {
   "cell_type": "code",
   "execution_count": 16,
   "metadata": {},
   "outputs": [
    {
     "name": "stdout",
     "output_type": "stream",
     "text": [
      " * sqlite://\n",
      "Done.\n"
     ]
    },
    {
     "data": {
      "text/html": [
       "<table>\n",
       "    <tr>\n",
       "        <th>EMPFNAME</th>\n",
       "    </tr>\n",
       "    <tr>\n",
       "        <td>Ned</td>\n",
       "    </tr>\n",
       "    <tr>\n",
       "        <td>Andrew</td>\n",
       "    </tr>\n",
       "    <tr>\n",
       "        <td>Clare</td>\n",
       "    </tr>\n",
       "</table>"
      ],
      "text/plain": [
       "[('Ned',), ('Andrew',), ('Clare',)]"
      ]
     },
     "execution_count": 16,
     "metadata": {},
     "output_type": "execute_result"
    }
   ],
   "source": [
    "%%sql\n",
    "SELECT EMPFNAME FROM QEMP\n",
    "WHERE DEPTNAME = 'Marketing';"
   ]
  },
  {
   "cell_type": "markdown",
   "metadata": {},
   "source": [
    "2. Return the names of the items sold by a department on the second floor."
   ]
  },
  {
   "cell_type": "markdown",
   "metadata": {},
   "source": [
    "(1) IN"
   ]
  },
  {
   "cell_type": "code",
   "execution_count": 25,
   "metadata": {},
   "outputs": [
    {
     "name": "stdout",
     "output_type": "stream",
     "text": [
      " * sqlite://\n",
      "Done.\n"
     ]
    },
    {
     "data": {
      "text/html": [
       "<table>\n",
       "    <tr>\n",
       "        <th>ITEMNAME</th>\n",
       "    </tr>\n",
       "    <tr>\n",
       "        <td>Boots-snakeproof</td>\n",
       "    </tr>\n",
       "    <tr>\n",
       "        <td>Pith helmet</td>\n",
       "    </tr>\n",
       "    <tr>\n",
       "        <td>Hat-polar explorer</td>\n",
       "    </tr>\n",
       "    <tr>\n",
       "        <td>Pocket knife-Nile</td>\n",
       "    </tr>\n",
       "    <tr>\n",
       "        <td>Pocket knife-Nile</td>\n",
       "    </tr>\n",
       "    <tr>\n",
       "        <td>Sextant</td>\n",
       "    </tr>\n",
       "    <tr>\n",
       "        <td>Sextant</td>\n",
       "    </tr>\n",
       "    <tr>\n",
       "        <td>Elephant polo stick</td>\n",
       "    </tr>\n",
       "    <tr>\n",
       "        <td>Camel saddle</td>\n",
       "    </tr>\n",
       "</table>"
      ],
      "text/plain": [
       "[('Boots-snakeproof',),\n",
       " ('Pith helmet',),\n",
       " ('Hat-polar explorer',),\n",
       " ('Pocket knife-Nile',),\n",
       " ('Pocket knife-Nile',),\n",
       " ('Sextant',),\n",
       " ('Sextant',),\n",
       " ('Elephant polo stick',),\n",
       " ('Camel saddle',)]"
      ]
     },
     "execution_count": 25,
     "metadata": {},
     "output_type": "execute_result"
    }
   ],
   "source": [
    "%%sql\n",
    "SELECT ITEMNAME FROM QSALE\n",
    "WHERE DEPTNAME IN\n",
    "    (SELECT DEPTNAME FROM QDEPT WHERE DEPTFLOOR = 2);"
   ]
  },
  {
   "cell_type": "markdown",
   "metadata": {},
   "source": [
    "(2) Join"
   ]
  },
  {
   "cell_type": "code",
   "execution_count": 26,
   "metadata": {},
   "outputs": [
    {
     "name": "stdout",
     "output_type": "stream",
     "text": [
      " * sqlite://\n",
      "Done.\n"
     ]
    },
    {
     "data": {
      "text/html": [
       "<table>\n",
       "    <tr>\n",
       "        <th>ITEMNAME</th>\n",
       "    </tr>\n",
       "    <tr>\n",
       "        <td>Boots-snakeproof</td>\n",
       "    </tr>\n",
       "    <tr>\n",
       "        <td>Pith helmet</td>\n",
       "    </tr>\n",
       "    <tr>\n",
       "        <td>Hat-polar explorer</td>\n",
       "    </tr>\n",
       "    <tr>\n",
       "        <td>Pocket knife-Nile</td>\n",
       "    </tr>\n",
       "    <tr>\n",
       "        <td>Pocket knife-Nile</td>\n",
       "    </tr>\n",
       "    <tr>\n",
       "        <td>Sextant</td>\n",
       "    </tr>\n",
       "    <tr>\n",
       "        <td>Sextant</td>\n",
       "    </tr>\n",
       "    <tr>\n",
       "        <td>Elephant polo stick</td>\n",
       "    </tr>\n",
       "    <tr>\n",
       "        <td>Camel saddle</td>\n",
       "    </tr>\n",
       "</table>"
      ],
      "text/plain": [
       "[('Boots-snakeproof',),\n",
       " ('Pith helmet',),\n",
       " ('Hat-polar explorer',),\n",
       " ('Pocket knife-Nile',),\n",
       " ('Pocket knife-Nile',),\n",
       " ('Sextant',),\n",
       " ('Sextant',),\n",
       " ('Elephant polo stick',),\n",
       " ('Camel saddle',)]"
      ]
     },
     "execution_count": 26,
     "metadata": {},
     "output_type": "execute_result"
    }
   ],
   "source": [
    "%%sql\n",
    "SELECT ITEMNAME FROM QSALE s, QDEPT d\n",
    "WHERE s.DEPTNAME = d.DEPTNAME\n",
    "AND d.DEPTFLOOR = 2;"
   ]
  },
  {
   "cell_type": "markdown",
   "metadata": {},
   "source": [
    "(3) Correlated subquery"
   ]
  },
  {
   "cell_type": "code",
   "execution_count": 28,
   "metadata": {},
   "outputs": [
    {
     "name": "stdout",
     "output_type": "stream",
     "text": [
      " * sqlite://\n",
      "Done.\n"
     ]
    },
    {
     "data": {
      "text/html": [
       "<table>\n",
       "    <tr>\n",
       "        <th>ITEMNAME</th>\n",
       "    </tr>\n",
       "    <tr>\n",
       "        <td>Boots-snakeproof</td>\n",
       "    </tr>\n",
       "    <tr>\n",
       "        <td>Pith helmet</td>\n",
       "    </tr>\n",
       "    <tr>\n",
       "        <td>Hat-polar explorer</td>\n",
       "    </tr>\n",
       "    <tr>\n",
       "        <td>Pocket knife-Nile</td>\n",
       "    </tr>\n",
       "    <tr>\n",
       "        <td>Pocket knife-Nile</td>\n",
       "    </tr>\n",
       "    <tr>\n",
       "        <td>Sextant</td>\n",
       "    </tr>\n",
       "    <tr>\n",
       "        <td>Sextant</td>\n",
       "    </tr>\n",
       "    <tr>\n",
       "        <td>Elephant polo stick</td>\n",
       "    </tr>\n",
       "    <tr>\n",
       "        <td>Camel saddle</td>\n",
       "    </tr>\n",
       "</table>"
      ],
      "text/plain": [
       "[('Boots-snakeproof',),\n",
       " ('Pith helmet',),\n",
       " ('Hat-polar explorer',),\n",
       " ('Pocket knife-Nile',),\n",
       " ('Pocket knife-Nile',),\n",
       " ('Sextant',),\n",
       " ('Sextant',),\n",
       " ('Elephant polo stick',),\n",
       " ('Camel saddle',)]"
      ]
     },
     "execution_count": 28,
     "metadata": {},
     "output_type": "execute_result"
    }
   ],
   "source": [
    "%%sql\n",
    "SELECT ITEMNAME FROM QSALE s\n",
    "WHERE DEPTNAME IN (\n",
    "    SELECT DEPTNAME FROM QDEPT e\n",
    "    WHERE s.DEPTNAME = e.DEPTNAME\n",
    "    AND e.DEPTFLOOR = 2);"
   ]
  },
  {
   "cell_type": "markdown",
   "metadata": {},
   "source": [
    "(4) Exists"
   ]
  },
  {
   "cell_type": "code",
   "execution_count": 31,
   "metadata": {},
   "outputs": [
    {
     "name": "stdout",
     "output_type": "stream",
     "text": [
      " * sqlite://\n",
      "Done.\n"
     ]
    },
    {
     "data": {
      "text/html": [
       "<table>\n",
       "    <tr>\n",
       "        <th>ITEMNAME</th>\n",
       "    </tr>\n",
       "    <tr>\n",
       "        <td>Boots-snakeproof</td>\n",
       "    </tr>\n",
       "    <tr>\n",
       "        <td>Pith helmet</td>\n",
       "    </tr>\n",
       "    <tr>\n",
       "        <td>Hat-polar explorer</td>\n",
       "    </tr>\n",
       "    <tr>\n",
       "        <td>Pocket knife-Nile</td>\n",
       "    </tr>\n",
       "    <tr>\n",
       "        <td>Sextant</td>\n",
       "    </tr>\n",
       "    <tr>\n",
       "        <td>Elephant polo stick</td>\n",
       "    </tr>\n",
       "    <tr>\n",
       "        <td>Camel saddle</td>\n",
       "    </tr>\n",
       "</table>"
      ],
      "text/plain": [
       "[('Boots-snakeproof',),\n",
       " ('Pith helmet',),\n",
       " ('Hat-polar explorer',),\n",
       " ('Pocket knife-Nile',),\n",
       " ('Sextant',),\n",
       " ('Elephant polo stick',),\n",
       " ('Camel saddle',)]"
      ]
     },
     "execution_count": 31,
     "metadata": {},
     "output_type": "execute_result"
    }
   ],
   "source": [
    "%%sql\n",
    "SELECT DISTINCT ITEMNAME FROM QSALE\n",
    "WHERE EXISTS\n",
    "    (SELECT * FROM QDEPT\n",
    "    WHERE QSALE.DEPTNAME = QDEPT.DEPTNAME AND DEPTFLOOR = 2);"
   ]
  },
  {
   "cell_type": "markdown",
   "metadata": {},
   "source": [
    "3. Find the names of items sold on floors other than the second floor."
   ]
  },
  {
   "cell_type": "code",
   "execution_count": 34,
   "metadata": {},
   "outputs": [
    {
     "name": "stdout",
     "output_type": "stream",
     "text": [
      " * sqlite://\n",
      "Done.\n"
     ]
    },
    {
     "data": {
      "text/html": [
       "<table>\n",
       "    <tr>\n",
       "        <th>ITEMNAME</th>\n",
       "    </tr>\n",
       "    <tr>\n",
       "        <td>Compass</td>\n",
       "    </tr>\n",
       "    <tr>\n",
       "        <td>Exploring in 10 Easy Lessons</td>\n",
       "    </tr>\n",
       "    <tr>\n",
       "        <td>Geo positioning system</td>\n",
       "    </tr>\n",
       "    <tr>\n",
       "        <td>How to Win Foreign Friends</td>\n",
       "    </tr>\n",
       "    <tr>\n",
       "        <td>Map measure</td>\n",
       "    </tr>\n",
       "    <tr>\n",
       "        <td>Pith helmet</td>\n",
       "    </tr>\n",
       "    <tr>\n",
       "        <td>Pocket knife-Nile</td>\n",
       "    </tr>\n",
       "    <tr>\n",
       "        <td>Sextant</td>\n",
       "    </tr>\n",
       "</table>"
      ],
      "text/plain": [
       "[('Compass',),\n",
       " ('Exploring in 10 Easy Lessons',),\n",
       " ('Geo positioning system',),\n",
       " ('How to Win Foreign Friends',),\n",
       " ('Map measure',),\n",
       " ('Pith helmet',),\n",
       " ('Pocket knife-Nile',),\n",
       " ('Sextant',)]"
      ]
     },
     "execution_count": 34,
     "metadata": {},
     "output_type": "execute_result"
    }
   ],
   "source": [
    "%%sql\n",
    "SELECT DISTINCT ITEMNAME FROM QSALE\n",
    "WHERE DEPTNAME NOT IN (\n",
    "    SELECT DEPTNAME FROM QDEPT WHERE DEPTFLOOR = 2)\n",
    "ORDER BY ITEMNAME;"
   ]
  },
  {
   "cell_type": "markdown",
   "metadata": {},
   "source": [
    "4. Find the names of the sold items that are not sold by any department on the second floor."
   ]
  },
  {
   "cell_type": "code",
   "execution_count": 35,
   "metadata": {},
   "outputs": [
    {
     "name": "stdout",
     "output_type": "stream",
     "text": [
      " * sqlite://\n",
      "Done.\n"
     ]
    },
    {
     "data": {
      "text/html": [
       "<table>\n",
       "    <tr>\n",
       "        <th>ITEMNAME</th>\n",
       "    </tr>\n",
       "    <tr>\n",
       "        <td>Compass</td>\n",
       "    </tr>\n",
       "    <tr>\n",
       "        <td>Geo positioning system</td>\n",
       "    </tr>\n",
       "    <tr>\n",
       "        <td>Map measure</td>\n",
       "    </tr>\n",
       "    <tr>\n",
       "        <td>Exploring in 10 Easy Lessons</td>\n",
       "    </tr>\n",
       "    <tr>\n",
       "        <td>How to Win Foreign Friends</td>\n",
       "    </tr>\n",
       "</table>"
      ],
      "text/plain": [
       "[('Compass',),\n",
       " ('Geo positioning system',),\n",
       " ('Map measure',),\n",
       " ('Exploring in 10 Easy Lessons',),\n",
       " ('How to Win Foreign Friends',)]"
      ]
     },
     "execution_count": 35,
     "metadata": {},
     "output_type": "execute_result"
    }
   ],
   "source": [
    "%%sql\n",
    "SELECT DISTINCT ITEMNAME FROM QSALE\n",
    "WHERE ITEMNAME NOT IN (\n",
    "    SELECT DISTINCT ITEMNAME FROM QSALE, QDEPT\n",
    "    WHERE QSALE.DEPTNAME = QDEPT.DEPTNAME AND DEPTFLOOR = 2);"
   ]
  },
  {
   "cell_type": "markdown",
   "metadata": {},
   "source": [
    "5. Find the items sold by all departments on the second floor."
   ]
  },
  {
   "cell_type": "code",
   "execution_count": 39,
   "metadata": {},
   "outputs": [
    {
     "name": "stdout",
     "output_type": "stream",
     "text": [
      " * sqlite://\n",
      "Done.\n"
     ]
    },
    {
     "data": {
      "text/html": [
       "<table>\n",
       "    <tr>\n",
       "        <th>ITEMNAME</th>\n",
       "    </tr>\n",
       "    <tr>\n",
       "        <td>Pocket knife-Nile</td>\n",
       "    </tr>\n",
       "    <tr>\n",
       "        <td>Sextant</td>\n",
       "    </tr>\n",
       "</table>"
      ],
      "text/plain": [
       "[('Pocket knife-Nile',), ('Sextant',)]"
      ]
     },
     "execution_count": 39,
     "metadata": {},
     "output_type": "execute_result"
    }
   ],
   "source": [
    "%%sql\n",
    "SELECT QSALE.ITEMNAME FROM QSALE, QDEPT\n",
    "WHERE QSALE.DEPTNAME = QDEPT.DEPTNAME AND QDEPT.DEPTFLOOR = 2\n",
    "GROUP BY QSALE.ITEMNAME\n",
    "HAVING COUNT(DISTINCT QDEPT.DEPTNAME) = \n",
    "    (SELECT COUNT(DISTINCT DEPTNAME) FROM QDEPT WHERE DEPTFLOOR = 2);"
   ]
  },
  {
   "cell_type": "markdown",
   "metadata": {},
   "source": [
    "6. Find the items sold by at least two departments on the second floor."
   ]
  },
  {
   "cell_type": "code",
   "execution_count": 41,
   "metadata": {},
   "outputs": [
    {
     "name": "stdout",
     "output_type": "stream",
     "text": [
      " * sqlite://\n",
      "Done.\n"
     ]
    },
    {
     "data": {
      "text/html": [
       "<table>\n",
       "    <tr>\n",
       "        <th>ITEMNAME</th>\n",
       "    </tr>\n",
       "    <tr>\n",
       "        <td>Pocket knife-Nile</td>\n",
       "    </tr>\n",
       "    <tr>\n",
       "        <td>Sextant</td>\n",
       "    </tr>\n",
       "</table>"
      ],
      "text/plain": [
       "[('Pocket knife-Nile',), ('Sextant',)]"
      ]
     },
     "execution_count": 41,
     "metadata": {},
     "output_type": "execute_result"
    }
   ],
   "source": [
    "%%sql\n",
    "SELECT QSALE.ITEMNAME FROM QSALE, QDEPT\n",
    "WHERE QSALE.DEPTNAME = QDEPT.DEPTNAME AND QDEPT.DEPTFLOOR = 2\n",
    "GROUP BY QSALE.ITEMNAME\n",
    "HAVING COUNT(DISTINCT QDEPT.DEPTNAME) >= 2;"
   ]
  },
  {
   "cell_type": "markdown",
   "metadata": {},
   "source": [
    "7. Find the salary of Clare's manager."
   ]
  },
  {
   "cell_type": "code",
   "execution_count": 48,
   "metadata": {},
   "outputs": [
    {
     "name": "stdout",
     "output_type": "stream",
     "text": [
      " * sqlite://\n",
      "Done.\n"
     ]
    },
    {
     "data": {
      "text/html": [
       "<table>\n",
       "    <tr>\n",
       "        <th>EMPFNAME</th>\n",
       "        <th>EMPSALARY</th>\n",
       "    </tr>\n",
       "    <tr>\n",
       "        <td>Ned</td>\n",
       "        <td>45000</td>\n",
       "    </tr>\n",
       "</table>"
      ],
      "text/plain": [
       "[('Ned', 45000)]"
      ]
     },
     "execution_count": 48,
     "metadata": {},
     "output_type": "execute_result"
    }
   ],
   "source": [
    "%%sql\n",
    "SELECT EMPFNAME,EMPSALARY FROM QEMP\n",
    "WHERE EMPNO = (\n",
    "    SELECT BOSSNO FROM QEMP WHERE EMPFNAME = 'Clare');"
   ]
  },
  {
   "cell_type": "markdown",
   "metadata": {},
   "source": [
    "8. Find numbers and names of those employees who make more than their manager."
   ]
  },
  {
   "cell_type": "code",
   "execution_count": 58,
   "metadata": {},
   "outputs": [
    {
     "name": "stdout",
     "output_type": "stream",
     "text": [
      " * sqlite://\n",
      "Done.\n"
     ]
    },
    {
     "data": {
      "text/html": [
       "<table>\n",
       "    <tr>\n",
       "        <th>Emp</th>\n",
       "    </tr>\n",
       "    <tr>\n",
       "        <td>Sarah</td>\n",
       "    </tr>\n",
       "</table>"
      ],
      "text/plain": [
       "[('Sarah',)]"
      ]
     },
     "execution_count": 58,
     "metadata": {},
     "output_type": "execute_result"
    }
   ],
   "source": [
    "%%sql\n",
    "SELECT DISTINCT q1.EMPFNAME 'Emp' \n",
    "FROM QEMP q1, QEMP q2 WHERE q1.BOSSNO = q2.EMPNO\n",
    "AND q1.EMPSALARY > q2.EMPSALARY;"
   ]
  },
  {
   "cell_type": "markdown",
   "metadata": {},
   "source": [
    "9. Find the departments where all the employees earn less thier manager (Note: Management Dept does not have any boss)"
   ]
  },
  {
   "cell_type": "code",
   "execution_count": 68,
   "metadata": {},
   "outputs": [
    {
     "name": "stdout",
     "output_type": "stream",
     "text": [
      " * sqlite://\n",
      "Done.\n"
     ]
    },
    {
     "data": {
      "text/html": [
       "<table>\n",
       "    <tr>\n",
       "        <th>DEPTNAME</th>\n",
       "    </tr>\n",
       "    <tr>\n",
       "        <td>Accounting</td>\n",
       "    </tr>\n",
       "    <tr>\n",
       "        <td>Books</td>\n",
       "    </tr>\n",
       "    <tr>\n",
       "        <td>Clothes</td>\n",
       "    </tr>\n",
       "    <tr>\n",
       "        <td>Equipment</td>\n",
       "    </tr>\n",
       "    <tr>\n",
       "        <td>Furniture</td>\n",
       "    </tr>\n",
       "    <tr>\n",
       "        <td>Marketing</td>\n",
       "    </tr>\n",
       "    <tr>\n",
       "        <td>Navigation</td>\n",
       "    </tr>\n",
       "    <tr>\n",
       "        <td>Personnel</td>\n",
       "    </tr>\n",
       "    <tr>\n",
       "        <td>Recreation</td>\n",
       "    </tr>\n",
       "</table>"
      ],
      "text/plain": [
       "[('Accounting',),\n",
       " ('Books',),\n",
       " ('Clothes',),\n",
       " ('Equipment',),\n",
       " ('Furniture',),\n",
       " ('Marketing',),\n",
       " ('Navigation',),\n",
       " ('Personnel',),\n",
       " ('Recreation',)]"
      ]
     },
     "execution_count": 68,
     "metadata": {},
     "output_type": "execute_result"
    }
   ],
   "source": [
    "%%sql\n",
    "SELECT DISTINCT DEPTNAME FROM QEMP WHERE DEPTNAME <> 'Management' AND\n",
    "DEPTNAME NOT IN\n",
    "(\n",
    "SELECT DISTINCT q1.DEPTNAME\n",
    "FROM QEMP q1, QEMP q2 \n",
    "WHERE q1.BOSSNO = q2.EMPNO\n",
    "AND q1.EMPSALARY > q2.EMPSALARY) \n",
    "ORDER BY DEPTNAME;"
   ]
  },
  {
   "cell_type": "markdown",
   "metadata": {},
   "source": [
    "10. Return EMPNO, EMPNAME of each manager, and number of employees she/he manages directly (Employee A is deirct employee of Manager B if and only if B is A's boss)"
   ]
  },
  {
   "cell_type": "code",
   "execution_count": 81,
   "metadata": {},
   "outputs": [
    {
     "name": "stdout",
     "output_type": "stream",
     "text": [
      " * sqlite://\n",
      "Done.\n"
     ]
    },
    {
     "data": {
      "text/html": [
       "<table>\n",
       "    <tr>\n",
       "        <th>Boss</th>\n",
       "        <th>COUNT(q1.EMPFNAME)</th>\n",
       "    </tr>\n",
       "    <tr>\n",
       "        <td>Alice</td>\n",
       "        <td>4</td>\n",
       "    </tr>\n",
       "    <tr>\n",
       "        <td>Andrew</td>\n",
       "        <td>5</td>\n",
       "    </tr>\n",
       "    <tr>\n",
       "        <td>Brier</td>\n",
       "        <td>1</td>\n",
       "    </tr>\n",
       "    <tr>\n",
       "        <td>Clare</td>\n",
       "        <td>3</td>\n",
       "    </tr>\n",
       "    <tr>\n",
       "        <td>Ned</td>\n",
       "        <td>2</td>\n",
       "    </tr>\n",
       "    <tr>\n",
       "        <td>Todd</td>\n",
       "        <td>1</td>\n",
       "    </tr>\n",
       "</table>"
      ],
      "text/plain": [
       "[('Alice', 4),\n",
       " ('Andrew', 5),\n",
       " ('Brier', 1),\n",
       " ('Clare', 3),\n",
       " ('Ned', 2),\n",
       " ('Todd', 1)]"
      ]
     },
     "execution_count": 81,
     "metadata": {},
     "output_type": "execute_result"
    }
   ],
   "source": [
    "%%sql\n",
    "SELECT q2.EMPFNAME 'Boss', COUNT(q1.EMPFNAME)\n",
    "FROM QEMP q1, QEMP q2 WHERE q1.BOSSNO = q2.EMPNO\n",
    "GROUP BY q2.EMPFNAME\n",
    "ORDER BY q2.EMPFNAME;"
   ]
  },
  {
   "cell_type": "markdown",
   "metadata": {},
   "source": [
    "11. Find the names of employees who are in the same department as their manager (as an employee). Report the name of the employee, the department, and the boss's name."
   ]
  },
  {
   "cell_type": "code",
   "execution_count": 86,
   "metadata": {},
   "outputs": [
    {
     "name": "stdout",
     "output_type": "stream",
     "text": [
      " * sqlite://\n",
      "Done.\n"
     ]
    },
    {
     "data": {
      "text/html": [
       "<table>\n",
       "    <tr>\n",
       "        <th>Staff</th>\n",
       "        <th>Boss</th>\n",
       "        <th>Department</th>\n",
       "    </tr>\n",
       "    <tr>\n",
       "        <td>Andrew</td>\n",
       "        <td>Ned</td>\n",
       "        <td>Marketing</td>\n",
       "    </tr>\n",
       "    <tr>\n",
       "        <td>Clare</td>\n",
       "        <td>Ned</td>\n",
       "        <td>Marketing</td>\n",
       "    </tr>\n",
       "    <tr>\n",
       "        <td>Nancy</td>\n",
       "        <td>Todd</td>\n",
       "        <td>Accounting</td>\n",
       "    </tr>\n",
       "    <tr>\n",
       "        <td>Sarah</td>\n",
       "        <td>Brier</td>\n",
       "        <td>Purchasing</td>\n",
       "    </tr>\n",
       "</table>"
      ],
      "text/plain": [
       "[('Andrew', 'Ned', 'Marketing'),\n",
       " ('Clare', 'Ned', 'Marketing'),\n",
       " ('Nancy', 'Todd', 'Accounting'),\n",
       " ('Sarah', 'Brier', 'Purchasing')]"
      ]
     },
     "execution_count": 86,
     "metadata": {},
     "output_type": "execute_result"
    }
   ],
   "source": [
    "%%sql\n",
    "SELECT q1.EMPFNAME 'Staff', q2.EMPFNAME 'Boss', q1.DEPTNAME 'Department'\n",
    "FROM QEMP q1, QEMP q2 WHERE q1.BOSSNO = q2.EMPNO\n",
    "AND q1.DEPTNAME = q2.DEPTNAME;"
   ]
  },
  {
   "cell_type": "markdown",
   "metadata": {},
   "source": [
    "12. List DEPTNAME and the average salary of those departments having an average salary over $25,000."
   ]
  },
  {
   "cell_type": "code",
   "execution_count": 89,
   "metadata": {},
   "outputs": [
    {
     "name": "stdout",
     "output_type": "stream",
     "text": [
      " * sqlite://\n",
      "Done.\n"
     ]
    },
    {
     "data": {
      "text/html": [
       "<table>\n",
       "    <tr>\n",
       "        <th>DEPTNAME</th>\n",
       "        <th>AVG(EMPSALARY)</th>\n",
       "    </tr>\n",
       "    <tr>\n",
       "        <td>Accounting</td>\n",
       "        <td>30000.0</td>\n",
       "    </tr>\n",
       "    <tr>\n",
       "        <td>Management</td>\n",
       "        <td>75000.0</td>\n",
       "    </tr>\n",
       "    <tr>\n",
       "        <td>Marketing</td>\n",
       "        <td>30666.666666666668</td>\n",
       "    </tr>\n",
       "    <tr>\n",
       "        <td>Personnel</td>\n",
       "        <td>35000.0</td>\n",
       "    </tr>\n",
       "    <tr>\n",
       "        <td>Purchasing</td>\n",
       "        <td>49500.0</td>\n",
       "    </tr>\n",
       "</table>"
      ],
      "text/plain": [
       "[('Accounting', 30000.0),\n",
       " ('Management', 75000.0),\n",
       " ('Marketing', 30666.666666666668),\n",
       " ('Personnel', 35000.0),\n",
       " ('Purchasing', 49500.0)]"
      ]
     },
     "execution_count": 89,
     "metadata": {},
     "output_type": "execute_result"
    }
   ],
   "source": [
    "%%sql\n",
    "SELECT DEPTNAME, AVG(EMPSALARY) FROM QEMP \n",
    "GROUP BY DEPTNAME\n",
    "HAVING AVG(EMPSALARY) > 25000;"
   ]
  },
  {
   "cell_type": "markdown",
   "metadata": {},
   "source": [
    "13. List the departments where the average salary of the non-manager employees is more than $25,000 (the manager employee of a department refers to the employee listed under EMPNO column of QDEPT table, for example, employee with EMPNO = 4 is the manager of BOOKS department).\n"
   ]
  },
  {
   "cell_type": "code",
   "execution_count": 91,
   "metadata": {},
   "outputs": [
    {
     "name": "stdout",
     "output_type": "stream",
     "text": [
      " * sqlite://\n",
      "Done.\n"
     ]
    },
    {
     "data": {
      "text/html": [
       "<table>\n",
       "    <tr>\n",
       "        <th>DEPTNAME</th>\n",
       "        <th>AVG(WRK.EMPSALARY)</th>\n",
       "    </tr>\n",
       "    <tr>\n",
       "        <td>Purchasing</td>\n",
       "        <td>56000.0</td>\n",
       "    </tr>\n",
       "</table>"
      ],
      "text/plain": [
       "[('Purchasing', 56000.0)]"
      ]
     },
     "execution_count": 91,
     "metadata": {},
     "output_type": "execute_result"
    }
   ],
   "source": [
    "%%sql\n",
    "SELECT WRK.DEPTNAME, AVG(WRK.EMPSALARY)\n",
    "FROM QEMP WRK\n",
    "WHERE WRK.EMPNO NOT IN\n",
    "(SELECT QDEPT.EMPNO FROM QDEPT\n",
    "WHERE WRK.DEPTNAME = QDEPT.DEPTNAME)\n",
    "GROUP BY WRK.DEPTNAME\n",
    "HAVING AVG(WRK.EMPSALARY) > 25000;"
   ]
  },
  {
   "cell_type": "markdown",
   "metadata": {},
   "source": [
    "14. List the name and salary of the managers who manage more than two employees."
   ]
  },
  {
   "cell_type": "code",
   "execution_count": 94,
   "metadata": {},
   "outputs": [
    {
     "name": "stdout",
     "output_type": "stream",
     "text": [
      " * sqlite://\n",
      "Done.\n"
     ]
    },
    {
     "data": {
      "text/html": [
       "<table>\n",
       "    <tr>\n",
       "        <th>EMPFNAME</th>\n",
       "        <th>EMPSALARY</th>\n",
       "    </tr>\n",
       "    <tr>\n",
       "        <td>Alice</td>\n",
       "        <td>75000</td>\n",
       "    </tr>\n",
       "    <tr>\n",
       "        <td>Andrew</td>\n",
       "        <td>25000</td>\n",
       "    </tr>\n",
       "    <tr>\n",
       "        <td>Clare</td>\n",
       "        <td>22000</td>\n",
       "    </tr>\n",
       "</table>"
      ],
      "text/plain": [
       "[('Alice', 75000), ('Andrew', 25000), ('Clare', 22000)]"
      ]
     },
     "execution_count": 94,
     "metadata": {},
     "output_type": "execute_result"
    }
   ],
   "source": [
    "%%sql\n",
    "SELECT q2.EMPFNAME, q2.EMPSALARY\n",
    "FROM QEMP q1, QEMP q2\n",
    "WHERE q1.BOSSNO = q2.EMPNO\n",
    "GROUP BY q1.BOSSNO\n",
    "HAVING COUNT(q1.EMPNO) > 2;"
   ]
  },
  {
   "cell_type": "code",
   "execution_count": 95,
   "metadata": {},
   "outputs": [
    {
     "name": "stdout",
     "output_type": "stream",
     "text": [
      " * sqlite://\n",
      "Done.\n"
     ]
    },
    {
     "data": {
      "text/html": [
       "<table>\n",
       "    <tr>\n",
       "        <th>EMPFNAME</th>\n",
       "        <th>EMPSALARY</th>\n",
       "    </tr>\n",
       "    <tr>\n",
       "        <td>Alice</td>\n",
       "        <td>75000</td>\n",
       "    </tr>\n",
       "    <tr>\n",
       "        <td>Andrew</td>\n",
       "        <td>25000</td>\n",
       "    </tr>\n",
       "    <tr>\n",
       "        <td>Clare</td>\n",
       "        <td>22000</td>\n",
       "    </tr>\n",
       "</table>"
      ],
      "text/plain": [
       "[('Alice', 75000), ('Andrew', 25000), ('Clare', 22000)]"
      ]
     },
     "execution_count": 95,
     "metadata": {},
     "output_type": "execute_result"
    }
   ],
   "source": [
    "%%sql\n",
    "SELECT EMPFNAME, EMPSALARY FROM QEMP\n",
    "WHERE EMPNO IN\n",
    "(SELECT BOSSNO FROM QEMP\n",
    "GROUP BY BOSSNO HAVING COUNT(*) > 2);"
   ]
  },
  {
   "cell_type": "markdown",
   "metadata": {},
   "source": [
    "15. List the name, salary, and manager of the employees of the Marketing department who have a salary over $25,000."
   ]
  },
  {
   "cell_type": "code",
   "execution_count": 98,
   "metadata": {},
   "outputs": [
    {
     "name": "stdout",
     "output_type": "stream",
     "text": [
      " * sqlite://\n",
      "Done.\n"
     ]
    },
    {
     "data": {
      "text/html": [
       "<table>\n",
       "    <tr>\n",
       "        <th>EMPFNAME</th>\n",
       "        <th>EMPSALARY</th>\n",
       "        <th>EMPFNAME_1</th>\n",
       "    </tr>\n",
       "    <tr>\n",
       "        <td>Ned</td>\n",
       "        <td>45000</td>\n",
       "        <td>Alice</td>\n",
       "    </tr>\n",
       "</table>"
      ],
      "text/plain": [
       "[('Ned', 45000, 'Alice')]"
      ]
     },
     "execution_count": 98,
     "metadata": {},
     "output_type": "execute_result"
    }
   ],
   "source": [
    "%%sql\n",
    "SELECT WRK.EMPFNAME, WRK.EMPSALARY, BOSS.EMPFNAME\n",
    "FROM QEMP WRK, QEMP BOSS\n",
    "WHERE WRK.BOSSNO = BOSS.EMPNO\n",
    "AND WRK.DEPTNAME = 'Marketing' AND WRK.EMPSALARY > 25000;"
   ]
  },
  {
   "cell_type": "markdown",
   "metadata": {},
   "source": [
    "16. List the names of the employees who earn more than any employee in the Marketing department."
   ]
  },
  {
   "cell_type": "code",
   "execution_count": 104,
   "metadata": {},
   "outputs": [
    {
     "name": "stdout",
     "output_type": "stream",
     "text": [
      " * sqlite://\n",
      "Done.\n"
     ]
    },
    {
     "data": {
      "text/html": [
       "<table>\n",
       "    <tr>\n",
       "        <th>EMPFNAME</th>\n",
       "    </tr>\n",
       "    <tr>\n",
       "        <td>Alice</td>\n",
       "    </tr>\n",
       "    <tr>\n",
       "        <td>Sarah</td>\n",
       "    </tr>\n",
       "</table>"
      ],
      "text/plain": [
       "[('Alice',), ('Sarah',)]"
      ]
     },
     "execution_count": 104,
     "metadata": {},
     "output_type": "execute_result"
    }
   ],
   "source": [
    "%%sql\n",
    "SELECT EMPFNAME FROM QEMP\n",
    "WHERE EMPSALARY > (\n",
    "    SELECT MAX(EMPSALARY)\n",
    "    FROM QEMP\n",
    "    WHERE DEPTNAME = 'Marketing');"
   ]
  },
  {
   "cell_type": "markdown",
   "metadata": {},
   "source": [
    "17. Among all the departments with total salary greater than $25,000, find DEPTNAME of those departments that sell Pocket knife-Nile."
   ]
  },
  {
   "cell_type": "code",
   "execution_count": 118,
   "metadata": {},
   "outputs": [
    {
     "name": "stdout",
     "output_type": "stream",
     "text": [
      " * sqlite://\n",
      "Done.\n"
     ]
    },
    {
     "data": {
      "text/html": [
       "<table>\n",
       "    <tr>\n",
       "        <th>DEPTNAME</th>\n",
       "    </tr>\n",
       "    <tr>\n",
       "        <td>Clothes</td>\n",
       "    </tr>\n",
       "    <tr>\n",
       "        <td>Equipment</td>\n",
       "    </tr>\n",
       "</table>"
      ],
      "text/plain": [
       "[('Clothes',), ('Equipment',)]"
      ]
     },
     "execution_count": 118,
     "metadata": {},
     "output_type": "execute_result"
    }
   ],
   "source": [
    "%%sql\n",
    "SELECT DISTINCT DEPTNAME\n",
    "FROM QEMP\n",
    "WHERE DEPTNAME IN\n",
    "        (SELECT DEPTNAME\n",
    "        FROM QSALE\n",
    "         WHERE ITEMNAME = 'Pocket knife-Nile')\n",
    "GROUP by DEPTNAME\n",
    "HAVING SUM(EMPSALARY) > 25000;\n"
   ]
  },
  {
   "cell_type": "code",
   "execution_count": 110,
   "metadata": {},
   "outputs": [
    {
     "name": "stdout",
     "output_type": "stream",
     "text": [
      " * sqlite://\n",
      "Done.\n"
     ]
    },
    {
     "data": {
      "text/html": [
       "<table>\n",
       "    <tr>\n",
       "        <th>DEPTNAME</th>\n",
       "    </tr>\n",
       "    <tr>\n",
       "        <td>Clothes</td>\n",
       "    </tr>\n",
       "    <tr>\n",
       "        <td>Equipment</td>\n",
       "    </tr>\n",
       "</table>"
      ],
      "text/plain": [
       "[('Clothes',), ('Equipment',)]"
      ]
     },
     "execution_count": 110,
     "metadata": {},
     "output_type": "execute_result"
    }
   ],
   "source": [
    "%%sql\n",
    "SELECT DISTINCT DEPTNAME FROM QSALE\n",
    "WHERE ITEMNAME = 'Pocket knife-Nile' AND DEPTNAME IN\n",
    "(SELECT DEPTNAME FROM QEMP\n",
    "GROUP BY DEPTNAME HAVING SUM(EMPSALARY) > 25000);"
   ]
  },
  {
   "cell_type": "markdown",
   "metadata": {},
   "source": [
    "19. Find SPLNO and SPLNAME of those suppliers that deliver compasses."
   ]
  },
  {
   "cell_type": "code",
   "execution_count": 123,
   "metadata": {},
   "outputs": [
    {
     "name": "stdout",
     "output_type": "stream",
     "text": [
      " * sqlite://\n",
      "Done.\n"
     ]
    },
    {
     "data": {
      "text/html": [
       "<table>\n",
       "    <tr>\n",
       "        <th>SPLNO</th>\n",
       "        <th>SPLNAME</th>\n",
       "    </tr>\n",
       "    <tr>\n",
       "        <td>101</td>\n",
       "        <td>Global Books &amp; Maps</td>\n",
       "    </tr>\n",
       "    <tr>\n",
       "        <td>103</td>\n",
       "        <td>All Sports Manufacturing</td>\n",
       "    </tr>\n",
       "    <tr>\n",
       "        <td>102</td>\n",
       "        <td>Nepalese Corp.</td>\n",
       "    </tr>\n",
       "    <tr>\n",
       "        <td>105</td>\n",
       "        <td>All Points, Inc.</td>\n",
       "    </tr>\n",
       "</table>"
      ],
      "text/plain": [
       "[(101, 'Global Books & Maps'),\n",
       " (103, 'All Sports Manufacturing'),\n",
       " (102, 'Nepalese Corp.'),\n",
       " (105, 'All Points, Inc.')]"
      ]
     },
     "execution_count": 123,
     "metadata": {},
     "output_type": "execute_result"
    }
   ],
   "source": [
    "%%sql\n",
    "SELECT DISTINCT QDEL.SPLNO, SPLNAME FROM QSPL, QDEL\n",
    "WHERE QSPL.SPLNO = QDEL.SPLNO and ITEMNAME = 'Compass';"
   ]
  },
  {
   "cell_type": "markdown",
   "metadata": {},
   "source": [
    "20. Find the suppliers that do not deliver compasses."
   ]
  },
  {
   "cell_type": "code",
   "execution_count": 124,
   "metadata": {},
   "outputs": [
    {
     "name": "stdout",
     "output_type": "stream",
     "text": [
      " * sqlite://\n",
      "Done.\n"
     ]
    },
    {
     "data": {
      "text/html": [
       "<table>\n",
       "    <tr>\n",
       "        <th>SPLNO</th>\n",
       "        <th>SPLNAME</th>\n",
       "    </tr>\n",
       "    <tr>\n",
       "        <td>104</td>\n",
       "        <td>Sweatshops Unlimited</td>\n",
       "    </tr>\n",
       "    <tr>\n",
       "        <td>106</td>\n",
       "        <td>Sao Paulo Manufacturing</td>\n",
       "    </tr>\n",
       "</table>"
      ],
      "text/plain": [
       "[(104, 'Sweatshops Unlimited'), (106, 'Sao Paulo Manufacturing')]"
      ]
     },
     "execution_count": 124,
     "metadata": {},
     "output_type": "execute_result"
    }
   ],
   "source": [
    "%%sql\n",
    "SELECT SPLNO, SPLNAME FROM QSPL\n",
    "WHERE SPLNO NOT IN\n",
    "(SELECT SPLNO FROM QDEL WHERE ITEMNAME = 'Compass');"
   ]
  },
  {
   "cell_type": "markdown",
   "metadata": {},
   "source": [
    "21. Find the SPLNO and SPLNAME of all the suppliers that deliver both 'compass' and an item other than 'compass'."
   ]
  },
  {
   "cell_type": "code",
   "execution_count": 137,
   "metadata": {},
   "outputs": [
    {
     "name": "stdout",
     "output_type": "stream",
     "text": [
      " * sqlite://\n",
      "Done.\n"
     ]
    },
    {
     "data": {
      "text/html": [
       "<table>\n",
       "    <tr>\n",
       "        <th>SPLNO</th>\n",
       "        <th>SPLNAME</th>\n",
       "    </tr>\n",
       "    <tr>\n",
       "        <td>105</td>\n",
       "        <td>All Points, Inc.</td>\n",
       "    </tr>\n",
       "    <tr>\n",
       "        <td>101</td>\n",
       "        <td>Global Books &amp; Maps</td>\n",
       "    </tr>\n",
       "    <tr>\n",
       "        <td>103</td>\n",
       "        <td>All Sports Manufacturing</td>\n",
       "    </tr>\n",
       "    <tr>\n",
       "        <td>102</td>\n",
       "        <td>Nepalese Corp.</td>\n",
       "    </tr>\n",
       "</table>"
      ],
      "text/plain": [
       "[(105, 'All Points, Inc.'),\n",
       " (101, 'Global Books & Maps'),\n",
       " (103, 'All Sports Manufacturing'),\n",
       " (102, 'Nepalese Corp.')]"
      ]
     },
     "execution_count": 137,
     "metadata": {},
     "output_type": "execute_result"
    }
   ],
   "source": [
    "%%sql\n",
    "SELECT DISTINCT d.SPLNO, s.SPLNAME\n",
    "FROM QDEL d,QSPL s\n",
    "WHERE d.SPLNO = s.SPLNO AND\n",
    "d.ITEMNAME <> 'Compass' AND\n",
    "d.SPLNO IN\n",
    "(SELECT SPLNO FROM QDEL WHERE ITEMNAME = 'Compass');"
   ]
  },
  {
   "cell_type": "code",
   "execution_count": 139,
   "metadata": {},
   "outputs": [
    {
     "name": "stdout",
     "output_type": "stream",
     "text": [
      " * sqlite://\n",
      "Done.\n"
     ]
    },
    {
     "data": {
      "text/html": [
       "<table>\n",
       "    <tr>\n",
       "        <th>SPLNO</th>\n",
       "        <th>SPLNAME</th>\n",
       "    </tr>\n",
       "    <tr>\n",
       "        <td>101</td>\n",
       "        <td>Global Books &amp; Maps</td>\n",
       "    </tr>\n",
       "    <tr>\n",
       "        <td>102</td>\n",
       "        <td>Nepalese Corp.</td>\n",
       "    </tr>\n",
       "    <tr>\n",
       "        <td>103</td>\n",
       "        <td>All Sports Manufacturing</td>\n",
       "    </tr>\n",
       "    <tr>\n",
       "        <td>105</td>\n",
       "        <td>All Points, Inc.</td>\n",
       "    </tr>\n",
       "</table>"
      ],
      "text/plain": [
       "[(101, 'Global Books & Maps'),\n",
       " (102, 'Nepalese Corp.'),\n",
       " (103, 'All Sports Manufacturing'),\n",
       " (105, 'All Points, Inc.')]"
      ]
     },
     "execution_count": 139,
     "metadata": {},
     "output_type": "execute_result"
    }
   ],
   "source": [
    "%%sql\n",
    "SELECT * FROM QSPL\n",
    "WHERE SPLNO IN (SELECT SPLNO FROM QDEL WHERE ITEMNAME = 'Compass')\n",
    "AND SPLNO IN (SELECT SPLNO FROM QDEL WHERE ITEMNAME <> 'Compass');"
   ]
  },
  {
   "cell_type": "code",
   "execution_count": 140,
   "metadata": {},
   "outputs": [
    {
     "name": "stdout",
     "output_type": "stream",
     "text": [
      " * sqlite://\n",
      "Done.\n"
     ]
    },
    {
     "data": {
      "text/html": [
       "<table>\n",
       "    <tr>\n",
       "        <th>SPLNO</th>\n",
       "        <th>SPLNAME</th>\n",
       "    </tr>\n",
       "    <tr>\n",
       "        <td>101</td>\n",
       "        <td>Global Books &amp; Maps</td>\n",
       "    </tr>\n",
       "    <tr>\n",
       "        <td>102</td>\n",
       "        <td>Nepalese Corp.</td>\n",
       "    </tr>\n",
       "    <tr>\n",
       "        <td>103</td>\n",
       "        <td>All Sports Manufacturing</td>\n",
       "    </tr>\n",
       "    <tr>\n",
       "        <td>105</td>\n",
       "        <td>All Points, Inc.</td>\n",
       "    </tr>\n",
       "</table>"
      ],
      "text/plain": [
       "[(101, 'Global Books & Maps'),\n",
       " (102, 'Nepalese Corp.'),\n",
       " (103, 'All Sports Manufacturing'),\n",
       " (105, 'All Points, Inc.')]"
      ]
     },
     "execution_count": 140,
     "metadata": {},
     "output_type": "execute_result"
    }
   ],
   "source": [
    "%%sql\n",
    "SELECT DISTINCT QDEL.SPLNO, SPLNAME FROM QSPL, QDEL\n",
    "WHERE QDEL.SPLNO = QSPL.SPLNO\n",
    "AND QDEL.SPLNO IN\n",
    "(SELECT SPLNO \n",
    " FROM QDEL \n",
    " WHERE ITEMNAME = 'Compass')\n",
    "    GROUP BY QDEL.SPLNO, SPLNAME \n",
    "    HAVING COUNT(DISTINCT ITEMNAME) > 1;"
   ]
  },
  {
   "cell_type": "markdown",
   "metadata": {},
   "source": [
    "22.List SPLNO and SPLNAME of all the suppliers that deliver at least two items of type N."
   ]
  },
  {
   "cell_type": "code",
   "execution_count": 150,
   "metadata": {},
   "outputs": [
    {
     "name": "stdout",
     "output_type": "stream",
     "text": [
      " * sqlite://\n",
      "Done.\n"
     ]
    },
    {
     "data": {
      "text/html": [
       "<table>\n",
       "    <tr>\n",
       "        <th>SPLNO</th>\n",
       "        <th>SPLNAME</th>\n",
       "    </tr>\n",
       "    <tr>\n",
       "        <td>101</td>\n",
       "        <td>Global Books &amp; Maps</td>\n",
       "    </tr>\n",
       "    <tr>\n",
       "        <td>102</td>\n",
       "        <td>Nepalese Corp.</td>\n",
       "    </tr>\n",
       "    <tr>\n",
       "        <td>103</td>\n",
       "        <td>All Sports Manufacturing</td>\n",
       "    </tr>\n",
       "</table>"
      ],
      "text/plain": [
       "[(101, 'Global Books & Maps'),\n",
       " (102, 'Nepalese Corp.'),\n",
       " (103, 'All Sports Manufacturing')]"
      ]
     },
     "execution_count": 150,
     "metadata": {},
     "output_type": "execute_result"
    }
   ],
   "source": [
    "%%sql\n",
    "SELECT DISTINCT d.SPLNO, s. SPLNAME\n",
    "FROM QDEL d, QSPL s\n",
    "WHERE d.SPLNO = s.SPLNO\n",
    "AND ITEMNAME IN (\n",
    "    SELECT ITEMNAME FROM QITEM\n",
    "    WHERE ITEMTYPE = 'N')\n",
    "GROUP BY d.SPLNO\n",
    "HAVING COUNT(ITEMNAME) > 2;"
   ]
  },
  {
   "cell_type": "markdown",
   "metadata": {},
   "source": [
    "23. List ITEMNAME of all the items delivered by exactly one supplier (i.e., list the items always delivered by the same supplier)."
   ]
  },
  {
   "cell_type": "code",
   "execution_count": 153,
   "metadata": {},
   "outputs": [
    {
     "name": "stdout",
     "output_type": "stream",
     "text": [
      " * sqlite://\n",
      "Done.\n"
     ]
    },
    {
     "data": {
      "text/html": [
       "<table>\n",
       "    <tr>\n",
       "        <th>ITEMNAME</th>\n",
       "    </tr>\n",
       "    <tr>\n",
       "        <td>Boots-snakeproof</td>\n",
       "    </tr>\n",
       "    <tr>\n",
       "        <td>Exploring in 10 Easy Lessons</td>\n",
       "    </tr>\n",
       "    <tr>\n",
       "        <td>Hat-polar explorer</td>\n",
       "    </tr>\n",
       "    <tr>\n",
       "        <td>How to Win Foreign Friends</td>\n",
       "    </tr>\n",
       "    <tr>\n",
       "        <td>Pocket knife-Avon</td>\n",
       "    </tr>\n",
       "    <tr>\n",
       "        <td>Stetson</td>\n",
       "    </tr>\n",
       "    <tr>\n",
       "        <td>Tent-2 person</td>\n",
       "    </tr>\n",
       "</table>"
      ],
      "text/plain": [
       "[('Boots-snakeproof',),\n",
       " ('Exploring in 10 Easy Lessons',),\n",
       " ('Hat-polar explorer',),\n",
       " ('How to Win Foreign Friends',),\n",
       " ('Pocket knife-Avon',),\n",
       " ('Stetson',),\n",
       " ('Tent-2 person',)]"
      ]
     },
     "execution_count": 153,
     "metadata": {},
     "output_type": "execute_result"
    }
   ],
   "source": [
    "%%sql\n",
    "SELECT DISTINCT ITEMNAME\n",
    "FROM QDEL\n",
    "GROUP BY ITEMNAME\n",
    "HAVING COUNT(DISTINCT SPLNO) = 1;"
   ]
  },
  {
   "cell_type": "markdown",
   "metadata": {},
   "source": [
    "24. Find all the pairs of supplier (SPLNO, SPLNAME) and item  (ITEMNAME) such that the supplier is the only supplier of that item."
   ]
  },
  {
   "cell_type": "code",
   "execution_count": 163,
   "metadata": {},
   "outputs": [
    {
     "name": "stdout",
     "output_type": "stream",
     "text": [
      " * sqlite://\n",
      "Done.\n"
     ]
    },
    {
     "data": {
      "text/html": [
       "<table>\n",
       "    <tr>\n",
       "        <th>SPLNO</th>\n",
       "        <th>SPLNAME</th>\n",
       "        <th>ITEMNAME</th>\n",
       "    </tr>\n",
       "    <tr>\n",
       "        <td>102</td>\n",
       "        <td>Nepalese Corp.</td>\n",
       "        <td>Exploring in 10 Easy Lessons</td>\n",
       "    </tr>\n",
       "    <tr>\n",
       "        <td>102</td>\n",
       "        <td>Nepalese Corp.</td>\n",
       "        <td>How to Win Foreign Friends</td>\n",
       "    </tr>\n",
       "    <tr>\n",
       "        <td>102</td>\n",
       "        <td>Nepalese Corp.</td>\n",
       "        <td>Pocket knife-Avon</td>\n",
       "    </tr>\n",
       "    <tr>\n",
       "        <td>102</td>\n",
       "        <td>Nepalese Corp.</td>\n",
       "        <td>Tent-2 person</td>\n",
       "    </tr>\n",
       "    <tr>\n",
       "        <td>105</td>\n",
       "        <td>All Points, Inc.</td>\n",
       "        <td>Boots-snakeproof</td>\n",
       "    </tr>\n",
       "    <tr>\n",
       "        <td>105</td>\n",
       "        <td>All Points, Inc.</td>\n",
       "        <td>Hat-polar explorer</td>\n",
       "    </tr>\n",
       "    <tr>\n",
       "        <td>105</td>\n",
       "        <td>All Points, Inc.</td>\n",
       "        <td>Stetson</td>\n",
       "    </tr>\n",
       "</table>"
      ],
      "text/plain": [
       "[(102, 'Nepalese Corp.', 'Exploring in 10 Easy Lessons'),\n",
       " (102, 'Nepalese Corp.', 'How to Win Foreign Friends'),\n",
       " (102, 'Nepalese Corp.', 'Pocket knife-Avon'),\n",
       " (102, 'Nepalese Corp.', 'Tent-2 person'),\n",
       " (105, 'All Points, Inc.', 'Boots-snakeproof'),\n",
       " (105, 'All Points, Inc.', 'Hat-polar explorer'),\n",
       " (105, 'All Points, Inc.', 'Stetson')]"
      ]
     },
     "execution_count": 163,
     "metadata": {},
     "output_type": "execute_result"
    }
   ],
   "source": [
    "%%sql\n",
    "SELECT DISTINCT d.SPLNO, s.SPLNAME, d.ITEMNAME\n",
    "FROM QDEL d, QSPL s\n",
    "WHERE d.SPLNO = s.SPLNO AND d.ITEMNAME IN (\n",
    "    SELECT ITEMNAME\n",
    "    FROM QDEL\n",
    "    GROUP BY ITEMNAME\n",
    "    HAVING COUNT(DISTINCT SPLNO) = 1)\n",
    "ORDER BY d.SPLNO, d.ITEMNAME;"
   ]
  },
  {
   "cell_type": "code",
   "execution_count": 164,
   "metadata": {},
   "outputs": [
    {
     "name": "stdout",
     "output_type": "stream",
     "text": [
      " * sqlite://\n",
      "Done.\n"
     ]
    },
    {
     "data": {
      "text/html": [
       "<table>\n",
       "    <tr>\n",
       "        <th>SPLNO</th>\n",
       "        <th>SPLNAME</th>\n",
       "        <th>ITEMNAME</th>\n",
       "    </tr>\n",
       "    <tr>\n",
       "        <td>105</td>\n",
       "        <td>All Points, Inc.</td>\n",
       "        <td>Boots-snakeproof</td>\n",
       "    </tr>\n",
       "    <tr>\n",
       "        <td>102</td>\n",
       "        <td>Nepalese Corp.</td>\n",
       "        <td>Pocket knife-Avon</td>\n",
       "    </tr>\n",
       "    <tr>\n",
       "        <td>102</td>\n",
       "        <td>Nepalese Corp.</td>\n",
       "        <td>Tent-2 person</td>\n",
       "    </tr>\n",
       "    <tr>\n",
       "        <td>102</td>\n",
       "        <td>Nepalese Corp.</td>\n",
       "        <td>Exploring in 10 Easy Lessons</td>\n",
       "    </tr>\n",
       "    <tr>\n",
       "        <td>102</td>\n",
       "        <td>Nepalese Corp.</td>\n",
       "        <td>How to Win Foreign Friends</td>\n",
       "    </tr>\n",
       "    <tr>\n",
       "        <td>105</td>\n",
       "        <td>All Points, Inc.</td>\n",
       "        <td>Hat-polar explorer</td>\n",
       "    </tr>\n",
       "    <tr>\n",
       "        <td>105</td>\n",
       "        <td>All Points, Inc.</td>\n",
       "        <td>Stetson</td>\n",
       "    </tr>\n",
       "</table>"
      ],
      "text/plain": [
       "[(105, 'All Points, Inc.', 'Boots-snakeproof'),\n",
       " (102, 'Nepalese Corp.', 'Pocket knife-Avon'),\n",
       " (102, 'Nepalese Corp.', 'Tent-2 person'),\n",
       " (102, 'Nepalese Corp.', 'Exploring in 10 Easy Lessons'),\n",
       " (102, 'Nepalese Corp.', 'How to Win Foreign Friends'),\n",
       " (105, 'All Points, Inc.', 'Hat-polar explorer'),\n",
       " (105, 'All Points, Inc.', 'Stetson')]"
      ]
     },
     "execution_count": 164,
     "metadata": {},
     "output_type": "execute_result"
    }
   ],
   "source": [
    "%%sql\n",
    "SELECT DISTINCT QSPL.SPLNO, SPLNAME, ITEMNAME\n",
    "FROM QSPL, QDEL DEL1\n",
    "WHERE QSPL.SPLNO = DEL1.SPLNO\n",
    "AND ITEMNAME NOT IN\n",
    "(SELECT ITEMNAME FROM QDEL\n",
    "WHERE QDEL.SPLNO <> DEL1.SPLNO)\n"
   ]
  },
  {
   "cell_type": "markdown",
   "metadata": {},
   "source": [
    "25. List the suppliers that deliver at least 10 items."
   ]
  },
  {
   "cell_type": "code",
   "execution_count": 170,
   "metadata": {},
   "outputs": [
    {
     "name": "stdout",
     "output_type": "stream",
     "text": [
      " * sqlite://\n",
      "Done.\n"
     ]
    },
    {
     "data": {
      "text/html": [
       "<table>\n",
       "    <tr>\n",
       "        <th>SPLNAME</th>\n",
       "    </tr>\n",
       "    <tr>\n",
       "        <td>Nepalese Corp.</td>\n",
       "    </tr>\n",
       "</table>"
      ],
      "text/plain": [
       "[('Nepalese Corp.',)]"
      ]
     },
     "execution_count": 170,
     "metadata": {},
     "output_type": "execute_result"
    }
   ],
   "source": [
    "%%sql\n",
    "SELECT QSPL.SPLNAME\n",
    "FROM QSPL, QDEL\n",
    "WHERE QSPL.SPLNO = QDEL.SPLNO\n",
    "GROUP BY QSPL.SPLNO\n",
    "HAVING COUNT(DISTINCT QDEL.ITEMNAME )> 10;"
   ]
  },
  {
   "cell_type": "markdown",
   "metadata": {},
   "source": [
    "26. For each item, list ITEMNAME, ITEMTYPE, DEPTNAME of departments that sell the item, and the floor location of these departments."
   ]
  },
  {
   "cell_type": "code",
   "execution_count": 172,
   "metadata": {},
   "outputs": [
    {
     "name": "stdout",
     "output_type": "stream",
     "text": [
      " * sqlite://\n",
      "Done.\n"
     ]
    },
    {
     "data": {
      "text/html": [
       "<table>\n",
       "    <tr>\n",
       "        <th>ITEMNAME</th>\n",
       "        <th>ITEMTYPE</th>\n",
       "        <th>DEPTNAME</th>\n",
       "        <th>DEPTFLOOR</th>\n",
       "    </tr>\n",
       "    <tr>\n",
       "        <td>Boots-snakeproof</td>\n",
       "        <td>C</td>\n",
       "        <td>Clothes</td>\n",
       "        <td>2</td>\n",
       "    </tr>\n",
       "    <tr>\n",
       "        <td>Pith helmet</td>\n",
       "        <td>C</td>\n",
       "        <td>Clothes</td>\n",
       "        <td>2</td>\n",
       "    </tr>\n",
       "    <tr>\n",
       "        <td>Sextant</td>\n",
       "        <td>N</td>\n",
       "        <td>Navigation</td>\n",
       "        <td>1</td>\n",
       "    </tr>\n",
       "    <tr>\n",
       "        <td>Hat-polar explorer</td>\n",
       "        <td>C</td>\n",
       "        <td>Clothes</td>\n",
       "        <td>2</td>\n",
       "    </tr>\n",
       "    <tr>\n",
       "        <td>Pith helmet</td>\n",
       "        <td>C</td>\n",
       "        <td>Equipment</td>\n",
       "        <td>3</td>\n",
       "    </tr>\n",
       "    <tr>\n",
       "        <td>Pocket knife-Nile</td>\n",
       "        <td>E</td>\n",
       "        <td>Clothes</td>\n",
       "        <td>2</td>\n",
       "    </tr>\n",
       "    <tr>\n",
       "        <td>Pocket knife-Nile</td>\n",
       "        <td>E</td>\n",
       "        <td>Recreation</td>\n",
       "        <td>2</td>\n",
       "    </tr>\n",
       "    <tr>\n",
       "        <td>Compass</td>\n",
       "        <td>N</td>\n",
       "        <td>Navigation</td>\n",
       "        <td>1</td>\n",
       "    </tr>\n",
       "    <tr>\n",
       "        <td>Geo positioning system</td>\n",
       "        <td>N</td>\n",
       "        <td>Navigation</td>\n",
       "        <td>1</td>\n",
       "    </tr>\n",
       "    <tr>\n",
       "        <td>Map measure</td>\n",
       "        <td>N</td>\n",
       "        <td>Navigation</td>\n",
       "        <td>1</td>\n",
       "    </tr>\n",
       "    <tr>\n",
       "        <td>Geo positioning system</td>\n",
       "        <td>N</td>\n",
       "        <td>Books</td>\n",
       "        <td>1</td>\n",
       "    </tr>\n",
       "    <tr>\n",
       "        <td>Sextant</td>\n",
       "        <td>N</td>\n",
       "        <td>Books</td>\n",
       "        <td>1</td>\n",
       "    </tr>\n",
       "    <tr>\n",
       "        <td>Pocket knife-Nile</td>\n",
       "        <td>E</td>\n",
       "        <td>Books</td>\n",
       "        <td>1</td>\n",
       "    </tr>\n",
       "    <tr>\n",
       "        <td>Pocket knife-Nile</td>\n",
       "        <td>E</td>\n",
       "        <td>Navigation</td>\n",
       "        <td>1</td>\n",
       "    </tr>\n",
       "    <tr>\n",
       "        <td>Pocket knife-Nile</td>\n",
       "        <td>E</td>\n",
       "        <td>Equipment</td>\n",
       "        <td>3</td>\n",
       "    </tr>\n",
       "    <tr>\n",
       "        <td>Sextant</td>\n",
       "        <td>N</td>\n",
       "        <td>Clothes</td>\n",
       "        <td>2</td>\n",
       "    </tr>\n",
       "    <tr>\n",
       "        <td>Sextant</td>\n",
       "        <td>N</td>\n",
       "        <td>Equipment</td>\n",
       "        <td>3</td>\n",
       "    </tr>\n",
       "    <tr>\n",
       "        <td>Sextant</td>\n",
       "        <td>N</td>\n",
       "        <td>Recreation</td>\n",
       "        <td>2</td>\n",
       "    </tr>\n",
       "    <tr>\n",
       "        <td>Sextant</td>\n",
       "        <td>N</td>\n",
       "        <td>Furniture</td>\n",
       "        <td>4</td>\n",
       "    </tr>\n",
       "    <tr>\n",
       "        <td>Pocket knife-Nile</td>\n",
       "        <td>E</td>\n",
       "        <td>Furniture</td>\n",
       "        <td>4</td>\n",
       "    </tr>\n",
       "    <tr>\n",
       "        <td>Exploring in 10 Easy Lessons</td>\n",
       "        <td>B</td>\n",
       "        <td>Books</td>\n",
       "        <td>1</td>\n",
       "    </tr>\n",
       "    <tr>\n",
       "        <td>How to Win Foreign Friends</td>\n",
       "        <td>B</td>\n",
       "        <td>Books</td>\n",
       "        <td>1</td>\n",
       "    </tr>\n",
       "    <tr>\n",
       "        <td>Compass</td>\n",
       "        <td>N</td>\n",
       "        <td>Books</td>\n",
       "        <td>1</td>\n",
       "    </tr>\n",
       "    <tr>\n",
       "        <td>Pith helmet</td>\n",
       "        <td>C</td>\n",
       "        <td>Books</td>\n",
       "        <td>1</td>\n",
       "    </tr>\n",
       "    <tr>\n",
       "        <td>Elephant polo stick</td>\n",
       "        <td>R</td>\n",
       "        <td>Recreation</td>\n",
       "        <td>2</td>\n",
       "    </tr>\n",
       "    <tr>\n",
       "        <td>Camel saddle</td>\n",
       "        <td>R</td>\n",
       "        <td>Recreation</td>\n",
       "        <td>2</td>\n",
       "    </tr>\n",
       "</table>"
      ],
      "text/plain": [
       "[('Boots-snakeproof', 'C', 'Clothes', 2),\n",
       " ('Pith helmet', 'C', 'Clothes', 2),\n",
       " ('Sextant', 'N', 'Navigation', 1),\n",
       " ('Hat-polar explorer', 'C', 'Clothes', 2),\n",
       " ('Pith helmet', 'C', 'Equipment', 3),\n",
       " ('Pocket knife-Nile', 'E', 'Clothes', 2),\n",
       " ('Pocket knife-Nile', 'E', 'Recreation', 2),\n",
       " ('Compass', 'N', 'Navigation', 1),\n",
       " ('Geo positioning system', 'N', 'Navigation', 1),\n",
       " ('Map measure', 'N', 'Navigation', 1),\n",
       " ('Geo positioning system', 'N', 'Books', 1),\n",
       " ('Sextant', 'N', 'Books', 1),\n",
       " ('Pocket knife-Nile', 'E', 'Books', 1),\n",
       " ('Pocket knife-Nile', 'E', 'Navigation', 1),\n",
       " ('Pocket knife-Nile', 'E', 'Equipment', 3),\n",
       " ('Sextant', 'N', 'Clothes', 2),\n",
       " ('Sextant', 'N', 'Equipment', 3),\n",
       " ('Sextant', 'N', 'Recreation', 2),\n",
       " ('Sextant', 'N', 'Furniture', 4),\n",
       " ('Pocket knife-Nile', 'E', 'Furniture', 4),\n",
       " ('Exploring in 10 Easy Lessons', 'B', 'Books', 1),\n",
       " ('How to Win Foreign Friends', 'B', 'Books', 1),\n",
       " ('Compass', 'N', 'Books', 1),\n",
       " ('Pith helmet', 'C', 'Books', 1),\n",
       " ('Elephant polo stick', 'R', 'Recreation', 2),\n",
       " ('Camel saddle', 'R', 'Recreation', 2)]"
      ]
     },
     "execution_count": 172,
     "metadata": {},
     "output_type": "execute_result"
    }
   ],
   "source": [
    "%%sql\n",
    "SELECT QITEM.ITEMNAME, ITEMTYPE, QDEPT.DEPTNAME, DEPTFLOOR\n",
    "FROM QITEM, QSALE, QDEPT\n",
    "WHERE QSALE.ITEMNAME = QITEM.ITEMNAME \n",
    "AND QSALE.DEPTNAME = QDEPT.DEPTNAME"
   ]
  },
  {
   "cell_type": "markdown",
   "metadata": {},
   "source": [
    "27. List ITEMNAME of each item delivered to at least two departments by each supplier that delivers it."
   ]
  },
  {
   "cell_type": "code",
   "execution_count": 191,
   "metadata": {},
   "outputs": [
    {
     "name": "stdout",
     "output_type": "stream",
     "text": [
      " * sqlite://\n",
      "Done.\n"
     ]
    },
    {
     "data": {
      "text/html": [
       "<table>\n",
       "    <tr>\n",
       "        <th>ITEMNAME</th>\n",
       "        <th>COUNT(DEPTNAME)</th>\n",
       "    </tr>\n",
       "    <tr>\n",
       "        <td>Boots-snakeproof</td>\n",
       "        <td>2</td>\n",
       "    </tr>\n",
       "    <tr>\n",
       "        <td>Compass</td>\n",
       "        <td>2</td>\n",
       "    </tr>\n",
       "    <tr>\n",
       "        <td>Exploring in 10 Easy Lessons</td>\n",
       "        <td>3</td>\n",
       "    </tr>\n",
       "    <tr>\n",
       "        <td>How to Win Foreign Friends</td>\n",
       "        <td>3</td>\n",
       "    </tr>\n",
       "    <tr>\n",
       "        <td>Pith helmet</td>\n",
       "        <td>6</td>\n",
       "    </tr>\n",
       "    <tr>\n",
       "        <td>Pocket knife-Nile</td>\n",
       "        <td>6</td>\n",
       "    </tr>\n",
       "</table>"
      ],
      "text/plain": [
       "[('Boots-snakeproof', 2),\n",
       " ('Compass', 2),\n",
       " ('Exploring in 10 Easy Lessons', 3),\n",
       " ('How to Win Foreign Friends', 3),\n",
       " ('Pith helmet', 6),\n",
       " ('Pocket knife-Nile', 6)]"
      ]
     },
     "execution_count": 191,
     "metadata": {},
     "output_type": "execute_result"
    }
   ],
   "source": [
    "%%sql\n",
    "SELECT DISTINCT ITEMNAME, COUNT(DEPTNAME) FROM QDEL\n",
    "GROUP BY ITEMNAME, SPLNO\n",
    "HAVING COUNT(DISTINCT DEPTNAME) >= 2;"
   ]
  },
  {
   "cell_type": "code",
   "execution_count": 198,
   "metadata": {},
   "outputs": [
    {
     "name": "stdout",
     "output_type": "stream",
     "text": [
      " * sqlite://\n",
      "Done.\n"
     ]
    },
    {
     "data": {
      "text/html": [
       "<table>\n",
       "    <tr>\n",
       "        <th>ITEMNAME</th>\n",
       "    </tr>\n",
       "    <tr>\n",
       "        <td>Boots-snakeproof</td>\n",
       "    </tr>\n",
       "    <tr>\n",
       "        <td>Exploring in 10 Easy Lessons</td>\n",
       "    </tr>\n",
       "    <tr>\n",
       "        <td>How to Win Foreign Friends</td>\n",
       "    </tr>\n",
       "</table>"
      ],
      "text/plain": [
       "[('Boots-snakeproof',),\n",
       " ('Exploring in 10 Easy Lessons',),\n",
       " ('How to Win Foreign Friends',)]"
      ]
     },
     "execution_count": 198,
     "metadata": {},
     "output_type": "execute_result"
    }
   ],
   "source": [
    "%%sql\n",
    "SELECT DISTINCT ITEMNAME FROM QDEL\n",
    "WHERE ITEMNAME NOT IN\n",
    "(SELECT ITEMNAME FROM QDEL\n",
    "GROUP BY ITEMNAME, SPLNO\n",
    "HAVING COUNT(DISTINCT DEPTNAME) < 2);"
   ]
  },
  {
   "cell_type": "markdown",
   "metadata": {},
   "source": [
    "28. List the items delivered by Nepalese Corp. and sold in the Navigation department."
   ]
  },
  {
   "cell_type": "code",
   "execution_count": 201,
   "metadata": {},
   "outputs": [
    {
     "name": "stdout",
     "output_type": "stream",
     "text": [
      " * sqlite://\n",
      "Done.\n"
     ]
    },
    {
     "data": {
      "text/html": [
       "<table>\n",
       "    <tr>\n",
       "        <th>ITEMNAME</th>\n",
       "    </tr>\n",
       "    <tr>\n",
       "        <td>Compass</td>\n",
       "    </tr>\n",
       "    <tr>\n",
       "        <td>Geo positioning system</td>\n",
       "    </tr>\n",
       "    <tr>\n",
       "        <td>Map measure</td>\n",
       "    </tr>\n",
       "    <tr>\n",
       "        <td>Pocket knife-Nile</td>\n",
       "    </tr>\n",
       "    <tr>\n",
       "        <td>Sextant</td>\n",
       "    </tr>\n",
       "</table>"
      ],
      "text/plain": [
       "[('Compass',),\n",
       " ('Geo positioning system',),\n",
       " ('Map measure',),\n",
       " ('Pocket knife-Nile',),\n",
       " ('Sextant',)]"
      ]
     },
     "execution_count": 201,
     "metadata": {},
     "output_type": "execute_result"
    }
   ],
   "source": [
    "%%sql\n",
    "SELECT DISTINCT ITEMNAME FROM QITEM\n",
    "WHERE ITEMNAME IN\n",
    "(SELECT ITEMNAME FROM QDEL, QSPL\n",
    "WHERE QDEL.SPLNO = QSPL.SPLNO AND SPLNAME = 'Nepalese Corp.')\n",
    "AND ITEMNAME IN\n",
    "(SELECT ITEMNAME FROM QSALE\n",
    "WHERE DEPTNAME = 'Navigation');"
   ]
  },
  {
   "cell_type": "markdown",
   "metadata": {},
   "source": [
    "29. List ITEMNAME f all the items delivered by Nepalese Corp. or sold in the Navigation department."
   ]
  },
  {
   "cell_type": "code",
   "execution_count": 202,
   "metadata": {},
   "outputs": [
    {
     "name": "stdout",
     "output_type": "stream",
     "text": [
      " * sqlite://\n",
      "Done.\n"
     ]
    },
    {
     "data": {
      "text/html": [
       "<table>\n",
       "    <tr>\n",
       "        <th>ITEMNAME</th>\n",
       "    </tr>\n",
       "    <tr>\n",
       "        <td>Compass</td>\n",
       "    </tr>\n",
       "    <tr>\n",
       "        <td>Geo positioning system</td>\n",
       "    </tr>\n",
       "    <tr>\n",
       "        <td>Map measure</td>\n",
       "    </tr>\n",
       "    <tr>\n",
       "        <td>Pocket knife-Nile</td>\n",
       "    </tr>\n",
       "    <tr>\n",
       "        <td>Sextant</td>\n",
       "    </tr>\n",
       "</table>"
      ],
      "text/plain": [
       "[('Compass',),\n",
       " ('Geo positioning system',),\n",
       " ('Map measure',),\n",
       " ('Pocket knife-Nile',),\n",
       " ('Sextant',)]"
      ]
     },
     "execution_count": 202,
     "metadata": {},
     "output_type": "execute_result"
    }
   ],
   "source": [
    "%%sql\n",
    "SELECT ITEMNAME FROM QDEL, QSPL WHERE QDEL.SPLNO = QSPL.SPLNO AND SPLNAME = 'Nepalese corp.'\n",
    "UNION\n",
    "SELECT ITEMNAME FROM QSALE WHERE DEPTNAME = 'Navigation';"
   ]
  },
  {
   "cell_type": "code",
   "execution_count": 203,
   "metadata": {},
   "outputs": [
    {
     "name": "stdout",
     "output_type": "stream",
     "text": [
      " * sqlite://\n",
      "Done.\n"
     ]
    },
    {
     "data": {
      "text/html": [
       "<table>\n",
       "    <tr>\n",
       "        <th>ITEMNAME</th>\n",
       "    </tr>\n",
       "    <tr>\n",
       "        <td>Compass</td>\n",
       "    </tr>\n",
       "    <tr>\n",
       "        <td>Geo positioning system</td>\n",
       "    </tr>\n",
       "    <tr>\n",
       "        <td>Map measure</td>\n",
       "    </tr>\n",
       "    <tr>\n",
       "        <td>Pocket knife-Nile</td>\n",
       "    </tr>\n",
       "    <tr>\n",
       "        <td>Sextant</td>\n",
       "    </tr>\n",
       "</table>"
      ],
      "text/plain": [
       "[('Compass',),\n",
       " ('Geo positioning system',),\n",
       " ('Map measure',),\n",
       " ('Pocket knife-Nile',),\n",
       " ('Sextant',)]"
      ]
     },
     "execution_count": 203,
     "metadata": {},
     "output_type": "execute_result"
    }
   ],
   "source": [
    "%%sql\n",
    "SELECT DISTINCT ITEMNAME FROM QITEM\n",
    "WHERE ITEMNAME IN\n",
    "(SELECT ITEMNAME FROM QDEL, QSPL\n",
    "WHERE QDEL.SPLNO = QSPL.SPLNO AND SPLNAME = 'Nepalese corp.')\n",
    "OR ITEMNAME IN\n",
    "(SELECT ITEMNAME FROM QSALE\n",
    "WHERE DEPTNAME = 'Navigation');"
   ]
  },
  {
   "cell_type": "markdown",
   "metadata": {},
   "source": [
    "30. List DEPTNAME of all the departments selling items of type E that are delivered by Nepalese Corp, or selling items that are sold by the Navigation department."
   ]
  },
  {
   "cell_type": "code",
   "execution_count": 213,
   "metadata": {},
   "outputs": [
    {
     "name": "stdout",
     "output_type": "stream",
     "text": [
      " * sqlite://\n",
      "Done.\n"
     ]
    },
    {
     "data": {
      "text/html": [
       "<table>\n",
       "    <tr>\n",
       "        <th>DEPTNAME</th>\n",
       "    </tr>\n",
       "    <tr>\n",
       "        <td>Books</td>\n",
       "    </tr>\n",
       "    <tr>\n",
       "        <td>Clothes</td>\n",
       "    </tr>\n",
       "    <tr>\n",
       "        <td>Equipment</td>\n",
       "    </tr>\n",
       "    <tr>\n",
       "        <td>Furniture</td>\n",
       "    </tr>\n",
       "    <tr>\n",
       "        <td>Navigation</td>\n",
       "    </tr>\n",
       "    <tr>\n",
       "        <td>Recreation</td>\n",
       "    </tr>\n",
       "</table>"
      ],
      "text/plain": [
       "[('Books',),\n",
       " ('Clothes',),\n",
       " ('Equipment',),\n",
       " ('Furniture',),\n",
       " ('Navigation',),\n",
       " ('Recreation',)]"
      ]
     },
     "execution_count": 213,
     "metadata": {},
     "output_type": "execute_result"
    }
   ],
   "source": [
    "%%sql\n",
    "SELECT DISTINCT DEPTNAME\n",
    "FROM QSALE\n",
    "WHERE ITEMNAME IN (\n",
    "    SELECT ITEMNAME FROM QITEM WHERE ITEMTYPE = 'E' AND\n",
    "    ITEMNAME IN (\n",
    "        SELECT ITEMNAME FROM QDEL, QSPL WHERE QDEL.SPLNO = QSPL.SPLNO\n",
    "        AND QSPL.SPLNAME = 'Nepaless corp')\n",
    "    OR ITEMNAME IN (\n",
    "        SELECT ITEMNAME FROM QSALE WHERE DEPTNAME = 'Navigation'))\n",
    "ORDER BY DEPTNAME;"
   ]
  },
  {
   "cell_type": "markdown",
   "metadata": {},
   "source": [
    "31. Find the average salary of the employees in the Clothes department."
   ]
  },
  {
   "cell_type": "code",
   "execution_count": 214,
   "metadata": {},
   "outputs": [
    {
     "name": "stdout",
     "output_type": "stream",
     "text": [
      " * sqlite://\n",
      "Done.\n"
     ]
    },
    {
     "data": {
      "text/html": [
       "<table>\n",
       "    <tr>\n",
       "        <th>AVG(EMPSALARY)</th>\n",
       "    </tr>\n",
       "    <tr>\n",
       "        <td>16000.0</td>\n",
       "    </tr>\n",
       "</table>"
      ],
      "text/plain": [
       "[(16000.0,)]"
      ]
     },
     "execution_count": 214,
     "metadata": {},
     "output_type": "execute_result"
    }
   ],
   "source": [
    "%%sql\n",
    "SELECT AVG(EMPSALARY) FROM QEMP\n",
    "WHERE DEPTNAME = 'Clothes';"
   ]
  },
  {
   "cell_type": "markdown",
   "metadata": {},
   "source": [
    "32. Find, for each department, the average salary of the employees."
   ]
  },
  {
   "cell_type": "code",
   "execution_count": 215,
   "metadata": {},
   "outputs": [
    {
     "name": "stdout",
     "output_type": "stream",
     "text": [
      " * sqlite://\n",
      "Done.\n"
     ]
    },
    {
     "data": {
      "text/html": [
       "<table>\n",
       "    <tr>\n",
       "        <th>DEPTNAME</th>\n",
       "        <th>AVG(EMPSALARY)</th>\n",
       "    </tr>\n",
       "    <tr>\n",
       "        <td>Accounting</td>\n",
       "        <td>30000.0</td>\n",
       "    </tr>\n",
       "    <tr>\n",
       "        <td>Books</td>\n",
       "        <td>15000.0</td>\n",
       "    </tr>\n",
       "    <tr>\n",
       "        <td>Clothes</td>\n",
       "        <td>16000.0</td>\n",
       "    </tr>\n",
       "    <tr>\n",
       "        <td>Equipment</td>\n",
       "        <td>13000.0</td>\n",
       "    </tr>\n",
       "    <tr>\n",
       "        <td>Furniture</td>\n",
       "        <td>15000.0</td>\n",
       "    </tr>\n",
       "    <tr>\n",
       "        <td>Management</td>\n",
       "        <td>75000.0</td>\n",
       "    </tr>\n",
       "    <tr>\n",
       "        <td>Marketing</td>\n",
       "        <td>30666.666666666668</td>\n",
       "    </tr>\n",
       "    <tr>\n",
       "        <td>Navigation</td>\n",
       "        <td>15000.0</td>\n",
       "    </tr>\n",
       "    <tr>\n",
       "        <td>Personnel</td>\n",
       "        <td>35000.0</td>\n",
       "    </tr>\n",
       "    <tr>\n",
       "        <td>Purchasing</td>\n",
       "        <td>49500.0</td>\n",
       "    </tr>\n",
       "    <tr>\n",
       "        <td>Recreation</td>\n",
       "        <td>15000.0</td>\n",
       "    </tr>\n",
       "</table>"
      ],
      "text/plain": [
       "[('Accounting', 30000.0),\n",
       " ('Books', 15000.0),\n",
       " ('Clothes', 16000.0),\n",
       " ('Equipment', 13000.0),\n",
       " ('Furniture', 15000.0),\n",
       " ('Management', 75000.0),\n",
       " ('Marketing', 30666.666666666668),\n",
       " ('Navigation', 15000.0),\n",
       " ('Personnel', 35000.0),\n",
       " ('Purchasing', 49500.0),\n",
       " ('Recreation', 15000.0)]"
      ]
     },
     "execution_count": 215,
     "metadata": {},
     "output_type": "execute_result"
    }
   ],
   "source": [
    "%%sql\n",
    "SELECT DEPTNAME, AVG(EMPSALARY)\n",
    "FROM QEMP\n",
    "GROUP BY DEPTNAME"
   ]
  },
  {
   "cell_type": "markdown",
   "metadata": {},
   "source": [
    "33. Find, for each department on the second floor, the average salary of the employees."
   ]
  },
  {
   "cell_type": "code",
   "execution_count": 216,
   "metadata": {},
   "outputs": [
    {
     "name": "stdout",
     "output_type": "stream",
     "text": [
      " * sqlite://\n",
      "Done.\n"
     ]
    },
    {
     "data": {
      "text/html": [
       "<table>\n",
       "    <tr>\n",
       "        <th>DEPTNAME</th>\n",
       "        <th>AVG(EMPSALARY)</th>\n",
       "    </tr>\n",
       "    <tr>\n",
       "        <td>Clothes</td>\n",
       "        <td>16000.0</td>\n",
       "    </tr>\n",
       "    <tr>\n",
       "        <td>Recreation</td>\n",
       "        <td>15000.0</td>\n",
       "    </tr>\n",
       "</table>"
      ],
      "text/plain": [
       "[('Clothes', 16000.0), ('Recreation', 15000.0)]"
      ]
     },
     "execution_count": 216,
     "metadata": {},
     "output_type": "execute_result"
    }
   ],
   "source": [
    "%%sql\n",
    "SELECT QDEPT.DEPTNAME, AVG(EMPSALARY) FROM QEMP, QDEPT\n",
    "WHERE QEMP.DEPTNAME = QDEPT.DEPTNAME AND DEPTFLOOR = 2\n",
    "GROUP BY QDEPT.DEPTNAME"
   ]
  },
  {
   "cell_type": "markdown",
   "metadata": {},
   "source": [
    "34. Find, for each department that sells items of type E, the average salary of the employees."
   ]
  },
  {
   "cell_type": "code",
   "execution_count": 217,
   "metadata": {},
   "outputs": [
    {
     "name": "stdout",
     "output_type": "stream",
     "text": [
      " * sqlite://\n",
      "Done.\n"
     ]
    },
    {
     "data": {
      "text/html": [
       "<table>\n",
       "    <tr>\n",
       "        <th>DEPTNAME</th>\n",
       "        <th>AVG(EMPSALARY)</th>\n",
       "    </tr>\n",
       "    <tr>\n",
       "        <td>Books</td>\n",
       "        <td>15000.0</td>\n",
       "    </tr>\n",
       "    <tr>\n",
       "        <td>Clothes</td>\n",
       "        <td>16000.0</td>\n",
       "    </tr>\n",
       "    <tr>\n",
       "        <td>Equipment</td>\n",
       "        <td>13000.0</td>\n",
       "    </tr>\n",
       "    <tr>\n",
       "        <td>Furniture</td>\n",
       "        <td>15000.0</td>\n",
       "    </tr>\n",
       "    <tr>\n",
       "        <td>Navigation</td>\n",
       "        <td>15000.0</td>\n",
       "    </tr>\n",
       "    <tr>\n",
       "        <td>Recreation</td>\n",
       "        <td>15000.0</td>\n",
       "    </tr>\n",
       "</table>"
      ],
      "text/plain": [
       "[('Books', 15000.0),\n",
       " ('Clothes', 16000.0),\n",
       " ('Equipment', 13000.0),\n",
       " ('Furniture', 15000.0),\n",
       " ('Navigation', 15000.0),\n",
       " ('Recreation', 15000.0)]"
      ]
     },
     "execution_count": 217,
     "metadata": {},
     "output_type": "execute_result"
    }
   ],
   "source": [
    "%%sql\n",
    "SELECT DEPTNAME, AVG(EMPSALARY)\n",
    "FROM QEMP\n",
    "WHERE DEPTNAME IN (\n",
    "    SELECT DEPTNAME FROM QDEPT WHERE DEPTNAME IN (\n",
    "        SELECT DEPTNAME FROM QDEL WHERE ITEMNAME IN (\n",
    "            SELECT ITEMNAME FROM QITEM WHERE ITEMTYPE = 'E')))\n",
    "GROUP BY DEPTNAME;"
   ]
  },
  {
   "cell_type": "markdown",
   "metadata": {},
   "source": [
    "35. Find the total number of items of type E sold by the departments on the second floor."
   ]
  },
  {
   "cell_type": "code",
   "execution_count": 219,
   "metadata": {},
   "outputs": [
    {
     "name": "stdout",
     "output_type": "stream",
     "text": [
      " * sqlite://\n",
      "Done.\n"
     ]
    },
    {
     "data": {
      "text/html": [
       "<table>\n",
       "    <tr>\n",
       "        <th>SMUQTY</th>\n",
       "    </tr>\n",
       "    <tr>\n",
       "        <td>None</td>\n",
       "    </tr>\n",
       "</table>"
      ],
      "text/plain": [
       "[(None,)]"
      ]
     },
     "execution_count": 219,
     "metadata": {},
     "output_type": "execute_result"
    }
   ],
   "source": [
    "%%sql\n",
    "SELECT SUM(SALEQTY) AS SMUQTY FROM QITEM, QSALE, QDEPT\n",
    "WHERE QITEM.ITEMNAME = QSALE.ITEMNAME\n",
    "AND QDEPT.DEPTNAME = QSALE.DEPTNAME\n",
    "AND ITEMTYPE = 'e' AND DEPTFLOOR = 2;"
   ]
  },
  {
   "cell_type": "markdown",
   "metadata": {},
   "source": [
    "36. Find those items sold by the departments on the second floor. For each such an item, list ITEMNAME and the total quantity sold by the departments on the second floor.\n",
    " "
   ]
  },
  {
   "cell_type": "code",
   "execution_count": 221,
   "metadata": {},
   "outputs": [
    {
     "name": "stdout",
     "output_type": "stream",
     "text": [
      " * sqlite://\n",
      "Done.\n"
     ]
    },
    {
     "data": {
      "text/html": [
       "<table>\n",
       "    <tr>\n",
       "        <th>ITEMNAME</th>\n",
       "        <th>SMUQTY</th>\n",
       "    </tr>\n",
       "    <tr>\n",
       "        <td>Boots-snakeproof</td>\n",
       "        <td>2</td>\n",
       "    </tr>\n",
       "    <tr>\n",
       "        <td>Camel saddle</td>\n",
       "        <td>1</td>\n",
       "    </tr>\n",
       "    <tr>\n",
       "        <td>Elephant polo stick</td>\n",
       "        <td>1</td>\n",
       "    </tr>\n",
       "    <tr>\n",
       "        <td>Hat-polar explorer</td>\n",
       "        <td>3</td>\n",
       "    </tr>\n",
       "    <tr>\n",
       "        <td>Pith helmet</td>\n",
       "        <td>1</td>\n",
       "    </tr>\n",
       "    <tr>\n",
       "        <td>Pocket knife-Nile</td>\n",
       "        <td>2</td>\n",
       "    </tr>\n",
       "    <tr>\n",
       "        <td>Sextant</td>\n",
       "        <td>2</td>\n",
       "    </tr>\n",
       "</table>"
      ],
      "text/plain": [
       "[('Boots-snakeproof', 2),\n",
       " ('Camel saddle', 1),\n",
       " ('Elephant polo stick', 1),\n",
       " ('Hat-polar explorer', 3),\n",
       " ('Pith helmet', 1),\n",
       " ('Pocket knife-Nile', 2),\n",
       " ('Sextant', 2)]"
      ]
     },
     "execution_count": 221,
     "metadata": {},
     "output_type": "execute_result"
    }
   ],
   "source": [
    "%%sql\n",
    "SELECT QITEM.ITEMNAME, SUM(SALEQTY) AS SMUQTY  FROM QITEM, QSALE, QDEPT\n",
    "WHERE QITEM.ITEMNAME = QSALE.ITEMNAME\n",
    "AND QDEPT.DEPTNAME = QSALE.DEPTNAME\n",
    "AND DEPTFLOOR = 2\n",
    "GROUP BY QITEM.ITEMNAME;"
   ]
  },
  {
   "cell_type": "markdown",
   "metadata": {},
   "source": [
    "37. List SPLNO and SPLNAME of those suppliers that deliver a total quantity of items of types C and N that is altogether greater than 50."
   ]
  },
  {
   "cell_type": "code",
   "execution_count": 228,
   "metadata": {},
   "outputs": [
    {
     "name": "stdout",
     "output_type": "stream",
     "text": [
      " * sqlite://\n",
      "Done.\n"
     ]
    },
    {
     "data": {
      "text/html": [
       "<table>\n",
       "    <tr>\n",
       "        <th>SPLNO</th>\n",
       "        <th>SPLNAME</th>\n",
       "    </tr>\n",
       "    <tr>\n",
       "        <td>101</td>\n",
       "        <td>Global Books &amp; Maps</td>\n",
       "    </tr>\n",
       "    <tr>\n",
       "        <td>105</td>\n",
       "        <td>All Points, Inc.</td>\n",
       "    </tr>\n",
       "</table>"
      ],
      "text/plain": [
       "[(101, 'Global Books & Maps'), (105, 'All Points, Inc.')]"
      ]
     },
     "execution_count": 228,
     "metadata": {},
     "output_type": "execute_result"
    }
   ],
   "source": [
    "%%sql\n",
    "SELECT QDEL.SPLNO, QSPL.SPLNAME\n",
    "FROM QDEL, QSPL\n",
    "WHERE QDEL.SPLNO = QSPL.SPLNO AND\n",
    "    ITEMNAME IN (\n",
    "        SELECT ITEMNAME FROM QITEM WHERE ITEMTYPE IN ('C', 'N'))\n",
    "GROUP BY QDEL.SPLNO\n",
    "HAVING SUM(DELQTY) > 50;\n",
    "    "
   ]
  },
  {
   "cell_type": "markdown",
   "metadata": {},
   "source": [
    "38. What is, for each supplier, the average number of items per department that the supplier delivers?"
   ]
  },
  {
   "cell_type": "code",
   "execution_count": 231,
   "metadata": {},
   "outputs": [
    {
     "name": "stdout",
     "output_type": "stream",
     "text": [
      " * sqlite://\n",
      "Done.\n"
     ]
    },
    {
     "data": {
      "text/html": [
       "<table>\n",
       "    <tr>\n",
       "        <th>SPLNO</th>\n",
       "        <th>DEPTNAME</th>\n",
       "        <th>AVG(DELQTY)</th>\n",
       "    </tr>\n",
       "    <tr>\n",
       "        <td>102</td>\n",
       "        <td>Books</td>\n",
       "        <td>8.333333333333334</td>\n",
       "    </tr>\n",
       "    <tr>\n",
       "        <td>103</td>\n",
       "        <td>Books</td>\n",
       "        <td>1.0</td>\n",
       "    </tr>\n",
       "    <tr>\n",
       "        <td>105</td>\n",
       "        <td>Books</td>\n",
       "        <td>7.5</td>\n",
       "    </tr>\n",
       "    <tr>\n",
       "        <td>101</td>\n",
       "        <td>Clothes</td>\n",
       "        <td>1.0</td>\n",
       "    </tr>\n",
       "    <tr>\n",
       "        <td>102</td>\n",
       "        <td>Clothes</td>\n",
       "        <td>1.0</td>\n",
       "    </tr>\n",
       "    <tr>\n",
       "        <td>103</td>\n",
       "        <td>Clothes</td>\n",
       "        <td>1.0</td>\n",
       "    </tr>\n",
       "    <tr>\n",
       "        <td>104</td>\n",
       "        <td>Clothes</td>\n",
       "        <td>1.0</td>\n",
       "    </tr>\n",
       "    <tr>\n",
       "        <td>105</td>\n",
       "        <td>Clothes</td>\n",
       "        <td>7.2</td>\n",
       "    </tr>\n",
       "    <tr>\n",
       "        <td>103</td>\n",
       "        <td>Equipment</td>\n",
       "        <td>20.0</td>\n",
       "    </tr>\n",
       "    <tr>\n",
       "        <td>105</td>\n",
       "        <td>Equipment</td>\n",
       "        <td>4.6</td>\n",
       "    </tr>\n",
       "    <tr>\n",
       "        <td>106</td>\n",
       "        <td>Equipment</td>\n",
       "        <td>13.666666666666666</td>\n",
       "    </tr>\n",
       "    <tr>\n",
       "        <td>105</td>\n",
       "        <td>Furniture</td>\n",
       "        <td>7.5</td>\n",
       "    </tr>\n",
       "    <tr>\n",
       "        <td>101</td>\n",
       "        <td>Navigation</td>\n",
       "        <td>19.4</td>\n",
       "    </tr>\n",
       "    <tr>\n",
       "        <td>102</td>\n",
       "        <td>Navigation</td>\n",
       "        <td>5.285714285714286</td>\n",
       "    </tr>\n",
       "    <tr>\n",
       "        <td>103</td>\n",
       "        <td>Navigation</td>\n",
       "        <td>15.0</td>\n",
       "    </tr>\n",
       "    <tr>\n",
       "        <td>104</td>\n",
       "        <td>Navigation</td>\n",
       "        <td>3.0</td>\n",
       "    </tr>\n",
       "    <tr>\n",
       "        <td>105</td>\n",
       "        <td>Navigation</td>\n",
       "        <td>27.5</td>\n",
       "    </tr>\n",
       "    <tr>\n",
       "        <td>102</td>\n",
       "        <td>Recreation</td>\n",
       "        <td>3.5</td>\n",
       "    </tr>\n",
       "    <tr>\n",
       "        <td>105</td>\n",
       "        <td>Recreation</td>\n",
       "        <td>7.5</td>\n",
       "    </tr>\n",
       "</table>"
      ],
      "text/plain": [
       "[(102, 'Books', 8.333333333333334),\n",
       " (103, 'Books', 1.0),\n",
       " (105, 'Books', 7.5),\n",
       " (101, 'Clothes', 1.0),\n",
       " (102, 'Clothes', 1.0),\n",
       " (103, 'Clothes', 1.0),\n",
       " (104, 'Clothes', 1.0),\n",
       " (105, 'Clothes', 7.2),\n",
       " (103, 'Equipment', 20.0),\n",
       " (105, 'Equipment', 4.6),\n",
       " (106, 'Equipment', 13.666666666666666),\n",
       " (105, 'Furniture', 7.5),\n",
       " (101, 'Navigation', 19.4),\n",
       " (102, 'Navigation', 5.285714285714286),\n",
       " (103, 'Navigation', 15.0),\n",
       " (104, 'Navigation', 3.0),\n",
       " (105, 'Navigation', 27.5),\n",
       " (102, 'Recreation', 3.5),\n",
       " (105, 'Recreation', 7.5)]"
      ]
     },
     "execution_count": 231,
     "metadata": {},
     "output_type": "execute_result"
    }
   ],
   "source": [
    "%%sql\n",
    "SELECT SPLNO, DEPTNAME, AVG(DELQTY)\n",
    "FROM QDEL\n",
    "GROUP BY SPLNO, DEPTNAME\n",
    "ORDER BY DEPTNAME;"
   ]
  },
  {
   "cell_type": "markdown",
   "metadata": {},
   "source": [
    "39. For each department, find the average salary of the employees who earn more than the average salary of the department."
   ]
  },
  {
   "cell_type": "code",
   "execution_count": 236,
   "metadata": {},
   "outputs": [
    {
     "name": "stdout",
     "output_type": "stream",
     "text": [
      " * sqlite://\n",
      "Done.\n"
     ]
    },
    {
     "data": {
      "text/html": [
       "<table>\n",
       "    <tr>\n",
       "        <th>DEPTNAME</th>\n",
       "        <th>AVG(q1.EMPSALARY)</th>\n",
       "    </tr>\n",
       "    <tr>\n",
       "        <td>Accounting</td>\n",
       "        <td>38000.0</td>\n",
       "    </tr>\n",
       "    <tr>\n",
       "        <td>Equipment</td>\n",
       "        <td>15000.0</td>\n",
       "    </tr>\n",
       "    <tr>\n",
       "        <td>Marketing</td>\n",
       "        <td>45000.0</td>\n",
       "    </tr>\n",
       "    <tr>\n",
       "        <td>Purchasing</td>\n",
       "        <td>56000.0</td>\n",
       "    </tr>\n",
       "</table>"
      ],
      "text/plain": [
       "[('Accounting', 38000.0),\n",
       " ('Equipment', 15000.0),\n",
       " ('Marketing', 45000.0),\n",
       " ('Purchasing', 56000.0)]"
      ]
     },
     "execution_count": 236,
     "metadata": {},
     "output_type": "execute_result"
    }
   ],
   "source": [
    "%%sql\n",
    "SELECT q1.DEPTNAME, AVG(q1.EMPSALARY)\n",
    "FROM QEMP q1\n",
    "WHERE q1.EMPSALARY > (\n",
    "    SELECT AVG(q2.EMPSALARY)\n",
    "    FROM QEMP q2\n",
    "    WHERE q2.DEPTNAME = q1.DEPTNAME)\n",
    "GROUP BY q1.DEPTNAME"
   ]
  },
  {
   "cell_type": "markdown",
   "metadata": {},
   "source": [
    "40. Give the overall average of the salaries in all departments.\n",
    " "
   ]
  },
  {
   "cell_type": "code",
   "execution_count": 224,
   "metadata": {},
   "outputs": [
    {
     "name": "stdout",
     "output_type": "stream",
     "text": [
      " * sqlite://\n",
      "Done.\n"
     ]
    },
    {
     "data": {
      "text/html": [
       "<table>\n",
       "    <tr>\n",
       "        <th>AVG(EMPSALARY)</th>\n",
       "    </tr>\n",
       "    <tr>\n",
       "        <td>28176.470588235294</td>\n",
       "    </tr>\n",
       "</table>"
      ],
      "text/plain": [
       "[(28176.470588235294,)]"
      ]
     },
     "execution_count": 224,
     "metadata": {},
     "output_type": "execute_result"
    }
   ],
   "source": [
    "%%sql\n",
    "SELECT AVG(EMPSALARY) FROM QEMP;"
   ]
  }
 ],
 "metadata": {
  "kernelspec": {
   "display_name": "Python 3",
   "language": "python",
   "name": "python3"
  },
  "language_info": {
   "codemirror_mode": {
    "name": "ipython",
    "version": 3
   },
   "file_extension": ".py",
   "mimetype": "text/x-python",
   "name": "python",
   "nbconvert_exporter": "python",
   "pygments_lexer": "ipython3",
   "version": "3.6.8"
  }
 },
 "nbformat": 4,
 "nbformat_minor": 2
}
