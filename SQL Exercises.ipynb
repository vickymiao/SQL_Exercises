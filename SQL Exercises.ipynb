{
 "cells": [
  {
   "cell_type": "markdown",
   "metadata": {},
   "source": [
    "1. Load sql module in jupyter notebook"
   ]
  },
  {
   "cell_type": "code",
   "execution_count": null,
   "metadata": {},
   "outputs": [],
   "source": [
    "%load_ext sql"
   ]
  },
  {
   "cell_type": "markdown",
   "metadata": {},
   "source": [
    "2. Connect to sqlite in jupyter notebook"
   ]
  },
  {
   "cell_type": "code",
   "execution_count": null,
   "metadata": {},
   "outputs": [],
   "source": [
    "%sql sqlite://"
   ]
  },
  {
   "cell_type": "markdown",
   "metadata": {},
   "source": [
    "### 1. The Computer Store"
   ]
  },
  {
   "cell_type": "code",
   "execution_count": null,
   "metadata": {},
   "outputs": [],
   "source": [
    "%%sql\n",
    "\n",
    "CREATE TABLE Manufacturers (\n",
    "    Code INTEGER,\n",
    "    Name VARCHER(255) NOT NULL,\n",
    "    PRIMARY KEY (Code)\n",
    ");"
   ]
  },
  {
   "cell_type": "code",
   "execution_count": null,
   "metadata": {},
   "outputs": [],
   "source": [
    "%%sql\n",
    "SELECT * FROM Manufacturers"
   ]
  },
  {
   "cell_type": "code",
   "execution_count": null,
   "metadata": {},
   "outputs": [],
   "source": [
    "%%sql\n",
    "\n",
    "CREATE TABLE Products (\n",
    "    Code INTEGER,\n",
    "    Name VARCHER(255) NOT NULL,\n",
    "    Price DECIMAL NOT NULL,\n",
    "    Manufacturer INTEGER NOT NULL,\n",
    "    PRIMARY KEY(Code),\n",
    "    FOREIGN KEY (Manufacturer) REFERENCES Manufacturers(Code)\n",
    ")"
   ]
  },
  {
   "cell_type": "code",
   "execution_count": null,
   "metadata": {},
   "outputs": [],
   "source": [
    "%%sql\n",
    "INSERT INTO Manufacturers (Code,Name) VALUES(1, 'Sony');\n",
    "INSERT INTO Manufacturers (Code, Name) VALUES(2, 'Creative Labs');\n",
    "INSERT INTO Manufacturers (Code, Name) VALUES(3, 'Hewlett-Packard');\n",
    "INSERT INTO Manufacturers (Code, Name) VALUES(4, 'Iomega');\n",
    "INSERT INTO Manufacturers (Code, Name) VALUES (5, 'Fujitsu');\n",
    "INSERT INTO Manufacturers (Code, Name) VALUES (6, 'Whinchester');"
   ]
  },
  {
   "cell_type": "code",
   "execution_count": null,
   "metadata": {},
   "outputs": [],
   "source": [
    "%%sql\n",
    "INSERT INTO Products (Code, Name, Price, Manufacturer) VALUES (1, 'Hard drive', 240, 5);\n",
    "INSERT INTO Products (Code, Name, Price, Manufacturer) VALUES (2, 'Memory',120,6);\n",
    "INSERT INTO Products (Code, Name, Price, Manufacturer) VALUES (3, 'ZIP drive', 150,4);\n",
    "INSERT INTO Products (Code, Name, Price, Manufacturer) VALUES (4, 'Floppy disk',5,6);\n",
    "INSERT INTO Products (Code, Name, Price, Manufacturer) VALUES (5, 'Monitor',240,1);\n",
    "INSERT INTO Products (Code, Name, Price, Manufacturer) VALUES (6, 'DVD drive',180, 2);\n",
    "INSERT INTO Products (Code, Name, Price, Manufacturer) VALUES (7, 'CD drive',90,2);\n",
    "INSERT INTO Products (Code, Name, Price, Manufacturer) VALUES (8, 'Printer',270, 3);\n",
    "INSERT INTO Products (Code, Name, Price, Manufacturer) VALUES (9, 'Toner cartridge',66,3);\n",
    "INSERT INTO Products (Code, Name, Price, Manufacturer) VALUES (10, 'DVD burner',180,2);"
   ]
  },
  {
   "cell_type": "markdown",
   "metadata": {},
   "source": [
    "(1) Select the name of all the products in the store."
   ]
  },
  {
   "cell_type": "code",
   "execution_count": null,
   "metadata": {},
   "outputs": [],
   "source": [
    "%%sql\n",
    "\n",
    "SELECT Name\n",
    "FROM Products;"
   ]
  },
  {
   "cell_type": "markdown",
   "metadata": {},
   "source": [
    "(2) Select the names and the prices of all the products in the store."
   ]
  },
  {
   "cell_type": "code",
   "execution_count": null,
   "metadata": {},
   "outputs": [],
   "source": [
    "%%sql\n",
    "SELECT Name, Price FROM Products;"
   ]
  },
  {
   "cell_type": "markdown",
   "metadata": {},
   "source": [
    "(3) Select the name of the products with a price between $60 and $120"
   ]
  },
  {
   "cell_type": "code",
   "execution_count": null,
   "metadata": {},
   "outputs": [],
   "source": [
    "%%sql\n",
    "SELECT Name\n",
    "FROM Products\n",
    "WHERE Price >= 60 AND Price <= 200;"
   ]
  },
  {
   "cell_type": "markdown",
   "metadata": {},
   "source": [
    "(4) Select the name and price in cents"
   ]
  },
  {
   "cell_type": "code",
   "execution_count": null,
   "metadata": {},
   "outputs": [],
   "source": [
    "%%sql\n",
    "SELECT Name, Price* 100 AS 'Price in Cents'\n",
    "FROM Products;"
   ]
  },
  {
   "cell_type": "markdown",
   "metadata": {},
   "source": [
    "(5)Compute the average price of all the products"
   ]
  },
  {
   "cell_type": "code",
   "execution_count": null,
   "metadata": {},
   "outputs": [],
   "source": [
    "%%sql\n",
    "SELECT AVG(Price) FROM Products;"
   ]
  },
  {
   "cell_type": "markdown",
   "metadata": {},
   "source": [
    "(6) Compute the average price of all products with manufacturer code equal to 2."
   ]
  },
  {
   "cell_type": "code",
   "execution_count": null,
   "metadata": {},
   "outputs": [],
   "source": [
    "%%sql\n",
    "SELECT AVG(Price) \n",
    "FROM Products\n",
    "WHERE Manufacturer = 2;"
   ]
  },
  {
   "cell_type": "markdown",
   "metadata": {},
   "source": [
    "(7) Compute the number of products with a price larger than or equal to $180"
   ]
  },
  {
   "cell_type": "code",
   "execution_count": null,
   "metadata": {},
   "outputs": [],
   "source": [
    "%%sql\n",
    "SELECT COUNT(DISTINCT Name)\n",
    "FROM Products\n",
    "WHERE Price >= 180;"
   ]
  },
  {
   "cell_type": "markdown",
   "metadata": {},
   "source": [
    "(8) Select the name and price of all products with a price larget than or equal to 180, and sort first by price (in DESC order), and then by name (in ASC order)"
   ]
  },
  {
   "cell_type": "code",
   "execution_count": null,
   "metadata": {},
   "outputs": [],
   "source": [
    "%%sql\n",
    "SELECT Name, Price\n",
    "FROM Products\n",
    "WHERE Price >= 180\n",
    "ORDER BY Price DESC, Name ASC;"
   ]
  },
  {
   "cell_type": "markdown",
   "metadata": {},
   "source": [
    "(9) Select all the data from the products, including all the data for each product's manufacturer."
   ]
  },
  {
   "cell_type": "code",
   "execution_count": null,
   "metadata": {},
   "outputs": [],
   "source": [
    "%%sql\n",
    "SELECT * FROM \n",
    "Products p JOIN Manufacturers m ON (p.Manufacturer = m.Code);"
   ]
  },
  {
   "cell_type": "code",
   "execution_count": null,
   "metadata": {},
   "outputs": [],
   "source": [
    "%%sql\n",
    "SELECT * FROM Products p, Manufacturers m\n",
    "WHERE p.Manufacturer = m.Code;"
   ]
  },
  {
   "cell_type": "markdown",
   "metadata": {},
   "source": [
    "(10) Select the product name, price and manufactuere of all the products."
   ]
  },
  {
   "cell_type": "code",
   "execution_count": null,
   "metadata": {},
   "outputs": [],
   "source": [
    "%%sql\n",
    "SELECT p.Name, p.Price, m.Name\n",
    "FROM Products p, Manufacturers m\n",
    "WHERE p.Manufacturer = m.Code;"
   ]
  },
  {
   "cell_type": "markdown",
   "metadata": {},
   "source": [
    "(11)Select the average price of each manufacturer's products, showing only the manufacturer's code"
   ]
  },
  {
   "cell_type": "code",
   "execution_count": null,
   "metadata": {},
   "outputs": [],
   "source": [
    "%%sql\n",
    "SELECT AVG(Price), Manufacturer\n",
    "FROM Products\n",
    "GROUP BY Manufacturer;"
   ]
  },
  {
   "cell_type": "markdown",
   "metadata": {},
   "source": [
    "(12) Select the average price of each manufacturer's products, showing the manufacturer's name."
   ]
  },
  {
   "cell_type": "code",
   "execution_count": null,
   "metadata": {},
   "outputs": [],
   "source": [
    "%%sql\n",
    "SELECT AVG(p.Price), m.Name\n",
    "FROM Products p, Manufacturers m\n",
    "WHERE p.Manufacturer = m.code\n",
    "GROUP BY m.Name;"
   ]
  },
  {
   "cell_type": "markdown",
   "metadata": {},
   "source": [
    "(13) Select the names of manufacturer whose products have an average price larger than or equal to $150."
   ]
  },
  {
   "cell_type": "code",
   "execution_count": null,
   "metadata": {},
   "outputs": [],
   "source": [
    "%%sql\n",
    "SELECT m.Name, AVG(p.Price)\n",
    "FROM Manufacturers m JOIN Products p\n",
    "ON m.Code = p.Manufacturer\n",
    "GROUP BY p.Manufacturer\n",
    "HAVING AVG(p.Price) >= 150;\n"
   ]
  },
  {
   "cell_type": "markdown",
   "metadata": {},
   "source": [
    "(14) Select the name and price of the cheapest product"
   ]
  },
  {
   "cell_type": "code",
   "execution_count": null,
   "metadata": {},
   "outputs": [],
   "source": [
    "%%sql\n",
    "SELECT Price, Name\n",
    "FROM Products\n",
    "ORDER BY Price\n",
    "LIMIT 1;"
   ]
  },
  {
   "cell_type": "code",
   "execution_count": null,
   "metadata": {},
   "outputs": [],
   "source": [
    "%%sql\n",
    "SELECT Price, Name\n",
    "FROM Products\n",
    "WHERE Price = (SELECT MIN(Price) FROM Products);"
   ]
  },
  {
   "cell_type": "markdown",
   "metadata": {},
   "source": [
    "(15) Select the name of each manufacturer along with the name and price of its most expensive product."
   ]
  },
  {
   "cell_type": "code",
   "execution_count": null,
   "metadata": {},
   "outputs": [],
   "source": [
    "%%sql\n",
    "SELECT p.Name, p.Price, m.Name\n",
    "FROM Products p INNER JOIN Manufacturers m\n",
    "   ON p.Manufacturer = m.Code\n",
    "     AND p.Price =\n",
    "    (\n",
    "       SELECT MAX(p.Price)\n",
    "         FROM Products p\n",
    "         WHERE p.Manufacturer = m.Code\n",
    "     );"
   ]
  },
  {
   "cell_type": "code",
   "execution_count": null,
   "metadata": {},
   "outputs": [],
   "source": [
    "%%sql\n",
    "\n",
    "SELECT pp.Price, m.Name\n",
    "FROM Manufacturers m JOIN \n",
    "( SELECT MAX(p.Price) as Price, p.Code, p.Manufacturer FROM Products p\n",
    "    GROUP BY p.Code\n",
    ") pp\n",
    "ON pp.Manufacturer = m.Code\n",
    "AND pp.Price = "
   ]
  },
  {
   "cell_type": "markdown",
   "metadata": {},
   "source": [
    "(16) Add a new product: Loudspeakers, $70, manufacturer 2."
   ]
  },
  {
   "cell_type": "code",
   "execution_count": null,
   "metadata": {},
   "outputs": [],
   "source": [
    "%%sql\n",
    "INSERT INTO Products (Code, Name, Price, Manufacturer) VALUES (11, 'Loudspeakers',70,2)"
   ]
  },
  {
   "cell_type": "markdown",
   "metadata": {},
   "source": [
    "(17) Update the name of product 8 to 'Laser Printer'"
   ]
  },
  {
   "cell_type": "code",
   "execution_count": null,
   "metadata": {},
   "outputs": [],
   "source": [
    "%%sql\n",
    "UPDATE Products\n",
    "SET Name = 'Laser Printer'\n",
    "WHERE Code = 8;"
   ]
  },
  {
   "cell_type": "markdown",
   "metadata": {},
   "source": [
    "(18) Apply a 10% discount to all products."
   ]
  },
  {
   "cell_type": "code",
   "execution_count": null,
   "metadata": {},
   "outputs": [],
   "source": [
    "%%sql\n",
    "UPDATE Products\n",
    "SET Price = Price * 0.9;"
   ]
  },
  {
   "cell_type": "markdown",
   "metadata": {},
   "source": [
    "(19) Apply a 10% discount to all products with a price higher than or equal to $120"
   ]
  },
  {
   "cell_type": "code",
   "execution_count": null,
   "metadata": {},
   "outputs": [],
   "source": [
    "%%sql\n",
    "UPDATE Products\n",
    "SET Price = Price * 0.9\n",
    "WHERE Price >= 120;"
   ]
  },
  {
   "cell_type": "markdown",
   "metadata": {},
   "source": [
    "### 2. Employee Management"
   ]
  },
  {
   "cell_type": "code",
   "execution_count": null,
   "metadata": {},
   "outputs": [],
   "source": [
    "%%sql\n",
    "CREATE TABLE Departments (\n",
    "    Code INTEGER NOT NULL,\n",
    "    Name TEXT NOT NULL,\n",
    "    Budget REAL NOT NULL,\n",
    "    PRIMARY KEY (Code));"
   ]
  },
  {
   "cell_type": "code",
   "execution_count": null,
   "metadata": {},
   "outputs": [],
   "source": [
    "%%sql\n",
    "CREATE TABLE Employees (\n",
    "    SSN INTEGER PRIMARY KEY,\n",
    "    Name TEXT NOT NULL,\n",
    "    LastName TEXT NOT NULL,\n",
    "    Department INTEGER NOT NULL,\n",
    "    FOREIGN KEY (Department) REFERENCES Departments(Code)\n",
    "    );"
   ]
  },
  {
   "cell_type": "code",
   "execution_count": null,
   "metadata": {},
   "outputs": [],
   "source": [
    "%%sql\n",
    "INSERT INTO Departments(Code,Name,Budget) VALUES(14,'IT',65000);\n",
    "INSERT INTO Departments(Code,Name,Budget) VALUES(37,'Accounting',15000);\n",
    "INSERT INTO Departments(Code,Name,Budget) VALUES(59,'Human Resources',240000);\n",
    "INSERT INTO Departments(Code,Name,Budget) VALUES(77,'Research',55000);"
   ]
  },
  {
   "cell_type": "code",
   "execution_count": null,
   "metadata": {},
   "outputs": [],
   "source": [
    "%%sql\n",
    "INSERT INTO Employees(SSN,Name,LastName,Department) VALUES('123234877','Michael','Rogers',14);\n",
    "INSERT INTO Employees(SSN,Name,LastName,Department) VALUES('152934485','Anand','Manikutty',14);\n",
    "INSERT INTO Employees(SSN,Name,LastName,Department) VALUES('222364883','Carol','Smith',37);\n",
    "INSERT INTO Employees(SSN,Name,LastName,Department) VALUES('326587417','Joe','Stevens',37);\n",
    "INSERT INTO Employees(SSN,Name,LastName,Department) VALUES('332154719','Mary-Anne','Foster',14);\n",
    "INSERT INTO Employees(SSN,Name,LastName,Department) VALUES('332569843','George','O''Donnell',77);\n",
    "INSERT INTO Employees(SSN,Name,LastName,Department) VALUES('546523478','John','Doe',59);\n",
    "INSERT INTO Employees(SSN,Name,LastName,Department) VALUES('631231482','David','Smith',77);\n",
    "INSERT INTO Employees(SSN,Name,LastName,Department) VALUES('654873219','Zacary','Efron',59);\n",
    "INSERT INTO Employees(SSN,Name,LastName,Department) VALUES('745685214','Eric','Goldsmith',59);\n",
    "INSERT INTO Employees(SSN,Name,LastName,Department) VALUES('845657245','Elizabeth','Doe',14);\n",
    "INSERT INTO Employees(SSN,Name,LastName,Department) VALUES('845657246','Kumar','Swamy',14);"
   ]
  },
  {
   "cell_type": "markdown",
   "metadata": {},
   "source": [
    "(1) Select the last name of all employees"
   ]
  },
  {
   "cell_type": "code",
   "execution_count": null,
   "metadata": {},
   "outputs": [],
   "source": [
    "%%sql\n",
    "SELECT LastName FROM Employees;"
   ]
  },
  {
   "cell_type": "markdown",
   "metadata": {},
   "source": [
    "(2) Select the last name of all employees, without duplicates"
   ]
  },
  {
   "cell_type": "code",
   "execution_count": null,
   "metadata": {},
   "outputs": [],
   "source": [
    "%%sql\n",
    "SELECT DISTINCT(LastName) FROM Employees;"
   ]
  },
  {
   "cell_type": "markdown",
   "metadata": {},
   "source": [
    "(3) Select all the data of employees whose last name is 'Smith'"
   ]
  },
  {
   "cell_type": "code",
   "execution_count": null,
   "metadata": {},
   "outputs": [],
   "source": [
    "%%sql\n",
    "SELECT * FROM Employees WHERE LastName = 'Smith';"
   ]
  },
  {
   "cell_type": "markdown",
   "metadata": {},
   "source": [
    "(4) Select all the data of employees whose last name is 'Smith' or 'Doe'"
   ]
  },
  {
   "cell_type": "code",
   "execution_count": null,
   "metadata": {},
   "outputs": [],
   "source": [
    "%%sql\n",
    "SELECT * FROM Employees WHERE LastName in ('Smith', 'Doe');"
   ]
  },
  {
   "cell_type": "markdown",
   "metadata": {},
   "source": [
    "(5) Select all the data of employees that work in department 14"
   ]
  },
  {
   "cell_type": "code",
   "execution_count": null,
   "metadata": {},
   "outputs": [],
   "source": [
    "%%sql\n",
    "SELECT * FROM Employees WHERE Department = 14;"
   ]
  },
  {
   "cell_type": "markdown",
   "metadata": {},
   "source": [
    "(6) Select all the data of employees what work in the department 37 or department 77"
   ]
  },
  {
   "cell_type": "code",
   "execution_count": null,
   "metadata": {},
   "outputs": [],
   "source": [
    "%%sql\n",
    "SELECT * FROM Employees WHERE Department in (37,77);"
   ]
  },
  {
   "cell_type": "markdown",
   "metadata": {},
   "source": [
    "(7) Select all the data of employees whose last name begins with an 'S'"
   ]
  },
  {
   "cell_type": "code",
   "execution_count": null,
   "metadata": {},
   "outputs": [],
   "source": [
    "%%sql\n",
    "SELECT * FROM Employees WHERE LastName LIKE 'S%';"
   ]
  },
  {
   "cell_type": "markdown",
   "metadata": {},
   "source": [
    "(8) Select the sum of all the departments' budget"
   ]
  },
  {
   "cell_type": "code",
   "execution_count": null,
   "metadata": {},
   "outputs": [],
   "source": [
    "%%sql\n",
    "SELECT SUM(Budget) FROM Departments;"
   ]
  },
  {
   "cell_type": "markdown",
   "metadata": {},
   "source": [
    "(9) Select the number of employees in each department (you only need to show the department code and the number of employees)"
   ]
  },
  {
   "cell_type": "code",
   "execution_count": null,
   "metadata": {},
   "outputs": [],
   "source": [
    "%%sql\n",
    "SELECT COUNT(*), Department FROM Employees GROUP BY Department;"
   ]
  },
  {
   "cell_type": "markdown",
   "metadata": {},
   "source": [
    "(10) Select all the data of employees, including each employee's department data."
   ]
  },
  {
   "cell_type": "code",
   "execution_count": null,
   "metadata": {},
   "outputs": [],
   "source": [
    "%%sql\n",
    "SELECT e.*,d.*\n",
    "FROM Employees e JOIN Departments d ON e.Department = d.Code;"
   ]
  },
  {
   "cell_type": "markdown",
   "metadata": {},
   "source": [
    "(11) Select the name and last name of each employee, along with the name and budget of the employee's department"
   ]
  },
  {
   "cell_type": "code",
   "execution_count": null,
   "metadata": {},
   "outputs": [],
   "source": [
    "%%sql\n",
    "SELECT e.Name || ' ' ||e.LastName, d.Name, d.Budget\n",
    "FROM Employees e JOIN Departments d\n",
    "ON e.Department = d.Code;"
   ]
  },
  {
   "cell_type": "markdown",
   "metadata": {},
   "source": [
    "(12) Select the name and last name of employees working for departments with a budget greater than $60000."
   ]
  },
  {
   "cell_type": "code",
   "execution_count": null,
   "metadata": {},
   "outputs": [],
   "source": [
    "%%sql\n",
    "SELECT e.Name || ' '|| e.LastName AS 'Name', d.Name, d.Budget\n",
    "FROM Employees e JOIN Departments d\n",
    "ON e.Department = d.Code\n",
    "WHERE d.Budget >= 60000;"
   ]
  },
  {
   "cell_type": "markdown",
   "metadata": {},
   "source": [
    "(13) Select the departments with a budget larger than the average budget of all the departments."
   ]
  },
  {
   "cell_type": "code",
   "execution_count": null,
   "metadata": {},
   "outputs": [],
   "source": [
    "%%sql\n",
    "SELECT Name, Budget\n",
    "FROM Departments\n",
    "WHERE Budget >\n",
    "    (SELECT AVG(Budget) FROM Departments\n",
    "    );"
   ]
  },
  {
   "cell_type": "markdown",
   "metadata": {},
   "source": [
    "(14) Select the names of departments with more than two employees"
   ]
  },
  {
   "cell_type": "code",
   "execution_count": null,
   "metadata": {},
   "outputs": [],
   "source": [
    "%%sql\n",
    "SELECT d.name\n",
    "FROM Departments d JOIN \n",
    "    (SELECT Department\n",
    "     FROM Employees \n",
    "     GROUP BY Department\n",
    "     HAVING COUNT(SSN) > 2\n",
    "    ) e\n",
    "ON d.Code = e.Department;"
   ]
  },
  {
   "cell_type": "code",
   "execution_count": null,
   "metadata": {},
   "outputs": [],
   "source": [
    "%%sql\n",
    "SELECT Name FROM Departments\n",
    "  WHERE Code IN\n",
    "(SELECT Department FROM Employees\n",
    "      GROUP BY Department\n",
    "      HAVING COUNT(*) > 2\n",
    "  );"
   ]
  },
  {
   "cell_type": "code",
   "execution_count": null,
   "metadata": {},
   "outputs": [],
   "source": [
    "%%sql\n",
    "SELECT Departments.Name\n",
    "  FROM Employees INNER JOIN Departments\n",
    "    ON Department = Code\n",
    "    GROUP BY Departments.Name\n",
    "    HAVING COUNT(*) > 2;"
   ]
  },
  {
   "cell_type": "markdown",
   "metadata": {},
   "source": [
    "(15) Select the name and last name of employees working for departments with second lowest budget."
   ]
  },
  {
   "cell_type": "code",
   "execution_count": null,
   "metadata": {},
   "outputs": [],
   "source": [
    "%%sql\n",
    "SELECT Name || ' ' || LastName\n",
    "FROM Employees\n",
    "WHERE Department IN (\n",
    "    SELECT Code\n",
    "    FROM \n",
    "        (SELECT * FROM Departments ORDER BY Budget LIMIT 2)\n",
    "    ORDER BY Budget DESC\n",
    "    LIMIT 1);"
   ]
  },
  {
   "cell_type": "markdown",
   "metadata": {},
   "source": [
    "(16) Add a new department called 'Quality Assurance', with a budget of $40000 and department code 11. Add an employee called 'Mary Morre' in that department, with SSN 847-21-9811."
   ]
  },
  {
   "cell_type": "code",
   "execution_count": null,
   "metadata": {},
   "outputs": [],
   "source": [
    "%%sql\n",
    "INSERT INTO Departments\n",
    "  VALUES ( 11 , 'Quality Assurance' , 40000);\n",
    "\n",
    "INSERT INTO Employees\n",
    "  VALUES ( '847219811' , 'Mary' , 'Moore' , 11);"
   ]
  },
  {
   "cell_type": "markdown",
   "metadata": {},
   "source": [
    "(17) Reduce the budget of all departments by 10%"
   ]
  },
  {
   "cell_type": "code",
   "execution_count": null,
   "metadata": {},
   "outputs": [],
   "source": [
    "%%sql\n",
    "UPDATE Departments\n",
    "SET Budget = Budget * 0.9;"
   ]
  },
  {
   "cell_type": "markdown",
   "metadata": {},
   "source": [
    "(18) Reassign all employees from the research department (code 77) to the IT Depertment (code 14)"
   ]
  },
  {
   "cell_type": "code",
   "execution_count": null,
   "metadata": {},
   "outputs": [],
   "source": [
    "%%sql\n",
    "UPDATE Employees\n",
    "SET Department = 14\n",
    "WHERE Department = 77;"
   ]
  },
  {
   "cell_type": "markdown",
   "metadata": {},
   "source": [
    "(19) Delete from the table all employees in the IT deprtment (code 14)"
   ]
  },
  {
   "cell_type": "code",
   "execution_count": null,
   "metadata": {},
   "outputs": [],
   "source": [
    "%%sql\n",
    "DELETE FROM Employees WHERE Department = 14;"
   ]
  },
  {
   "cell_type": "markdown",
   "metadata": {},
   "source": [
    "(20) Delete from the table all employees who work in departments with a budget greater than or equal to $60000."
   ]
  },
  {
   "cell_type": "code",
   "execution_count": null,
   "metadata": {},
   "outputs": [],
   "source": [
    "%%sql\n",
    "DELETE FROM Employees\n",
    "  WHERE Department IN\n",
    "(\n",
    "    SELECT Code FROM Departments\n",
    "      WHERE Budget >= 60000\n",
    "  );"
   ]
  },
  {
   "cell_type": "markdown",
   "metadata": {},
   "source": [
    "(21) Delete from the table all employees"
   ]
  },
  {
   "cell_type": "code",
   "execution_count": null,
   "metadata": {},
   "outputs": [],
   "source": [
    "%%sql\n",
    "DELETE FROM Employees;"
   ]
  },
  {
   "cell_type": "code",
   "execution_count": null,
   "metadata": {},
   "outputs": [],
   "source": [
    "%%sql\n",
    "SELECT * FROM Employees;"
   ]
  },
  {
   "cell_type": "markdown",
   "metadata": {},
   "source": [
    "### 3. The Warehouse"
   ]
  },
  {
   "cell_type": "code",
   "execution_count": null,
   "metadata": {},
   "outputs": [],
   "source": [
    "%%sql\n",
    "CREATE TABLE Warehouses (\n",
    "    Code INTEGER PRIMARY KEY NOT NULL,\n",
    "    Location TEXT NOT NULL,\n",
    "    Capacity INTEGER NOT NULL);"
   ]
  },
  {
   "cell_type": "code",
   "execution_count": null,
   "metadata": {},
   "outputs": [],
   "source": [
    "%%sql\n",
    "CREATE TABLE Boxes(\n",
    "    Code TEXT PRIMARY KEY NOT NULL,\n",
    "    Contents TEXT NOT NULL,\n",
    "    Value REAL NOT NULL,\n",
    "    Warehouse INTEGER NOT NULL,\n",
    "    FOREIGN KEY(Warehouse) REFERENCES Warehouses(Code))"
   ]
  },
  {
   "cell_type": "code",
   "execution_count": null,
   "metadata": {},
   "outputs": [],
   "source": [
    "%%sql\n",
    "INSERT INTO Warehouses(Code,Location,Capacity) VALUES(1,'Chicago',3);\n",
    "INSERT INTO Warehouses(Code,Location,Capacity) VALUES(2,'Chicago',4);\n",
    "INSERT INTO Warehouses(Code,Location,Capacity) VALUES(3,'New York',7);\n",
    "INSERT INTO Warehouses(Code,Location,Capacity) VALUES(4,'Los Angeles',2);\n",
    "INSERT INTO Warehouses(Code,Location,Capacity) VALUES(5,'San Francisco',8);\n",
    " \n",
    "INSERT INTO Boxes(Code,Contents,Value,Warehouse) VALUES('0MN7','Rocks',180,3);\n",
    "INSERT INTO Boxes(Code,Contents,Value,Warehouse) VALUES('4H8P','Rocks',250,1);\n",
    "INSERT INTO Boxes(Code,Contents,Value,Warehouse) VALUES('4RT3','Scissors',190,4);\n",
    "INSERT INTO Boxes(Code,Contents,Value,Warehouse) VALUES('7G3H','Rocks',200,1);\n",
    "INSERT INTO Boxes(Code,Contents,Value,Warehouse) VALUES('8JN6','Papers',75,1);\n",
    "INSERT INTO Boxes(Code,Contents,Value,Warehouse) VALUES('8Y6U','Papers',50,3);\n",
    "INSERT INTO Boxes(Code,Contents,Value,Warehouse) VALUES('9J6F','Papers',175,2);\n",
    "INSERT INTO Boxes(Code,Contents,Value,Warehouse) VALUES('LL08','Rocks',140,4);\n",
    "INSERT INTO Boxes(Code,Contents,Value,Warehouse) VALUES('P0H6','Scissors',125,1);\n",
    "INSERT INTO Boxes(Code,Contents,Value,Warehouse) VALUES('P2T6','Scissors',150,2);\n",
    "INSERT INTO Boxes(Code,Contents,Value,Warehouse) VALUES('TU55','Papers',90,5); "
   ]
  },
  {
   "cell_type": "markdown",
   "metadata": {},
   "source": [
    "(1) Select all warehouses\n"
   ]
  },
  {
   "cell_type": "code",
   "execution_count": null,
   "metadata": {},
   "outputs": [],
   "source": [
    "%%sql\n",
    "SELECT * FROM Warehouses;"
   ]
  },
  {
   "cell_type": "markdown",
   "metadata": {},
   "source": [
    "(2) Select all boxes with a value larger then $150"
   ]
  },
  {
   "cell_type": "code",
   "execution_count": null,
   "metadata": {},
   "outputs": [],
   "source": [
    "%%sql\n",
    "SELECT * FROM Boxes\n",
    "WHERE Value >= 150;"
   ]
  },
  {
   "cell_type": "markdown",
   "metadata": {},
   "source": [
    "(3)Select all distinct contents in all the boxes"
   ]
  },
  {
   "cell_type": "code",
   "execution_count": null,
   "metadata": {},
   "outputs": [],
   "source": [
    "%%sql\n",
    "SELECT DISTINCT Contents FROM Boxes"
   ]
  },
  {
   "cell_type": "markdown",
   "metadata": {},
   "source": [
    "(4) Select the average value of all the boxes"
   ]
  },
  {
   "cell_type": "code",
   "execution_count": null,
   "metadata": {},
   "outputs": [],
   "source": [
    "%%sql\n",
    "SELECT ROUND(AVG(Value),2) FROM Boxes;"
   ]
  },
  {
   "cell_type": "markdown",
   "metadata": {},
   "source": [
    "(5) Select the warehouse code and average value of the boxes in each warehouse"
   ]
  },
  {
   "cell_type": "code",
   "execution_count": null,
   "metadata": {},
   "outputs": [],
   "source": [
    "%%sql\n",
    "SELECT Warehouse, AVG(Value)\n",
    "FROM Boxes\n",
    "GROUP BY Warehouse;"
   ]
  },
  {
   "cell_type": "markdown",
   "metadata": {},
   "source": [
    "(6) Same as previous exercise, but select only those warehouses where the average value of the boxes is greater than 150"
   ]
  },
  {
   "cell_type": "code",
   "execution_count": null,
   "metadata": {},
   "outputs": [],
   "source": [
    "%%sql\n",
    "SELECT Warehouse, AVG(Value)\n",
    "FROM Boxes\n",
    "GROUP BY Warehouse\n",
    "HAVING AVG(Value) > 150;"
   ]
  },
  {
   "cell_type": "markdown",
   "metadata": {},
   "source": [
    "(7) Select the code of each box, along with the name of the city the box is located in."
   ]
  },
  {
   "cell_type": "code",
   "execution_count": null,
   "metadata": {},
   "outputs": [],
   "source": [
    "%%sql\n",
    "SELECT b.Code, w.Location\n",
    "FROM Boxes b JOIN Warehouses w\n",
    "ON b.Warehouse = w.Code;"
   ]
  },
  {
   "cell_type": "markdown",
   "metadata": {},
   "source": [
    "(8)Select the warehouse codes, along with the bumber of boxes in each warehouse. Optionally, take into account that some warehouses are empty (i.e, the box count should show up as zero, instead of omitting the warehouse from the reuslt)"
   ]
  },
  {
   "cell_type": "code",
   "execution_count": null,
   "metadata": {},
   "outputs": [],
   "source": [
    "%%sql\n",
    "SELECT w.Code, COUNT(b.Code)\n",
    "FROM Warehouses w JOIN Boxes b\n",
    "ON w.Code = b.Warehouse\n",
    "GROUP BY w.Code"
   ]
  },
  {
   "cell_type": "markdown",
   "metadata": {},
   "source": [
    "(9) Select the codes of all warehouses that are saturated (a warehouse is saturated if the number of boxes in it is larger than the warehouse's capacity)"
   ]
  },
  {
   "cell_type": "code",
   "execution_count": null,
   "metadata": {},
   "outputs": [],
   "source": [
    "%%sql\n",
    "SELECT w.Code, COUNT(b.Code),w.Capacity\n",
    "FROM Warehouses w JOIN Boxes b\n",
    "ON w.Code = b.Warehouse\n",
    "GROUP BY w.Code\n",
    "HAVING COUNT(b.Code) > w.Capacity;"
   ]
  },
  {
   "cell_type": "code",
   "execution_count": null,
   "metadata": {},
   "outputs": [],
   "source": [
    "%%sql\n",
    "SELECT Code\n",
    "FROM Warehouses\n",
    "WHERE Capacity <\n",
    "   (\n",
    "     SELECT COUNT(*)\n",
    "     FROM Boxes\n",
    "     WHERE Warehouse = Warehouses.Code\n",
    "   );"
   ]
  },
  {
   "cell_type": "markdown",
   "metadata": {},
   "source": [
    "(10) Select the codes of all the boxes located in Chicago."
   ]
  },
  {
   "cell_type": "code",
   "execution_count": null,
   "metadata": {},
   "outputs": [],
   "source": [
    "%%sql\n",
    "SELECT b.Code, w.Location\n",
    "FROM Boxes b JOIN Warehouses w\n",
    "ON b.Warehouse = w.Code\n",
    "WHERE w.Location = 'Chicago';"
   ]
  },
  {
   "cell_type": "code",
   "execution_count": null,
   "metadata": {},
   "outputs": [],
   "source": [
    "%%sql\n",
    "SELECT Code\n",
    "FROM Boxes\n",
    "WHERE Warehouse IN (\n",
    "    SELECT Code\n",
    "    FROM Warehouses\n",
    "    WHERE Location = 'Chicago');"
   ]
  },
  {
   "cell_type": "markdown",
   "metadata": {},
   "source": [
    "(11) Create a new warehouse in New York with a capacity for 3 boxes."
   ]
  },
  {
   "cell_type": "code",
   "execution_count": null,
   "metadata": {},
   "outputs": [],
   "source": [
    "%%sql\n",
    "INSERT INTO Warehouses (Location, Capacity) VALUES ('New York',3);"
   ]
  },
  {
   "cell_type": "markdown",
   "metadata": {},
   "source": [
    "(12) Create a new box, with code 'H5RT', containing 'Papers' with a value of $200, and lcoatied in warehouse 2."
   ]
  },
  {
   "cell_type": "code",
   "execution_count": null,
   "metadata": {},
   "outputs": [],
   "source": [
    "%%sql\n",
    "INSERT INTO Boxes VALUES ('H5RT','Papers',200,2);"
   ]
  },
  {
   "cell_type": "markdown",
   "metadata": {},
   "source": [
    "(13) Reduce the value of all boxes by 15%"
   ]
  },
  {
   "cell_type": "code",
   "execution_count": null,
   "metadata": {},
   "outputs": [],
   "source": [
    "%%sql\n",
    "UPDATE Boxes\n",
    "SET Value = Value * (1-0.15);Any repeat loan created within 1 month of the first"
   ]
  },
  {
   "cell_type": "markdown",
   "metadata": {},
   "source": [
    "(14) Apply a 20% value reduction to boxes with a value larget than the average value of all the boxes"
   ]
  },
  {
   "cell_type": "code",
   "execution_count": null,
   "metadata": {},
   "outputs": [],
   "source": [
    "%%sql\n",
    "UPDATE Boxes\n",
    "SET Value = Value * (1-0.2)\n",
    "WHERE Value > (\n",
    "    SELECT AVG(Value)\n",
    "    FROM Boxes);"
   ]
  },
  {
   "cell_type": "markdown",
   "metadata": {},
   "source": [
    "(15) Remove all boxes with a value lower than $100"
   ]
  },
  {
   "cell_type": "code",
   "execution_count": null,
   "metadata": {},
   "outputs": [],
   "source": [
    "%%sql\n",
    "DELETE FROM Boxes\n",
    "WHERE Value < 100;"
   ]
  },
  {
   "cell_type": "markdown",
   "metadata": {},
   "source": [
    "(16) Remove all boxes from saturated warehouses"
   ]
  },
  {
   "cell_type": "code",
   "execution_count": null,
   "metadata": {},
   "outputs": [],
   "source": [
    "%%sql\n",
    "DELETE FROM Boxes\n",
    "WHERE Warehouse IN (\n",
    "    SELECT Code\n",
    "    FROM Warehouses\n",
    "    WHERE Capacity < (\n",
    "        SELECT COUNT(Code)\n",
    "        FROM Boxes\n",
    "        GROUP BY Warehouse));"
   ]
  },
  {
   "cell_type": "code",
   "execution_count": null,
   "metadata": {},
   "outputs": [],
   "source": [
    "%%sql\n",
    " DELETE FROM Boxes WHERE Warehouse IN\n",
    "(\n",
    "     SELECT Code\n",
    "       FROM Warehouses\n",
    "       WHERE Capacity <\n",
    "       (\n",
    "         SELECT COUNT(*)\n",
    "           FROM Boxes\n",
    "           WHERE Warehouse = Warehouses.Code\n",
    "       )\n",
    "   );"
   ]
  },
  {
   "cell_type": "markdown",
   "metadata": {},
   "source": [
    "### 4. Movie Theatres"
   ]
  },
  {
   "cell_type": "code",
   "execution_count": null,
   "metadata": {},
   "outputs": [],
   "source": [
    "%%sql\n",
    "CREATE TABLE Movies(\n",
    "Code INTEGER PRIMARY KEY NOT NULL,\n",
    "Title TEXT NOT NULL,\n",
    "Rating TEXT);"
   ]
  },
  {
   "cell_type": "code",
   "execution_count": null,
   "metadata": {},
   "outputs": [],
   "source": [
    "%%sql\n",
    "CREATE TABLE MovieTheaters (\n",
    "CODE INTEGER PRIMARY KEY NOT NULL,\n",
    "NAME TEXT NOT NULL,\n",
    "Movie INTEGER,\n",
    "FOREIGN KEY(Movie) REFERENCES Movies(Code));"
   ]
  },
  {
   "cell_type": "code",
   "execution_count": null,
   "metadata": {},
   "outputs": [],
   "source": [
    "%%sql\n",
    "INSERT INTO Movies(Code,Title,Rating) VALUES(9,'Citizen King','G');\n",
    "INSERT INTO Movies(Code,Title,Rating) VALUES(1,'Citizen Kane','PG');\n",
    "INSERT INTO Movies(Code,Title,Rating) VALUES(2,'Singin'' in the Rain','G');\n",
    "INSERT INTO Movies(Code,Title,Rating) VALUES(3,'The Wizard of Oz','G');\n",
    "INSERT INTO Movies(Code,Title,Rating) VALUES(4,'The Quiet Man',NULL);\n",
    "INSERT INTO Movies(Code,Title,Rating) VALUES(5,'North by Northwest',NULL);\n",
    "INSERT INTO Movies(Code,Title,Rating) VALUES(6,'The Last Tango in Paris','NC-17');\n",
    "INSERT INTO Movies(Code,Title,Rating) VALUES(7,'Some Like it Hot','PG-13');\n",
    "INSERT INTO Movies(Code,Title,Rating) VALUES(8,'A Night at the Opera',NULL);\n",
    " \n",
    "INSERT INTO MovieTheaters(Code,Name,Movie) VALUES(1,'Odeon',5);\n",
    "INSERT INTO MovieTheaters(Code,Name,Movie) VALUES(2,'Imperial',1);\n",
    "INSERT INTO MovieTheaters(Code,Name,Movie) VALUES(3,'Majestic',NULL);\n",
    "INSERT INTO MovieTheaters(Code,Name,Movie) VALUES(4,'Royale',6);\n",
    "INSERT INTO MovieTheaters(Code,Name,Movie) VALUES(5,'Paraiso',3);\n",
    "INSERT INTO MovieTheaters(Code,Name,Movie) VALUES(6,'Nickelodeon',NULL);"
   ]
  },
  {
   "cell_type": "markdown",
   "metadata": {},
   "source": [
    "(1) Select the title of all movies"
   ]
  },
  {
   "cell_type": "code",
   "execution_count": null,
   "metadata": {},
   "outputs": [],
   "source": [
    "%%sql\n",
    "SELECT Title FROM Movies;"
   ]
  },
  {
   "cell_type": "markdown",
   "metadata": {},
   "source": [
    "(2) Show all the distint ratings in the database;"
   ]
  },
  {
   "cell_type": "code",
   "execution_count": null,
   "metadata": {},
   "outputs": [],
   "source": [
    "%%sql\n",
    "SELECT DISTINCT Rating FROM Movies;"
   ]
  },
  {
   "cell_type": "markdown",
   "metadata": {},
   "source": [
    "(3) Show all unrated movies."
   ]
  },
  {
   "cell_type": "code",
   "execution_count": null,
   "metadata": {},
   "outputs": [],
   "source": [
    "%%sql\n",
    "SELECT * FROM Movies WHERE Rating IS NULL;"
   ]
  },
  {
   "cell_type": "markdown",
   "metadata": {},
   "source": [
    "(4)Select all movies theaters that are not currently showing a movie"
   ]
  },
  {
   "cell_type": "code",
   "execution_count": null,
   "metadata": {},
   "outputs": [],
   "source": [
    "%%sql\n",
    "SELECT * FROM MovieTheaters WHERE Movie IS NULL;"
   ]
  },
  {
   "cell_type": "markdown",
   "metadata": {},
   "source": [
    "(5) Select all data from all movie theaters and, additionally, the data from the movie that is being shown in the theater (if one is being shown)"
   ]
  },
  {
   "cell_type": "code",
   "execution_count": null,
   "metadata": {},
   "outputs": [],
   "source": [
    "%%sql\n",
    "SELECT t.*, m.*\n",
    "FROM MovieTheaters t LEFT JOIN Movies m\n",
    "ON t.Movie = m.Code;"
   ]
  },
  {
   "cell_type": "markdown",
   "metadata": {},
   "source": [
    "(6) Select all data from all movies and, if that movie is being shown in a theater, show the data from the theater."
   ]
  },
  {
   "cell_type": "code",
   "execution_count": null,
   "metadata": {},
   "outputs": [],
   "source": [
    "%%sql\n",
    "SELECT t.*, m.*\n",
    "FROM MovieTheaters t RIGHT JOIN Movies m\n",
    "ON t.Movie = m.Code;"
   ]
  },
  {
   "cell_type": "markdown",
   "metadata": {},
   "source": [
    "(7) Show the titles of movies not currently being shown in any theaters"
   ]
  },
  {
   "cell_type": "code",
   "execution_count": null,
   "metadata": {},
   "outputs": [],
   "source": [
    "%%sql\n",
    "SELECT m.* , t.Name\n",
    "FROM Movies m LEFT JOIN MovieTheaters t\n",
    "ON m.Code = t.Movie\n",
    "WHERE t.Movie IS NULL;"
   ]
  },
  {
   "cell_type": "code",
   "execution_count": null,
   "metadata": {},
   "outputs": [],
   "source": [
    "%%sql\n",
    "SELECT Title FROM Movies\n",
    "   WHERE Code NOT IN\n",
    "(\n",
    "     SELECT Movie FROM MovieTheaters\n",
    "     WHERE Movie IS NOT NULL\n",
    "   );"
   ]
  },
  {
   "cell_type": "markdown",
   "metadata": {},
   "source": [
    "(8) Add the unrated movie 'One, Two, Three'"
   ]
  },
  {
   "cell_type": "code",
   "execution_count": null,
   "metadata": {},
   "outputs": [],
   "source": [
    "%%sql\n",
    "INSERT INTO Movies (Title,Rating)\n",
    "VALUES ('One, Two, Three', NULL);"
   ]
  },
  {
   "cell_type": "markdown",
   "metadata": {},
   "source": [
    "(9) Set the rating of all unrated movies to 'G'"
   ]
  },
  {
   "cell_type": "code",
   "execution_count": null,
   "metadata": {},
   "outputs": [],
   "source": [
    "%%sql\n",
    "UPDATE Movies\n",
    "SET Rating = 'G'\n",
    "WHERE Rating IS NULL;"
   ]
  },
  {
   "cell_type": "markdown",
   "metadata": {},
   "source": [
    "(10) Remove movie theaters project movies rated 'NC-17'"
   ]
  },
  {
   "cell_type": "code",
   "execution_count": null,
   "metadata": {},
   "outputs": [],
   "source": [
    "%%sql\n",
    "DELETE FROM MovieTheaters\n",
    "WHERE Movie in (\n",
    "    SELECT Code\n",
    "    FROM Movies\n",
    "    WHERE Rating = 'NC-17');"
   ]
  },
  {
   "cell_type": "markdown",
   "metadata": {},
   "source": [
    "### 5. Pieces and Providers"
   ]
  },
  {
   "cell_type": "code",
   "execution_count": null,
   "metadata": {},
   "outputs": [],
   "source": [
    "%%sql\n",
    "CREATE TABLE Pieces (\n",
    "    Code INTEGER PRIMARY KEY NOT NULL,\n",
    "    Name TEXT NOT NULL);"
   ]
  },
  {
   "cell_type": "code",
   "execution_count": null,
   "metadata": {},
   "outputs": [],
   "source": [
    "%%sql\n",
    "CREATE TABLE Providers (\n",
    "    Code TEXT PRIMARY KEY NOT NULL,\n",
    "    NAME TEXT NOT NULL)"
   ]
  },
  {
   "cell_type": "code",
   "execution_count": null,
   "metadata": {},
   "outputs": [],
   "source": [
    "%%sql\n",
    "CREATE TABLE Provides (\n",
    "    Piece INTEGER CONSTRAINT fk_Pieces_Code REFERENCES Pieces(Code),\n",
    "    Provider TEXT CONSTRAINT fk_Providers_Code REFERENCES Providers(Code),\n",
    "    Price INTEGER NOT NULL,\n",
    "    PRIMARY KEY (Piece, Provider)\n",
    ")"
   ]
  },
  {
   "cell_type": "code",
   "execution_count": null,
   "metadata": {},
   "outputs": [],
   "source": [
    "%%sql\n",
    "INSERT INTO Providers(Code, Name) VALUES('HAL','Clarke Enterprises');\n",
    "INSERT INTO Providers(Code, Name) VALUES('RBT','Susan Calvin Corp.');\n",
    "INSERT INTO Providers(Code, Name) VALUES('TNBC','Skellington Supplies');"
   ]
  },
  {
   "cell_type": "code",
   "execution_count": null,
   "metadata": {},
   "outputs": [],
   "source": [
    "%%sql\n",
    "INSERT INTO Pieces(Code, Name) VALUES(1,'Sprocket');\n",
    "INSERT INTO Pieces(Code, Name) VALUES(2,'Screw');\n",
    "INSERT INTO Pieces(Code, Name) VALUES(3,'Nut');\n",
    "INSERT INTO Pieces(Code, Name) VALUES(4,'Bolt');"
   ]
  },
  {
   "cell_type": "code",
   "execution_count": null,
   "metadata": {},
   "outputs": [],
   "source": [
    "%%sql\n",
    "INSERT INTO Provides(Piece, Provider, Price) VALUES(1,'HAL',10);\n",
    "INSERT INTO Provides(Piece, Provider, Price) VALUES(1,'RBT',15);\n",
    "INSERT INTO Provides(Piece, Provider, Price) VALUES(2,'HAL',20);\n",
    "INSERT INTO Provides(Piece, Provider, Price) VALUES(2,'RBT',15);\n",
    "INSERT INTO Provides(Piece, Provider, Price) VALUES(2,'TNBC',14);\n",
    "INSERT INTO Provides(Piece, Provider, Price) VALUES(3,'RBT',50);\n",
    "INSERT INTO Provides(Piece, Provider, Price) VALUES(3,'TNBC',45);\n",
    "INSERT INTO Provides(Piece, Provider, Price) VALUES(4,'HAL',5);\n",
    "INSERT INTO Provides(Piece, Provider, Price) VALUES(4,'RBT',7);"
   ]
  },
  {
   "cell_type": "markdown",
   "metadata": {},
   "source": [
    "(1) Select the name of all the pieces."
   ]
  },
  {
   "cell_type": "code",
   "execution_count": null,
   "metadata": {},
   "outputs": [],
   "source": [
    "%%sql\n",
    "SELECT name FROM Pieces;"
   ]
  },
  {
   "cell_type": "markdown",
   "metadata": {},
   "source": [
    "(2) Select all the providers' data."
   ]
  },
  {
   "cell_type": "code",
   "execution_count": null,
   "metadata": {},
   "outputs": [],
   "source": [
    "%%sql\n",
    "SELECT * FROM Providers"
   ]
  },
  {
   "cell_type": "markdown",
   "metadata": {},
   "source": [
    "(3) Obtain the average price of each piece."
   ]
  },
  {
   "cell_type": "code",
   "execution_count": null,
   "metadata": {},
   "outputs": [],
   "source": [
    "%%sql\n",
    "SELECT Piece, ROUND(AVG(Price),2) 'Avg' FROM Provides\n",
    "GROUP BY Piece;"
   ]
  },
  {
   "cell_type": "markdown",
   "metadata": {},
   "source": [
    "(4) Obtain the names of all providers who supply piece 1. "
   ]
  },
  {
   "cell_type": "code",
   "execution_count": null,
   "metadata": {},
   "outputs": [],
   "source": [
    "%%sql\n",
    "SELECT p1.Name, p2.Provider\n",
    "FROM Providers p1, Provides p2\n",
    "WHERE p1.Code = p2.Provider AND\n",
    "    p2.Piece = 1;"
   ]
  },
  {
   "cell_type": "code",
   "execution_count": null,
   "metadata": {},
   "outputs": [],
   "source": [
    "%%sql\n",
    "SELECT Name\n",
    "    FROM Providers\n",
    "    WHERE Code IN\n",
    "    (SELECT Provider FROM Provides WHERE Piece = 1);"
   ]
  },
  {
   "cell_type": "markdown",
   "metadata": {},
   "source": [
    "(5) Select the name of pieces provided by provider with code 'HAL'"
   ]
  },
  {
   "cell_type": "code",
   "execution_count": null,
   "metadata": {},
   "outputs": [],
   "source": [
    "%%sql\n",
    "SELECT Name\n",
    "FROM Pieces\n",
    "WHERE Code IN (\n",
    "    SELECT Piece\n",
    "    FROM Provides\n",
    "    WHERE Provider = 'HAL');"
   ]
  },
  {
   "cell_type": "markdown",
   "metadata": {},
   "source": [
    "(6) For each piece, find the most expensive offering of that piece and include the piece name, provider name, and price. (Note that there could be two providers who supply the same piece at the most expensive price)"
   ]
  },
  {
   "cell_type": "code",
   "execution_count": null,
   "metadata": {},
   "outputs": [],
   "source": [
    "%%sql\n",
    "SELECT Pieces.Name, Providers.Name, Price\n",
    "FROM Pieces INNER JOIN Provides ON Pieces.Code = Piece\n",
    "               INNER JOIN Providers ON Providers.Code = Provider\n",
    "WHERE Price =\n",
    "(\n",
    "    SELECT MAX(Price) FROM Provides\n",
    "    WHERE Piece = Pieces.Code\n",
    "   );"
   ]
  },
  {
   "cell_type": "markdown",
   "metadata": {},
   "source": [
    "(7) Add an entry to the database to indicate that \"Skellington Supplies\" (code \"TNBC\") will provide sprockets (code \"1\") for 7 cents each."
   ]
  },
  {
   "cell_type": "code",
   "execution_count": null,
   "metadata": {},
   "outputs": [],
   "source": [
    "%%sql\n",
    "INSERT INTO Provides \n",
    "  VALUES (1, 'TNBC', 7);"
   ]
  },
  {
   "cell_type": "markdown",
   "metadata": {},
   "source": [
    "(8) Increase all prices by one cent."
   ]
  },
  {
   "cell_type": "code",
   "execution_count": null,
   "metadata": {},
   "outputs": [],
   "source": [
    "%%sql\n",
    "UPDATE Provides SET Price = Price + 1;"
   ]
  },
  {
   "cell_type": "markdown",
   "metadata": {},
   "source": [
    "(9)Update the database to reflect that \"Susan Calvin Corp.\" (code \"RBT\") will not supply bolts (code 4)."
   ]
  },
  {
   "cell_type": "code",
   "execution_count": null,
   "metadata": {},
   "outputs": [],
   "source": [
    "%%sql\n",
    " DELETE FROM Provides\n",
    "    WHERE Provider = 'RBT'\n",
    "     AND Piece = 4;"
   ]
  },
  {
   "cell_type": "markdown",
   "metadata": {},
   "source": [
    "(10) Update the database to reflect that \"Susan Calvin Corp.\" (code \"RBT\") will not supply any pieces (the provider should still remain in the database)."
   ]
  },
  {
   "cell_type": "code",
   "execution_count": null,
   "metadata": {},
   "outputs": [],
   "source": [
    "%%sql\n",
    "DELETE FROM Provides\n",
    "   WHERE Provider = 'RBT';"
   ]
  },
  {
   "cell_type": "markdown",
   "metadata": {},
   "source": [
    "### Scientists"
   ]
  },
  {
   "cell_type": "code",
   "execution_count": null,
   "metadata": {},
   "outputs": [],
   "source": [
    "%%sql\n",
    "CREATE TABLE Scientists (\n",
    "    SSN int,\n",
    "    Name Chart(30) NOT NULL,\n",
    "    Primary Key (SSN));"
   ]
  },
  {
   "cell_type": "code",
   "execution_count": null,
   "metadata": {},
   "outputs": [],
   "source": [
    "%%sql\n",
    "CREATE TABLE Projects (\n",
    "    Code CHAR(4),\n",
    "    Name CHAR (50) NOT NULL,\n",
    "    Hours INT,\n",
    "    Primary Key (Code));"
   ]
  },
  {
   "cell_type": "code",
   "execution_count": null,
   "metadata": {},
   "outputs": [],
   "source": [
    "%%sql\n",
    "CREATE TABLE AssignedTo(\n",
    "    Scientist INT NOT NULL,\n",
    "    Project CHAR(4) NOT NULL,\n",
    "    Primary Key (Scientist, Project),\n",
    "    Foreign Key (Scientist) REFERENCES Scientists(SSN),\n",
    "    Foreign Key (Project) REFERENCES Projects(Code));"
   ]
  },
  {
   "cell_type": "code",
   "execution_count": null,
   "metadata": {},
   "outputs": [],
   "source": [
    "%%sql\n",
    "INSERT INTO Scientists(SSN,Name) \n",
    "  VALUES(123234877,'Michael Rogers'),\n",
    "    (152934485,'Anand Manikutty'),\n",
    "    (222364883, 'Carol Smith'),\n",
    "    (326587417,'Joe Stevens'),\n",
    "    (332154719,'Mary-Anne Foster'),\t\n",
    "    (332569843,'George ODonnell'),\n",
    "    (546523478,'John Doe'),\n",
    "    (631231482,'David Smith'),\n",
    "    (654873219,'Zacary Efron'),\n",
    "    (745685214,'Eric Goldsmith'),\n",
    "    (845657245,'Elizabeth Doe'),\n",
    "    (845657246,'Kumar Swamy');"
   ]
  },
  {
   "cell_type": "code",
   "execution_count": null,
   "metadata": {},
   "outputs": [],
   "source": [
    "%%sql\n",
    "INSERT INTO Projects ( Code,Name,Hours)\n",
    " VALUES ('AeH1','Winds: Studying Bernoullis Principle', 156),\n",
    "    ('AeH2','Aerodynamics and Bridge Design',189),\n",
    "    ('AeH3','Aerodynamics and Gas Mileage', 256),\n",
    "    ('AeH4','Aerodynamics and Ice Hockey', 789),\n",
    "    ('AeH5','Aerodynamics of a Football', 98),\n",
    "    ('AeH6','Aerodynamics of Air Hockey',89),\n",
    "    ('Ast1','A Matter of Time',112),\n",
    "    ('Ast2','A Puzzling Parallax', 299),\n",
    "    ('Ast3','Build Your Own Telescope', 6546),\n",
    "    ('Bte1','Juicy: Extracting Apple Juice with Pectinase', 321),\n",
    "    ('Bte2','A Magnetic Primer Designer', 9684),\n",
    "    ('Bte3','Bacterial Transformation Efficiency', 321),\n",
    "    ('Che1','A Silver-Cleaning Battery', 545),\n",
    "    ('Che2','A Soluble Separation Solution', 778);\n"
   ]
  },
  {
   "cell_type": "code",
   "execution_count": null,
   "metadata": {},
   "outputs": [],
   "source": [
    "%%sql\n",
    "INSERT INTO AssignedTo ( Scientist, Project)\n",
    "   VALUES (123234877,'AeH1'),\n",
    "    (152934485,'AeH3'),\n",
    "    (222364883,'Ast3'),\t   \n",
    "    (326587417,'Ast3'),\n",
    "    (332154719,'Bte1'),\n",
    "    (546523478,'Che1'),\n",
    "    (631231482,'Ast3'),\n",
    "    (654873219,'Che1'),\n",
    "    (745685214,'AeH3'),\n",
    "    (845657245,'Ast1'),\n",
    "    (845657246,'Ast2'),\n",
    "    (332569843,'AeH4');"
   ]
  },
  {
   "cell_type": "markdown",
   "metadata": {},
   "source": [
    "List all the scientists' names, their projects'names, and the hours worked by that scientist on each project, in alphabetical order of project name, then scientist name."
   ]
  },
  {
   "cell_type": "code",
   "execution_count": null,
   "metadata": {},
   "outputs": [],
   "source": [
    "%%sql\n",
    "SELECT s.*,a.*,p.*\n",
    "FROM Scientists s JOIN AssignedTo a ON s.SSN = a.Scientist\n",
    "    JOIN Projects p ON a.Project = p.Code\n",
    "ORDER BY p.Name, s.Name"
   ]
  },
  {
   "cell_type": "markdown",
   "metadata": {},
   "source": [
    "### Planet Express"
   ]
  },
  {
   "cell_type": "markdown",
   "metadata": {},
   "source": [
    "<img src=\"//upload.wikimedia.org/wikipedia/commons/c/c0/Planet-express-db.png\"> </img>"
   ]
  },
  {
   "cell_type": "code",
   "execution_count": null,
   "metadata": {},
   "outputs": [],
   "source": [
    "%%sql\n",
    "CREATE TABLE Employee (\n",
    "   EmployeeID INTEGER PRIMARY KEY NOT NULL,\n",
    "   Name TEXT NOT NULL,\n",
    "   Position TEXT NOT NULL,\n",
    "   Salary REAL NOT NULL,\n",
    "   Remarks TEXT\n",
    " );"
   ]
  },
  {
   "cell_type": "code",
   "execution_count": null,
   "metadata": {},
   "outputs": [],
   "source": [
    "%%sql\n",
    "CREATE TABLE Planet (\n",
    "   PlanetID INTEGER PRIMARY KEY NOT NULL,\n",
    "   Name TEXT NOT NULL,\n",
    "   Coordinates REAL NOT NULL\n",
    " );"
   ]
  },
  {
   "cell_type": "code",
   "execution_count": null,
   "metadata": {},
   "outputs": [],
   "source": [
    "%%sql\n",
    "CREATE TABLE Shipment (\n",
    "    ShipmentID INTEGER PRIMARY KEY NOT NULL,\n",
    "    Date TEXT,\n",
    "    Manager INTEGER NOT NULL\n",
    "    CONSTRAINT fk_Employee_EmployeeID REFERENCES Employee(EmployeeID),\n",
    "    Planet INTEGER NOT NULL\n",
    "    CONSTRAINT fk_Planet_PlanetID REFERENCES Planet(PlanetID));"
   ]
  },
  {
   "cell_type": "code",
   "execution_count": null,
   "metadata": {},
   "outputs": [],
   "source": [
    "%%sql\n",
    "CREATE TABLE Has_Clearance (\n",
    "    Employee INTEGER NOT NULL\n",
    "    CONSTRAINT fk_Employee_EmployeeID REFERENCES Employee(EmployeeID),\n",
    "    Planet INTEGER NOT NULL\n",
    "    CONSTRAINT fk_Planet_PlanetID REFERENCES Planet(PlanetID),\n",
    "    Level INTEGER NOT NULL,\n",
    "    PRIMARY KEY(Employee, Planet)\n",
    "    );"
   ]
  },
  {
   "cell_type": "code",
   "execution_count": null,
   "metadata": {},
   "outputs": [],
   "source": [
    "%%sql\n",
    "CREATE TABLE Client(\n",
    "    AccountNumber INTEGER PRIMARY KEY NOT NULL,\n",
    "    Name TEXT NOT NULL);"
   ]
  },
  {
   "cell_type": "code",
   "execution_count": null,
   "metadata": {},
   "outputs": [],
   "source": [
    "%%sql\n",
    "CREATE TABLE Package (\n",
    "    Shipment INTEGER NOT NULL\n",
    "    CONSTRAINT fk_Shipment_ShipmentID REFERENCES Shipment(ShipmentID),\n",
    "    PackageNumber INTEGER NOT NULL,\n",
    "    Contents TEXT NOT NULL,\n",
    "    Weight REAL NOT NULL,\n",
    "    Sender INTEGER NOT NULL\n",
    "    CONSTRAINT fk_Client_AccountNumber REFERENCES Client(AccountNumber),\n",
    "    Recipient INTEGER NOT NULL\n",
    "    CONSTRAINT fk_Client_AccountNumber REFERENCES Client(AccountNumber),\n",
    "    PRIMARY KEY (Shipment, PackageNumber));"
   ]
  },
  {
   "cell_type": "code",
   "execution_count": null,
   "metadata": {},
   "outputs": [],
   "source": [
    "%%sql\n",
    "INSERT INTO Client VALUES(1, 'Zapp Brannigan');\n",
    "INSERT INTO Client VALUES(2, 'Al Gore‘’s Head');\n",
    "INSERT INTO Client VALUES(3, 'Barbados Slim');\n",
    "INSERT INTO Client VALUES(4, 'Ogden Wernstrom');\n",
    "INSERT INTO Client VALUES(5, 'Leo Wong');\n",
    "INSERT INTO Client VALUES(6, 'Lrrr');\n",
    "INSERT INTO Client VALUES(7, 'John Zoidberg');\n",
    "INSERT INTO Client VALUES(8, 'John Zoidfarb');\n",
    "INSERT INTO Client VALUES(9, 'Morbo');\n",
    "INSERT INTO Client VALUES(10, 'Judge John Whitey');\n",
    "INSERT INTO Client VALUES(11, 'Calculon');\n",
    "INSERT INTO Employee VALUES(1, 'Phillip J. Fry', 'Delivery boy', 7500.0, 'Not to be confused with the Philip J. Fry from Hovering Squid World 97a');\n",
    "INSERT INTO Employee VALUES(2, 'Turanga Leela', 'Captain', 10000.0, NULL);\n",
    "INSERT INTO Employee VALUES(3, 'Bender Bending Rodriguez', 'Robot', 7500.0, NULL);\n",
    "INSERT INTO Employee VALUES(4, 'Hubert J. Farnsworth', 'CEO', 20000.0, NULL);\n",
    "INSERT INTO Employee VALUES(5, 'John A. Zoidberg', 'Physician', 25.0, NULL);\n",
    "INSERT INTO Employee VALUES(6, 'Amy Wong', 'Intern', 5000.0, NULL);\n",
    "INSERT INTO Employee VALUES(7, 'Hermes Conrad', 'Bureaucrat', 10000.0, NULL);\n",
    "INSERT INTO Employee VALUES(8, 'Scruffy Scruffington', 'Janitor', 5000.0, NULL);\n",
    "INSERT INTO Planet VALUES(1, 'Omicron Persei 8', 89475345.3545);\n",
    "INSERT INTO Planet VALUES(2, 'Decapod X', 65498463216.3466);\n",
    "INSERT INTO Planet VALUES(3, 'Mars', 32435021.65468);\n",
    "INSERT INTO Planet VALUES(4, 'Omega III', 98432121.5464);\n",
    "INSERT INTO Planet VALUES(5, 'Tarantulon VI', 849842198.354654);\n",
    "INSERT INTO Planet VALUES(6, 'Cannibalon', 654321987.21654);\n",
    "INSERT INTO Planet VALUES(7, 'DogDoo VII', 65498721354.688);\n",
    "INSERT INTO Planet VALUES(8, 'Nintenduu 64', 6543219894.1654);\n",
    "INSERT INTO Planet VALUES(9, 'Amazonia', 65432135979.6547);\n",
    "INSERT INTO Has_Clearance VALUES(1, 1, 2);\n",
    "INSERT INTO Has_Clearance VALUES(1, 2, 3);\n",
    "INSERT INTO Has_Clearance VALUES(2, 3, 2);\n",
    "INSERT INTO Has_Clearance VALUES(2, 4, 4);\n",
    "INSERT INTO Has_Clearance VALUES(3, 5, 2);\n",
    "INSERT INTO Has_Clearance VALUES(3, 6, 4);\n",
    "INSERT INTO Has_Clearance VALUES(4, 7, 1);\n",
    "INSERT INTO Shipment VALUES(1, '3004/05/11', 1, 1);\n",
    "INSERT INTO Shipment VALUES(2, '3004/05/11', 1, 2);\n",
    "INSERT INTO Shipment VALUES(3, NULL, 2, 3);\n",
    "INSERT INTO Shipment VALUES(4, NULL, 2, 4);\n",
    "INSERT INTO Shipment VALUES(5, NULL, 7, 5);\n",
    "INSERT INTO Package VALUES(1, 1, 'Undeclared', 1.5, 1, 2);\n",
    "INSERT INTO Package VALUES(2, 1, 'Undeclared', 10.0, 2, 3);\n",
    "INSERT INTO Package VALUES(2, 2, 'A bucket of krill', 2.0, 8, 7);\n",
    "INSERT INTO Package VALUES(3, 1, 'Undeclared', 15.0, 3, 4);\n",
    "INSERT INTO Package VALUES(3, 2, 'Undeclared', 3.0, 5, 1);\n",
    "INSERT INTO Package VALUES(3, 3, 'Undeclared', 7.0, 2, 3);\n",
    "INSERT INTO Package VALUES(4, 1, 'Undeclared', 5.0, 4, 5);\n",
    "INSERT INTO Package VALUES(4, 2, 'Undeclared', 27.0, 1, 2);\n",
    "INSERT INTO Package VALUES(5, 1, 'Undeclared', 100.0, 5, 1);"
   ]
  },
  {
   "cell_type": "markdown",
   "metadata": {},
   "source": [
    "(1) Who received a 1.5KG Package?"
   ]
  },
  {
   "cell_type": "code",
   "execution_count": null,
   "metadata": {},
   "outputs": [],
   "source": [
    "%%sql\n",
    "SELECT Name,AccountNumber\n",
    "FROM Client\n",
    "WHERE AccountNumber IN (\n",
    "    SELECT Recipient\n",
    "    FROM Package\n",
    "    WHERE Weight = 1.5);"
   ]
  },
  {
   "cell_type": "markdown",
   "metadata": {},
   "source": [
    "(2) What is the total weight of all the packages that he sent"
   ]
  },
  {
   "cell_type": "code",
   "execution_count": null,
   "metadata": {},
   "outputs": [],
   "source": [
    "%%sql\n",
    "SELECT SUM(Weight)\n",
    "FROM Package\n",
    "WHERE Sender IN\n",
    "(SELECT Recipient\n",
    "FROM Package\n",
    "WHERE Recipient IN (\n",
    "    SELECT Recipient\n",
    "    FROM Package\n",
    "    WHERE Weight = 1.5));"
   ]
  },
  {
   "cell_type": "markdown",
   "metadata": {},
   "source": [
    "(3) Which pilots transported those packages?"
   ]
  },
  {
   "cell_type": "code",
   "execution_count": null,
   "metadata": {},
   "outputs": [],
   "source": [
    "%%sql\n",
    "SELECT Name\n",
    "FROM Employee\n",
    "WHERE EmployeeID IN\n",
    "    (SELECT Manager\n",
    "    FROM Shipment\n",
    "    WHERE ShipmentID IN\n",
    "        (SELECT Shipment\n",
    "        FROM Package\n",
    "        WHERE Sender IN\n",
    "            (SELECT Recipient\n",
    "            FROM Package\n",
    "            WHERE Weight = 1.5)));"
   ]
  },
  {
   "cell_type": "markdown",
   "metadata": {},
   "source": [
    "### The Hospital"
   ]
  },
  {
   "cell_type": "markdown",
   "metadata": {},
   "source": [
    "<img src=\"//upload.wikimedia.org/wikipedia/commons/b/b8/Sql_hospital.png\"></img>"
   ]
  },
  {
   "cell_type": "code",
   "execution_count": null,
   "metadata": {},
   "outputs": [],
   "source": [
    "%%sql\n",
    "CREATE TABLE Physician (\n",
    "  EmployeeID INTEGER PRIMARY KEY NOT NULL,\n",
    "  Name TEXT NOT NULL,\n",
    "  Position TEXT NOT NULL,\n",
    "  SSN INTEGER NOT NULL\n",
    "); \n",
    "\n",
    "CREATE TABLE Department (\n",
    "  DepartmentID INTEGER PRIMARY KEY NOT NULL,\n",
    "  Name TEXT NOT NULL,\n",
    "  Head INTEGER NOT NULL\n",
    "    CONSTRAINT fk_Physician_EmployeeID REFERENCES Physician(EmployeeID)\n",
    ");\n",
    "\n",
    "CREATE TABLE Affiliated_With (\n",
    "  Physician INTEGER NOT NULL\n",
    "    CONSTRAINT fk_Physician_EmployeeID REFERENCES Physician(EmployeeID),\n",
    "  Department INTEGER NOT NULL\n",
    "    CONSTRAINT fk_Department_DepartmentID REFERENCES Department(DepartmentID),\n",
    "  PrimaryAffiliation BOOLEAN NOT NULL,\n",
    "  PRIMARY KEY(Physician, Department)\n",
    ");\n",
    "\n",
    "CREATE TABLE Procedure (\n",
    "  Code INTEGER PRIMARY KEY NOT NULL,\n",
    "  Name TEXT NOT NULL,\n",
    "  Cost REAL NOT NULL\n",
    ");\n",
    "\n",
    "CREATE TABLE Trained_In (\n",
    "  Physician INTEGER NOT NULL\n",
    "    CONSTRAINT fk_Physician_EmployeeID REFERENCES Physician(EmployeeID),\n",
    "  Treatment INTEGER NOT NULL\n",
    "    CONSTRAINT fk_Procedure_Code REFERENCES Procedure(Code),\n",
    "  CertificationDate DATETIME NOT NULL,\n",
    "  CertificationExpires DATETIME NOT NULL,\n",
    "  PRIMARY KEY(Physician, Treatment)\n",
    ");\n",
    "\n",
    "CREATE TABLE Patient (\n",
    "  SSN INTEGER PRIMARY KEY NOT NULL,\n",
    "  Name TEXT NOT NULL,\n",
    "  Address TEXT NOT NULL,\n",
    "  Phone TEXT NOT NULL,\n",
    "  InsuranceID INTEGER NOT NULL,\n",
    "  PCP INTEGER NOT NULL\n",
    "    CONSTRAINT fk_Physician_EmployeeID REFERENCES Physician(EmployeeID)\n",
    ");\n",
    "\n",
    "CREATE TABLE Nurse (\n",
    "  EmployeeID INTEGER PRIMARY KEY NOT NULL,\n",
    "  Name TEXT NOT NULL,\n",
    "  Position TEXT NOT NULL,\n",
    "  Registered BOOLEAN NOT NULL,\n",
    "  SSN INTEGER NOT NULL\n",
    ");\n",
    "\n",
    "CREATE TABLE Appointment (\n",
    "  AppointmentID INTEGER PRIMARY KEY NOT NULL,\n",
    "  Patient INTEGER NOT NULL\n",
    "    CONSTRAINT fk_Patient_SSN REFERENCES Patient(SSN),\n",
    "  PrepNurse INTEGER\n",
    "    CONSTRAINT fk_Nurse_EmployeeID REFERENCES Nurse(EmployeeID),\n",
    "  Physician INTEGER NOT NULL\n",
    "    CONSTRAINT fk_Physician_EmployeeID REFERENCES Physician(EmployeeID),\n",
    "  Start DATETIME NOT NULL,\n",
    "  End DATETIME NOT NULL,\n",
    "  ExaminationRoom TEXT NOT NULL\n",
    ");\n",
    "\n",
    "CREATE TABLE Medication (\n",
    "  Code INTEGER PRIMARY KEY NOT NULL,\n",
    "  Name TEXT NOT NULL,\n",
    "  Brand TEXT NOT NULL,\n",
    "  Description TEXT NOT NULL\n",
    ");\n",
    "\n",
    "CREATE TABLE Prescribes (\n",
    "  Physician INTEGER NOT NULL\n",
    "    CONSTRAINT fk_Physician_EmployeeID REFERENCES Physician(EmployeeID),\n",
    "  Patient INTEGER NOT NULL\n",
    "    CONSTRAINT fk_Patient_SSN REFERENCES Patient(SSN),\n",
    "  Medication INTEGER NOT NULL\n",
    "    CONSTRAINT fk_Medication_Code REFERENCES Medication(Code),\n",
    "  Date DATETIME NOT NULL,\n",
    "  Appointment INTEGER\n",
    "    CONSTRAINT fk_Appointment_AppointmentID REFERENCES Appointment(AppointmentID),\n",
    "  Dose TEXT NOT NULL,\n",
    "  PRIMARY KEY(Physician, Patient, Medication, Date)\n",
    ");\n",
    "\n",
    "CREATE TABLE Block (\n",
    "  Floor INTEGER NOT NULL,\n",
    "  Code INTEGER NOT NULL,\n",
    "  PRIMARY KEY(Floor, Code)\n",
    "); \n",
    "\n",
    "CREATE TABLE Room (\n",
    "  Number INTEGER PRIMARY KEY NOT NULL,\n",
    "  Type TEXT NOT NULL,\n",
    "  BlockFloor INTEGER NOT NULL\n",
    "    CONSTRAINT fk_Block_Floor REFERENCES Block(Floor),\n",
    "  BlockCode INTEGER NOT NULL\n",
    "    CONSTRAINT fk_Block_Code REFERENCES Block(Code),\n",
    "  Unavailable BOOLEAN NOT NULL\n",
    ");\n",
    "\n",
    "CREATE TABLE On_Call (\n",
    "  Nurse INTEGER NOT NULL\n",
    "    CONSTRAINT fk_Nurse_EmployeeID REFERENCES Nurse(EmployeeID),\n",
    "  BlockFloor INTEGER NOT NULL\n",
    "    CONSTRAINT fk_Block_Floor REFERENCES Block(Floor),\n",
    "  BlockCode INTEGER NOT NULL\n",
    "    CONSTRAINT fk_Block_Code REFERENCES Block(Code),\n",
    "  Start DATETIME NOT NULL,\n",
    "  End DATETIME NOT NULL,\n",
    "  PRIMARY KEY(Nurse, BlockFloor, BlockCode, Start, End)\n",
    ");\n",
    "\n",
    "CREATE TABLE Stay (\n",
    "  StayID INTEGER PRIMARY KEY NOT NULL,\n",
    "  Patient INTEGER NOT NULL\n",
    "    CONSTRAINT fk_Patient_SSN REFERENCES Patient(SSN),\n",
    "  Room INTEGER NOT NULL\n",
    "    CONSTRAINT fk_Room_Number REFERENCES Room(Number),\n",
    "  Start DATETIME NOT NULL,\n",
    "  End DATETIME NOT NULL\n",
    ");\n",
    "\n",
    "CREATE TABLE Undergoes (\n",
    "  Patient INTEGER NOT NULL\n",
    "    CONSTRAINT fk_Patient_SSN REFERENCES Patient(SSN),\n",
    "  Procedure INTEGER NOT NULL\n",
    "    CONSTRAINT fk_Procedure_Code REFERENCES Procedure(Code),\n",
    "  Stay INTEGER NOT NULL\n",
    "    CONSTRAINT fk_Stay_StayID REFERENCES Stay(StayID),\n",
    "  Date DATETIME NOT NULL,\n",
    "  Physician INTEGER NOT NULL\n",
    "    CONSTRAINT fk_Physician_EmployeeID REFERENCES Physician(EmployeeID),\n",
    "  AssistingNurse INTEGER\n",
    "    CONSTRAINT fk_Nurse_EmployeeID REFERENCES Nurse(EmployeeID),\n",
    "  PRIMARY KEY(Patient, Procedure, Stay, Date)\n",
    ");"
   ]
  },
  {
   "cell_type": "code",
   "execution_count": null,
   "metadata": {},
   "outputs": [],
   "source": [
    "%%sql\n",
    "INSERT INTO Physician VALUES(1,'John Dorian','Staff Internist',111111111);\n",
    "INSERT INTO Physician VALUES(2,'Elliot Reid','Attending Physician',222222222);\n",
    "INSERT INTO Physician VALUES(3,'Christopher Turk','Surgical Attending Physician',333333333);\n",
    "INSERT INTO Physician VALUES(4,'Percival Cox','Senior Attending Physician',444444444);\n",
    "INSERT INTO Physician VALUES(5,'Bob Kelso','Head Chief of Medicine',555555555);\n",
    "INSERT INTO Physician VALUES(6,'Todd Quinlan','Surgical Attending Physician',666666666);\n",
    "INSERT INTO Physician VALUES(7,'John Wen','Surgical Attending Physician',777777777);\n",
    "INSERT INTO Physician VALUES(8,'Keith Dudemeister','MD Resident',888888888);\n",
    "INSERT INTO Physician VALUES(9,'Molly Clock','Attending Psychiatrist',999999999);\n",
    "\n",
    "INSERT INTO Department VALUES(1,'General Medicine',4);\n",
    "INSERT INTO Department VALUES(2,'Surgery',7);\n",
    "INSERT INTO Department VALUES(3,'Psychiatry',9);\n",
    "\n",
    "INSERT INTO Affiliated_With VALUES(1,1,1);\n",
    "INSERT INTO Affiliated_With VALUES(2,1,1);\n",
    "INSERT INTO Affiliated_With VALUES(3,1,0);\n",
    "INSERT INTO Affiliated_With VALUES(3,2,1);\n",
    "INSERT INTO Affiliated_With VALUES(4,1,1);\n",
    "INSERT INTO Affiliated_With VALUES(5,1,1);\n",
    "INSERT INTO Affiliated_With VALUES(6,2,1);\n",
    "INSERT INTO Affiliated_With VALUES(7,1,0);\n",
    "INSERT INTO Affiliated_With VALUES(7,2,1);\n",
    "INSERT INTO Affiliated_With VALUES(8,1,1);\n",
    "INSERT INTO Affiliated_With VALUES(9,3,1);\n",
    "\n",
    "INSERT INTO Procedure VALUES(1,'Reverse Rhinopodoplasty',1500.0);\n",
    "INSERT INTO Procedure VALUES(2,'Obtuse Pyloric Recombobulation',3750.0);\n",
    "INSERT INTO Procedure VALUES(3,'Folded Demiophtalmectomy',4500.0);\n",
    "INSERT INTO Procedure VALUES(4,'Complete Walletectomy',10000.0);\n",
    "INSERT INTO Procedure VALUES(5,'Obfuscated Dermogastrotomy',4899.0);\n",
    "INSERT INTO Procedure VALUES(6,'Reversible Pancreomyoplasty',5600.0);\n",
    "INSERT INTO Procedure VALUES(7,'Follicular Demiectomy',25.0);\n",
    "\n",
    "INSERT INTO Patient VALUES(100000001,'John Smith','42 Foobar Lane','555-0256',68476213,1);\n",
    "INSERT INTO Patient VALUES(100000002,'Grace Ritchie','37 Snafu Drive','555-0512',36546321,2);\n",
    "INSERT INTO Patient VALUES(100000003,'Random J. Patient','101 Omgbbq Street','555-1204',65465421,2);\n",
    "INSERT INTO Patient VALUES(100000004,'Dennis Doe','1100 Foobaz Avenue','555-2048',68421879,3);\n",
    "\n",
    "INSERT INTO Nurse VALUES(101,'Carla Espinosa','Head Nurse',1,111111110);\n",
    "INSERT INTO Nurse VALUES(102,'Laverne Roberts','Nurse',1,222222220);\n",
    "INSERT INTO Nurse VALUES(103,'Paul Flowers','Nurse',0,333333330);\n",
    "\n",
    "INSERT INTO Appointment VALUES(13216584,100000001,101,1,'2008-04-24 10:00','2008-04-24 11:00','A');\n",
    "INSERT INTO Appointment VALUES(26548913,100000002,101,2,'2008-04-24 10:00','2008-04-24 11:00','B');\n",
    "INSERT INTO Appointment VALUES(36549879,100000001,102,1,'2008-04-25 10:00','2008-04-25 11:00','A');\n",
    "INSERT INTO Appointment VALUES(46846589,100000004,103,4,'2008-04-25 10:00','2008-04-25 11:00','B');\n",
    "INSERT INTO Appointment VALUES(59871321,100000004,NULL,4,'2008-04-26 10:00','2008-04-26 11:00','C');\n",
    "INSERT INTO Appointment VALUES(69879231,100000003,103,2,'2008-04-26 11:00','2008-04-26 12:00','C');\n",
    "INSERT INTO Appointment VALUES(76983231,100000001,NULL,3,'2008-04-26 12:00','2008-04-26 13:00','C');\n",
    "INSERT INTO Appointment VALUES(86213939,100000004,102,9,'2008-04-27 10:00','2008-04-21 11:00','A');\n",
    "INSERT INTO Appointment VALUES(93216548,100000002,101,2,'2008-04-27 10:00','2008-04-27 11:00','B');\n",
    "\n",
    "INSERT INTO Medication VALUES(1,'Procrastin-X','X','N/A');\n",
    "INSERT INTO Medication VALUES(2,'Thesisin','Foo Labs','N/A');\n",
    "INSERT INTO Medication VALUES(3,'Awakin','Bar Laboratories','N/A');\n",
    "INSERT INTO Medication VALUES(4,'Crescavitin','Baz Industries','N/A');\n",
    "INSERT INTO Medication VALUES(5,'Melioraurin','Snafu Pharmaceuticals','N/A');\n",
    "\n",
    "INSERT INTO Prescribes VALUES(1,100000001,1,'2008-04-24 10:47',13216584,'5');\n",
    "INSERT INTO Prescribes VALUES(9,100000004,2,'2008-04-27 10:53',86213939,'10');\n",
    "INSERT INTO Prescribes VALUES(9,100000004,2,'2008-04-30 16:53',NULL,'5');\n",
    "\n",
    "INSERT INTO Block VALUES(1,1);\n",
    "INSERT INTO Block VALUES(1,2);\n",
    "INSERT INTO Block VALUES(1,3);\n",
    "INSERT INTO Block VALUES(2,1);\n",
    "INSERT INTO Block VALUES(2,2);\n",
    "INSERT INTO Block VALUES(2,3);\n",
    "INSERT INTO Block VALUES(3,1);\n",
    "INSERT INTO Block VALUES(3,2);\n",
    "INSERT INTO Block VALUES(3,3);\n",
    "INSERT INTO Block VALUES(4,1);\n",
    "INSERT INTO Block VALUES(4,2);\n",
    "INSERT INTO Block VALUES(4,3);\n",
    "\n",
    "INSERT INTO Room VALUES(101,'Single',1,1,0);\n",
    "INSERT INTO Room VALUES(102,'Single',1,1,0);\n",
    "INSERT INTO Room VALUES(103,'Single',1,1,0);\n",
    "INSERT INTO Room VALUES(111,'Single',1,2,0);\n",
    "INSERT INTO Room VALUES(112,'Single',1,2,1);\n",
    "INSERT INTO Room VALUES(113,'Single',1,2,0);\n",
    "INSERT INTO Room VALUES(121,'Single',1,3,0);\n",
    "INSERT INTO Room VALUES(122,'Single',1,3,0);\n",
    "INSERT INTO Room VALUES(123,'Single',1,3,0);\n",
    "INSERT INTO Room VALUES(201,'Single',2,1,1);\n",
    "INSERT INTO Room VALUES(202,'Single',2,1,0);\n",
    "INSERT INTO Room VALUES(203,'Single',2,1,0);\n",
    "INSERT INTO Room VALUES(211,'Single',2,2,0);\n",
    "INSERT INTO Room VALUES(212,'Single',2,2,0);\n",
    "INSERT INTO Room VALUES(213,'Single',2,2,1);\n",
    "INSERT INTO Room VALUES(221,'Single',2,3,0);\n",
    "INSERT INTO Room VALUES(222,'Single',2,3,0);\n",
    "INSERT INTO Room VALUES(223,'Single',2,3,0);\n",
    "INSERT INTO Room VALUES(301,'Single',3,1,0);\n",
    "INSERT INTO Room VALUES(302,'Single',3,1,1);\n",
    "INSERT INTO Room VALUES(303,'Single',3,1,0);\n",
    "INSERT INTO Room VALUES(311,'Single',3,2,0);\n",
    "INSERT INTO Room VALUES(312,'Single',3,2,0);\n",
    "INSERT INTO Room VALUES(313,'Single',3,2,0);\n",
    "INSERT INTO Room VALUES(321,'Single',3,3,1);\n",
    "INSERT INTO Room VALUES(322,'Single',3,3,0);\n",
    "INSERT INTO Room VALUES(323,'Single',3,3,0);\n",
    "INSERT INTO Room VALUES(401,'Single',4,1,0);\n",
    "INSERT INTO Room VALUES(402,'Single',4,1,1);\n",
    "INSERT INTO Room VALUES(403,'Single',4,1,0);\n",
    "INSERT INTO Room VALUES(411,'Single',4,2,0);\n",
    "INSERT INTO Room VALUES(412,'Single',4,2,0);\n",
    "INSERT INTO Room VALUES(413,'Single',4,2,0);\n",
    "INSERT INTO Room VALUES(421,'Single',4,3,1);\n",
    "INSERT INTO Room VALUES(422,'Single',4,3,0);\n",
    "INSERT INTO Room VALUES(423,'Single',4,3,0);\n",
    "\n",
    "INSERT INTO On_Call VALUES(101,1,1,'2008-11-04 11:00','2008-11-04 19:00');\n",
    "INSERT INTO On_Call VALUES(101,1,2,'2008-11-04 11:00','2008-11-04 19:00');\n",
    "INSERT INTO On_Call VALUES(102,1,3,'2008-11-04 11:00','2008-11-04 19:00');\n",
    "INSERT INTO On_Call VALUES(103,1,1,'2008-11-04 19:00','2008-11-05 03:00');\n",
    "INSERT INTO On_Call VALUES(103,1,2,'2008-11-04 19:00','2008-11-05 03:00');\n",
    "INSERT INTO On_Call VALUES(103,1,3,'2008-11-04 19:00','2008-11-05 03:00');\n",
    "\n",
    "INSERT INTO Stay VALUES(3215,100000001,111,'2008-05-01','2008-05-04');\n",
    "INSERT INTO Stay VALUES(3216,100000003,123,'2008-05-03','2008-05-14');\n",
    "INSERT INTO Stay VALUES(3217,100000004,112,'2008-05-02','2008-05-03');\n",
    "\n",
    "INSERT INTO Undergoes VALUES(100000001,6,3215,'2008-05-02',3,101);\n",
    "INSERT INTO Undergoes VALUES(100000001,2,3215,'2008-05-03',7,101);\n",
    "INSERT INTO Undergoes VALUES(100000004,1,3217,'2008-05-07',3,102);\n",
    "INSERT INTO Undergoes VALUES(100000004,5,3217,'2008-05-09',6,NULL);\n",
    "INSERT INTO Undergoes VALUES(100000001,7,3217,'2008-05-10',7,101);\n",
    "INSERT INTO Undergoes VALUES(100000004,4,3217,'2008-05-13',3,103);\n",
    "\n",
    "INSERT INTO Trained_In VALUES(3,1,'2008-01-01','2008-12-31');\n",
    "INSERT INTO Trained_In VALUES(3,2,'2008-01-01','2008-12-31');\n",
    "INSERT INTO Trained_In VALUES(3,5,'2008-01-01','2008-12-31');\n",
    "INSERT INTO Trained_In VALUES(3,6,'2008-01-01','2008-12-31');\n",
    "INSERT INTO Trained_In VALUES(3,7,'2008-01-01','2008-12-31');\n",
    "INSERT INTO Trained_In VALUES(6,2,'2008-01-01','2008-12-31');\n",
    "INSERT INTO Trained_In VALUES(6,5,'2007-01-01','2007-12-31');\n",
    "INSERT INTO Trained_In VALUES(6,6,'2008-01-01','2008-12-31');\n",
    "INSERT INTO Trained_In VALUES(7,1,'2008-01-01','2008-12-31');\n",
    "INSERT INTO Trained_In VALUES(7,2,'2008-01-01','2008-12-31');\n",
    "INSERT INTO Trained_In VALUES(7,3,'2008-01-01','2008-12-31');\n",
    "INSERT INTO Trained_In VALUES(7,4,'2008-01-01','2008-12-31');\n",
    "INSERT INTO Trained_In VALUES(7,5,'2008-01-01','2008-12-31');\n",
    "INSERT INTO Trained_In VALUES(7,6,'2008-01-01','2008-12-31');\n",
    "INSERT INTO Trained_In VALUES(7,7,'2008-01-01','2008-12-31');"
   ]
  },
  {
   "cell_type": "markdown",
   "metadata": {},
   "source": [
    "[Solution](https://en.wikibooks.org/wiki/SQL_Exercises/The_Hospital)"
   ]
  },
  {
   "cell_type": "markdown",
   "metadata": {},
   "source": [
    "(1) Obtain the names of all physicians that have performed a mediacl procedure they have never been certified to perform."
   ]
  },
  {
   "cell_type": "markdown",
   "metadata": {},
   "source": [
    "(2)Same as the previous query, but include the following information in the results: Physician name, name of procedure, date when the procedure was carried out, name of the patient the procddure was carried out on."
   ]
  },
  {
   "cell_type": "markdown",
   "metadata": {},
   "source": [
    "(3) Obtain the names of all physicians that have performed a medical procedure that the are certified to perform, but such that the procedure was done at a date (Undergoes.Date) after the physician's certification expired (Trained_In.Certification)."
   ]
  },
  {
   "cell_type": "markdown",
   "metadata": {},
   "source": [
    "(4) Same as the previous query, but include the following information in the results: Physician name, name of procedure, date when the procedure was carried out, name of the patient the procedure was carried out on, and date when the certification expired."
   ]
  },
  {
   "cell_type": "markdown",
   "metadata": {},
   "source": [
    "(5) Obtain the information for appointments where a patient met with a physician other than his/her primary care physician. Show the following information: Patient name, physician name, nurse name (if any), start and end time of appointment, examination room, and the name of the patient's primary care physician."
   ]
  },
  {
   "cell_type": "markdown",
   "metadata": {},
   "source": [
    "(6) The Patient field in Undergoes is redundant, since we can obtain it from the Stay table. There are no constraints in force to prevent inconsistencies between these two tables. More specifically, the Undergoes table may include a row where the patient ID does not match the one we would obtain from the Stay table through the Undergoes.Stay foreign key. Select all rows from Undergoes that exhibit this inconsistency."
   ]
  },
  {
   "cell_type": "markdown",
   "metadata": {},
   "source": [
    "(7) Obtain the names of all the nurses who have ever been on call for room 123."
   ]
  },
  {
   "cell_type": "markdown",
   "metadata": {},
   "source": [
    "(8) The hospital has several examination rooms where appointments take place. Obtain the number of appointments that have taken place in each examination room."
   ]
  },
  {
   "cell_type": "markdown",
   "metadata": {},
   "source": [
    "(9) Obtain the names of all patients (also include, for each patient, the name of the patient's primary care physician), such that \\emph{all} the following are true:\n",
    "\n",
    "The patient has been prescribed some medication by his/her primary care physician.\n",
    "The patient has undergone a procedure with a cost larger that $5,000\n",
    "The patient has had at least two appointment where the nurse who prepped the appointment was a registered nurse.\n",
    "The patient's primary care physician is not the head of any department."
   ]
  }
 ],
 "metadata": {
  "kernelspec": {
   "display_name": "Python 3",
   "language": "python",
   "name": "python3"
  },
  "language_info": {
   "codemirror_mode": {
    "name": "ipython",
    "version": 3
   },
   "file_extension": ".py",
   "mimetype": "text/x-python",
   "name": "python",
   "nbconvert_exporter": "python",
   "pygments_lexer": "ipython3",
   "version": "3.6.8"
  }
 },
 "nbformat": 4,
 "nbformat_minor": 2
}
